{
 "cells": [
  {
   "cell_type": "markdown",
   "id": "3e81ce90",
   "metadata": {},
   "source": [
    "# NLP - Word2vec Demo"
   ]
  },
  {
   "cell_type": "markdown",
   "id": "cb05b6f4",
   "metadata": {},
   "source": [
    "    "
   ]
  },
  {
   "cell_type": "markdown",
   "id": "4dbbc255",
   "metadata": {},
   "source": [
    "# 1. Train Your Own Word2Vec Model"
   ]
  },
  {
   "cell_type": "markdown",
   "id": "73ba30a3",
   "metadata": {},
   "source": [
    "## Different ways of importing text data\n",
    "\n",
    "1. Web scrapping\n",
    "2. Pdf/Word Files\n",
    "\n",
    "The `requests.get(url)` function is used to fetch the HTML content of the **url** specified. The HTML content is then passed to the **BeautifulSoup constructor**, which returns a **BeautifulSoup object** that can be used to parse the HTML.\n",
    "\n",
    "`soup.find_all(\"p\")[:3]` expression is used to find all the **<p>** elements in the HTML and select only the first three. The resulting list of elements is stored in the **paragraphs** variable which is a list of the 3 paragraphs"
   ]
  },
  {
   "cell_type": "code",
   "execution_count": 2,
   "id": "a3b332ec",
   "metadata": {},
   "outputs": [],
   "source": [
    "#!pip install PyPDF2\n",
    "#!pip install nltk"
   ]
  },
  {
   "cell_type": "code",
   "execution_count": 120,
   "id": "09e53d69",
   "metadata": {},
   "outputs": [
    {
     "name": "stdout",
     "output_type": "stream",
     "text": [
      "\n"
     ]
    }
   ],
   "source": [
    "import requests\n",
    "from bs4 import BeautifulSoup\n",
    "\n",
    "url = \"https://www.imdb.com/title/tt0848228/plotsummary/\"\n",
    "\n",
    "# this helps you to go to the website to fetch the content\n",
    "response = requests.get(url)\n",
    "\n",
    "# BeautifulSoup constructor takes the text as input and returns a BeautifulSoup object.\n",
    "# BeautifulSoup object makes it easier to parse and extract information from the HTML content.\n",
    "soup = BeautifulSoup(response.text, \"html.parser\")\n",
    "\n",
    "# Find the first paragraph element in the HTML\n",
    "paragraphs = soup.find_all(\"p\")[:10]\n",
    "\n",
    "# Extract the text from the selected paragraphs and concatenate them\n",
    "combined_paragraph = ' '.join([p.text for p in paragraphs])\n",
    "\n",
    "print(combined_paragraph)\n"
   ]
  },
  {
   "cell_type": "code",
   "execution_count": 123,
   "id": "52feb935",
   "metadata": {},
   "outputs": [],
   "source": [
    "#Import the library\n",
    "import PyPDF2\n"
   ]
  },
  {
   "cell_type": "code",
   "execution_count": 124,
   "id": "1dc5f9e9",
   "metadata": {},
   "outputs": [
    {
     "name": "stdout",
     "output_type": "stream",
     "text": [
      "Nick Fury ( Samuel  L. Jackson ), director of S.H.I.E.L.D. (Strategic Homeland \n",
      "Intervention, Enforcement, and Logistics Division), arrives at S.H.I.E.L.D. \n",
      "headquarters outside of Santa Fe, New Mexico, during an evacuation. The \n",
      "Tesseract, an energy sour ce of unknown potential, has activated. It opens a \n",
      "portal through space and the exiled Norse god Loki ( Tom  Hiddleston ) steps \n",
      "through, carrying a strange spear w ith a blue glowing tip. Loki takes the \n",
      "Tesseract and uses the spear to take control of the minds of several SHIELD \n",
      "personnel, including Dr. Erik Selvig ( Stellan  Skarsgård ) , and Agent Clint \n",
      "\"Hawkeye\" Barton ( Jeremy  Renner ), to aid him in his getaway. SHIELD \n",
      "personnel pull out of their base when an energy surge from  the Tesseract \n",
      "causes the ground beneath the base to collapse and destroying it. A short \n",
      "pursuit of Loki fails to capture him.  \n",
      " \n",
      "In response to the attack, Nick Fury issues a state of emergency, telling his top \n",
      "agents Phil Coulson ( Clark  Gregg ), Natasha Romanoff ( Scarlett  Johansson ), \n",
      "and Maria Hill ( Cobie  Smulders ), that they are completely out of options. Fury \n",
      "pulls Romanoff and Coulson out of their re spective assignments and sends \n",
      "them to find the heroes he needs to oppose Loki. Romanoff is found in Eastern \n",
      "Europe interrogating suspects, and Coulson pulls her off the assignment and \n",
      "sends her to find \"the big guy\": Bruce Banner ( Mark  Ruffalo ), aka The \n",
      "Incredible Hulk. Banner has been living in exile in India working for a hospital \n",
      "in Calcutta helping sick people, and has found inner peace doing so. Romanoff \n",
      "tells Banner about the Tesseract and its' destructive capabilities. As the \n",
      "world's expert on gamma rays, Banner is their best chance to find the cube's \n",
      "location.  \n",
      " \n",
      "During a video chat with the World Security Council, the superiors who run \n",
      "S.H.I.E.L.D., Fury is grilled about his plan to bring about the Avengers \n",
      "Initiative. The WSC are furious, saying that it's the wrong thing to do and these \n",
      "people will never work together as a group. Fury says they have no other \n",
      "option and this is their only hope of defeating  Loki. The superiors reluctantly \n",
      "agree.  \n",
      " \n",
      "Steve Rogers, ( Chris  Evans ) on the other hand, is relatively easy to find. \n",
      "S.H.I.E.L.D. has been keeping tabs on him si nce he was found in the ice and \n",
      "still alive. Fury goes to greet Rogers at his gymnasium where he finds he \n",
      "doesn't sleep. Fury tells Rogers that he will find a briefing packet about what's \n",
      "going on back at his apartment. Tony Stark ( Robert  Downey  Jr.) is seen in a \n",
      "new Iron Man armor that has underwater capabilities. He is installing a new \n",
      "electrical connection that will take his office building completely off the \n",
      "electrical grid allowing it to become self sustaining. He's greeted at his office \n",
      "by Pepper Potts ( Gwyneth  Paltrow ) who tells him that it's date night. Tony \n",
      "wants Pepper to know how it feels to be a genius and after an argument about \n",
      "how much credit she should get for coming up with the Stark Tower idea, date \n",
      "night is off. Coulson arrives, and Tony quickly and repeatedly tries to cut him \n",
      "off. Coulson hands Tony a laptop with all the data on it about everything that's \n",
      "going on. Pepper decides instead to go to Washington DC to get the zoning \n",
      "permits for the next two buildings for Stark Tower as it seems Tony has \n",
      "homework to do, and a lot of it.  \n",
      " On the airplane to the secured location - an aircraft carrier that can convert to \n",
      "a flying aircraft carrier, Coulson is telling Rogers about how it's such an honor \n",
      "that they found him and tells him about his Captain America trading card \n",
      "collection. They then head to the heli carrier and Rogers is introduced to Dr. \n",
      "Bruce Banner. The two then wonder what kind of ride they're in for. Rogers \n",
      "thinks it's a submarine but the last thing Dr. Banner should be riding in is a \n",
      "submerged, pressurized metal container. The carrier takes off.  On board, they \n",
      "are briefed that Dr. Selvig and Loki have been traced to Stuttgart, Germany.  \n",
      " \n",
      "Rogers' first assignment is to go to Stuttgart to arrest Loki and bring him on \n",
      "board the helicarrier . Loki is at a formal black tie gala at an art museum where \n",
      "he is kidnapping a doctor who harbors the element they need to make the \n",
      "Tesseract work. While Dr. Selvig creates a distraction and Hawkeye kills the \n",
      "men guarding the building, Loki carries out his  plan. Outside, he is instructing \n",
      "the civilians present that they need to kneel before him - or else, and that \n",
      "freedom is life's great lie. However, one old man stands up in defiance, and \n",
      "Loki prepares to strike him down. However, the killing shot is neatl y blocked by \n",
      "the shield of Rogers as Captain America before moving to confront the god. As \n",
      "Rogers battles Loki, Tony makes his entrance to the tune of AC/DC's \"Shoot \n",
      "To Kill\" with full Iron Man weapons drawn to knock down the god and daring \n",
      "Loki to make a move.  \n",
      " \n",
      "Loki quickly surrenders when the two heroes arrive, and while being flown to \n",
      "the high tech prison on board the helicarrier, the plane encounters a lighting \n",
      "storm. Rogers asks Loki if he's afraid of lighting but Loki tells him it's not the \n",
      "lightning that he's afraid of. It's what follows. Thor ( Chris  Hemsworth ), Loki's \n",
      "half-brother and the Norse God of thunder, arrives and attempts to capture \n",
      "Loki so Loki c an face Asguardian justice for his crimes (which will be more \n",
      "effective than Earth's), but Thor gets into a fight with Rogers and Tony. The \n",
      "fight ends in a stalemate. Eventually, Loki is taken to the helicarrier and placed \n",
      "in a glass cell designed to hold the Hulk. Fury explains that if Loki attempts to \n",
      "escape, even by merely cracking the glass, a shaft will open below him and \n",
      "he'll plummet to Earth and possibly be killed.  \n",
      " \n",
      "On board the aircraft carrier, the fully assembled Avengers squad is being \n",
      "briefed b y Fury about what they think will possibly happen next. Loki is in \n",
      "prison and is interrogated by Agent Romanoff. Tony Stark arrives and it seems \n",
      "the only one of the group he really gets along with is Bruce Banner. While \n",
      "conducting experiments on Loki's sce pter, Stark tries to get a rise out of \n",
      "Banner so he can witness Banner's famous party trick (read: turning into the \n",
      "Incredible Hulk). Banner flinches and then begins telling about how he's been \n",
      "unable to fully harness his abilities and that he suffered dep ression after the \n",
      "accident. That's why he moved to Calcutta, as helping people is what gives his \n",
      "life meaning.  \n",
      " \n",
      "The Avengers, now brought together, argue and deliberate over how to \n",
      "approach Loki and the revelation that SHIELD plans to harness the Tesseract 's \n",
      "power to develop weapons, a discovery made by Rogers. Fury admits that the \n",
      "events in New Mexico a year before (recounted in  Thor  (2011) ) made SHIELD \n",
      "aware o f other races on other worlds, some of whom may see Earth as an easy target. Thor is seen asking agent Coulson about what happened to Jane \n",
      "Foster. Coulson tells him that S.H.I.E.L.D. has placed her in their witness \n",
      "protection program and that she's in a sa fe zone in London.  \n",
      " \n",
      "The decision was made to produce weapons with the Tesseract as a means of \n",
      "deterrence. As the group argues, Clint Barton and Loki's possessed agents \n",
      "attack the helicarrier, disabling one of its engines in flight. While Stark and \n",
      "Rogers a ttempt to restart the damaged engine, Romanoff tries to prevent Dr. \n",
      "Banner from turning into the Hulk and destroying the ship from inside. Her \n",
      "attempt fails and she's chased through the ship until Thor takes up the battle to \n",
      "pacify the beast and manages to  fell him briefly with a hit from his hammer, \n",
      "Mjolnir. While fighting Barton, Romanoff slams him into a guard rail, and the \n",
      "blow to the head breaks Loki's mind control. After the Hulk falls from the ship, \n",
      "Thor is tricked into Loki's holding cell by Loki hi mself, who has recovered his \n",
      "scepter and releases the cell and allows Thor to plummet. Loki is held at bay \n",
      "briefly by Agent Coulson but is also tricked by one of Loki's holographic \n",
      "projections - Coulson is stabbed in the back by the real Loki. Coulson late r \n",
      "shoots Loki with a blast from an unidentified weapon, one that harnesses the \n",
      "power of the Destroyer. Coulson dies while Fury tries to save his life. Thor \n",
      "escapes from the cell a split second before it hits the ground. Banner wakes up \n",
      "in his human form af ter crashing into an abandoned factory.  \n",
      " \n",
      "Fury uses Coulson's apparent death to motivate the Avengers to work as a \n",
      "team. Stark and Rogers realize that simply defeating them will not be enough \n",
      "for Loki. He needs to overpower them in a very public way so as t o validate \n",
      "himself as ruler of Earth. Using a device built by Dr. Selvig, Loki opens a portal \n",
      "to the Chitauri home world over Manhattan, summoning a Chitauri invasion. \n",
      "Once again the group's petty differences overshadow their ability to \n",
      "communicate as a te am, especially with Banner now missing. While in an \n",
      "argument with Rogers, Tony finally figures out that Loki is a full tilt diva, and \n",
      "that he's obviously set up shop at the top of Stark's office.  \n",
      " \n",
      "Natasha, unfortunately arrives too late just as Dr. Selvig has opened the \n",
      "portal. This unleashes Loki's army and all hell breaks loose. The army is \n",
      "massive and they can't all fight them off as much as they are entering the \n",
      "earth's atmosphere. Tony Stark thankfully shows up, as does Bruce Banner. \n",
      "While fighting, Ro gers dispatches NYPD cops to direct citizens into the \n",
      "underground tunnels and sewers. Meanwhile, the Hulk smashes, and Tony \n",
      "arrives at Stark Tower where he attempts to stall Loki with a drink which is \n",
      "used to threaten and intimidate him. As that's going on , Tony has JARVIS \n",
      "prepare an under development version of Iron Man called MK18 which is \n",
      "contained in a giant box coded specifically for Tony and has advanced \n",
      "weapons capabilities. Loki refuses to cooperate, saying the destruction will \n",
      "continue as long as t he citizens of earth don't get that they need to be ruled by \n",
      "him. Loki attempts to take control of Stark by using his scepter on his heart to \n",
      "control his mind, but it fails thanks to Tony's somewhat trusty Arc Reactor that \n",
      "keeps him alive.  \n",
      " \n",
      "The Avengers ra lly in defense of New York, but quickly come to the conclusion \n",
      "that they will be overwhelmed as wave after wave of Chitauri descend upon Earth. With help from the reformed Barton, Rogers and Thor evacuate civilians \n",
      "while Dr. Banner transforms into the Hulk  and goes after Loki, beating him into \n",
      "submission in Tony Stark's penthouse. Romanoff makes her way, with a little \n",
      "help from the Chitauri, to the device that holds the portal open (conveniently \n",
      "located on the roof of the Stark Building) and hits Dr. Selvig  over the head, \n",
      "freeing him of Loki's control. Dr. Selvig reveals that Loki's staff can be used to \n",
      "close the portal.  \n",
      " \n",
      "As that's happening, Hulk confronts Loki, who refuses to be intimidated by \n",
      "such a beast. As Rogers instructed, Hulk smashes Loki into near  oblivion. That \n",
      "allows Romanoff to grab the scepter and head to the roof to shut down the \n",
      "portal. While Romanoff is securing the portal, Stark is securing the perimeter. \n",
      "Meanwhile, with Fury on a conference call to the council, Fury berates the \n",
      "council's d ecision to launch a nuclear missile at Manhattan. Fury tries \n",
      "everything possible to stop the council from launching nukes, even destroying \n",
      "two jets that are taking off from the helicarrier. Unfortunately as he's about to \n",
      "fire on a third, it gets away and l aunches a nuclear weapon.  \n",
      " \n",
      "Tony intercepts the missile and he knows exactly where to put it - he flies it \n",
      "into the portal. While in the portal, Stark instructs JARVIS to try Pepper one \n",
      "last time. Unfortunately the call fails as Pepper is on a plane and glu ed to the \n",
      "TV with other Stark Industries executives. Tony launches the nuke at the \n",
      "Chitauri mothership, completely destroying the invasion. All the invading aliens \n",
      "collapse and are rendered useless. Stark sees the nuke go just as he runs out \n",
      "of oxygen and falls to what appears to be certain doom. Thankfully he \n",
      "manages to escape the portal just as Romanoff is able to successfully close it. \n",
      "Once back in the atmosphere it looks like Tony isn't going to make it, but is \n",
      "saved by the Hulk thanks to incredible tim ing. A dazed Stark, awakened by the \n",
      "Hulk's roar, offers to take the team out for shawarma, but they decide to \n",
      "apprehend Loki first. The Avengers go their separate ways. Romanoff, Rogers, \n",
      "and Hawkeye return to working for S.H.I.E.L.D., Tony and Pepper are s een \n",
      "rebuilding Stark Tower and are working on the next phase of the project. Thor \n",
      "escorts Loki and the Tesseract back to Asgard where Loki will stand multiple \n",
      "trials for war crimes from both Asgard and the Chitauri. Meanwhile, multiple TV \n",
      "news reports reca p the events surrounding the Avengers, and while they've \n",
      "become worldwide heroes for to some for their efforts in New York, others are \n",
      "fearful and want to know who will take responsibility for the devastation.  \n",
      " \n",
      "On another video conference call with the Wor ld Security Council, Fury is \n",
      "being congratulated, but they also grill him that now their secret's out, this \n",
      "group is too dangerous for the world to handle. And Fury is glad - what \n",
      "happened in New York is a warning. A warning to all galaxies that if they tr y to \n",
      "attack earth, S.H.I.E.L.D. is there to defend it. And they have just the team. \n",
      "Fury also tells the S.H.I.E.L.D. board that the Avengers' whereabouts are no \n",
      "longer being tracked. They've earned a leave of absence, but will be called \n",
      "back when needed. H e also tells the council that the Tesseract is where no \n",
      "one on earth will ever be able to find it.  \n",
      " \n",
      "In a mid -credits scene, the Chitauri leader the Other tells his master that it is \n",
      "futile to attack Earth, as fighting the Avengers is like courting death. H is master turns, revealing himself to be Thanos, a worshiper of the \n",
      "personification of Death, smiling at the chance to court her with more loss of \n",
      "life. \n",
      " \n",
      "After further credits, the Avengers are shown eating together in a shawarma \n",
      "joint; the team looks worn  out and no one speaks.  \n",
      " \n"
     ]
    }
   ],
   "source": [
    "# Open the PDF file\n",
    "with open(\"Avengers.pdf\", \"rb\") as file:\n",
    "    # Create a PDF object\n",
    "    pdf = PyPDF2.PdfReader(file)\n",
    "    \n",
    "    # Initialize a variable to store the extracted text\n",
    "    corpus = \"\"\n",
    "    \n",
    "    # Extract the text from each page of the PDF. We have only one page.\n",
    "    for page in pdf.pages:\n",
    "        corpus += page.extract_text()\n",
    "        \n",
    "    # Print the extracted text\n",
    "    print(corpus)\n"
   ]
  },
  {
   "cell_type": "code",
   "execution_count": 125,
   "id": "0e455640",
   "metadata": {},
   "outputs": [
    {
     "name": "stderr",
     "output_type": "stream",
     "text": [
      "[nltk_data] Downloading package stopwords to\n",
      "[nltk_data]     /Users/swapnil/nltk_data...\n",
      "[nltk_data]   Package stopwords is already up-to-date!\n",
      "[nltk_data] Downloading package omw-1.4 to /Users/swapnil/nltk_data...\n",
      "[nltk_data]   Package omw-1.4 is already up-to-date!\n",
      "[nltk_data] Downloading package wordnet to /Users/swapnil/nltk_data...\n",
      "[nltk_data]   Package wordnet is already up-to-date!\n"
     ]
    }
   ],
   "source": [
    "# Perform text preprocessing on the words\n",
    "\n",
    "import nltk\n",
    "from nltk.tokenize import sent_tokenize\n",
    "from nltk.corpus import stopwords\n",
    "nltk.download('stopwords')\n",
    "\n",
    "nltk.download('omw-1.4')\n",
    "nltk.download('wordnet')\n",
    "from nltk.stem import WordNetLemmatizer\n",
    "\n",
    "stop_words = set(stopwords.words('english'))\n",
    "wordnet_lemmatizer = WordNetLemmatizer()"
   ]
  },
  {
   "cell_type": "code",
   "execution_count": 50,
   "id": "48b60d2d",
   "metadata": {},
   "outputs": [],
   "source": [
    "# create a function to apply pre-processing\n",
    "\n",
    "def preprocess_text(text):\n",
    "    \n",
    "    # Convert the text to lowercase\n",
    "    text = text.lower()\n",
    "    \n",
    "    # Tokenize the text into sentences\n",
    "    sentences = sent_tokenize(text)\n",
    "    \n",
    "    # Remove stop words and punctuation from each sentence\n",
    "    preprocessed_sentences = []\n",
    "    \n",
    "    import string\n",
    "    \n",
    "    for sentence in sentences:\n",
    "        words = nltk.word_tokenize(sentence)\n",
    "        words = [token for token in words if token not in string.punctuation]\n",
    "        words = [token for token in words if token not in stop_words]\n",
    "        words = [wordnet_lemmatizer.lemmatize(word) for word in words]\n",
    "        #preprocessed_sentence = ' '.join(words)\n",
    "        preprocessed_sentences.append(words)\n",
    "    \n",
    "    return preprocessed_sentences"
   ]
  },
  {
   "cell_type": "code",
   "execution_count": 126,
   "id": "2bc6c6dc",
   "metadata": {},
   "outputs": [],
   "source": [
    "# lets pre-process and save the the text in a variable\n",
    "text = preprocess_text(corpus)"
   ]
  },
  {
   "cell_type": "code",
   "execution_count": 127,
   "id": "992a0046",
   "metadata": {},
   "outputs": [
    {
     "data": {
      "text/plain": [
       "[['nick', 'fury', 'samuel', 'l.', 'jackson', 'director', 's.h.i.e.l.d'],\n",
       " ['strategic',\n",
       "  'homeland',\n",
       "  'intervention',\n",
       "  'enforcement',\n",
       "  'logistics',\n",
       "  'division',\n",
       "  'arrives',\n",
       "  's.h.i.e.l.d'],\n",
       " ['headquarters', 'outside', 'santa', 'fe', 'new', 'mexico', 'evacuation'],\n",
       " ['tesseract', 'energy', 'sour', 'ce', 'unknown', 'potential', 'activated'],\n",
       " ['open',\n",
       "  'portal',\n",
       "  'space',\n",
       "  'exiled',\n",
       "  'norse',\n",
       "  'god',\n",
       "  'loki',\n",
       "  'tom',\n",
       "  'hiddleston',\n",
       "  'step',\n",
       "  'carrying',\n",
       "  'strange',\n",
       "  'spear',\n",
       "  'w',\n",
       "  'ith',\n",
       "  'blue',\n",
       "  'glowing',\n",
       "  'tip'],\n",
       " ['loki',\n",
       "  'take',\n",
       "  'tesseract',\n",
       "  'us',\n",
       "  'spear',\n",
       "  'take',\n",
       "  'control',\n",
       "  'mind',\n",
       "  'several',\n",
       "  'shield',\n",
       "  'personnel',\n",
       "  'including',\n",
       "  'dr.',\n",
       "  'erik',\n",
       "  'selvig',\n",
       "  'stellan',\n",
       "  'skarsgård',\n",
       "  'agent',\n",
       "  'clint',\n",
       "  \"''\",\n",
       "  'hawkeye',\n",
       "  \"''\",\n",
       "  'barton',\n",
       "  'jeremy',\n",
       "  'renner',\n",
       "  'aid',\n",
       "  'getaway'],\n",
       " ['shield',\n",
       "  'personnel',\n",
       "  'pull',\n",
       "  'base',\n",
       "  'energy',\n",
       "  'surge',\n",
       "  'tesseract',\n",
       "  'cause',\n",
       "  'ground',\n",
       "  'beneath',\n",
       "  'base',\n",
       "  'collapse',\n",
       "  'destroying'],\n",
       " ['short', 'pursuit', 'loki', 'fails', 'capture'],\n",
       " ['response',\n",
       "  'attack',\n",
       "  'nick',\n",
       "  'fury',\n",
       "  'issue',\n",
       "  'state',\n",
       "  'emergency',\n",
       "  'telling',\n",
       "  'top',\n",
       "  'agent',\n",
       "  'phil',\n",
       "  'coulson',\n",
       "  'clark',\n",
       "  'gregg',\n",
       "  'natasha',\n",
       "  'romanoff',\n",
       "  'scarlett',\n",
       "  'johansson',\n",
       "  'maria',\n",
       "  'hill',\n",
       "  'cobie',\n",
       "  'smulders',\n",
       "  'completely',\n",
       "  'option'],\n",
       " ['fury',\n",
       "  'pull',\n",
       "  'romanoff',\n",
       "  'coulson',\n",
       "  'spective',\n",
       "  'assignment',\n",
       "  'sends',\n",
       "  'find',\n",
       "  'hero',\n",
       "  'need',\n",
       "  'oppose',\n",
       "  'loki'],\n",
       " ['romanoff',\n",
       "  'found',\n",
       "  'eastern',\n",
       "  'europe',\n",
       "  'interrogating',\n",
       "  'suspect',\n",
       "  'coulson',\n",
       "  'pull',\n",
       "  'assignment',\n",
       "  'sends',\n",
       "  'find',\n",
       "  '``',\n",
       "  'big',\n",
       "  'guy',\n",
       "  \"''\",\n",
       "  'bruce',\n",
       "  'banner',\n",
       "  'mark',\n",
       "  'ruffalo',\n",
       "  'aka',\n",
       "  'incredible',\n",
       "  'hulk'],\n",
       " ['banner',\n",
       "  'living',\n",
       "  'exile',\n",
       "  'india',\n",
       "  'working',\n",
       "  'hospital',\n",
       "  'calcutta',\n",
       "  'helping',\n",
       "  'sick',\n",
       "  'people',\n",
       "  'found',\n",
       "  'inner',\n",
       "  'peace'],\n",
       " ['romanoff', 'tell', 'banner', 'tesseract', 'destructive', 'capability'],\n",
       " ['world',\n",
       "  \"'s\",\n",
       "  'expert',\n",
       "  'gamma',\n",
       "  'ray',\n",
       "  'banner',\n",
       "  'best',\n",
       "  'chance',\n",
       "  'find',\n",
       "  'cube',\n",
       "  \"'s\",\n",
       "  'location'],\n",
       " ['video',\n",
       "  'chat',\n",
       "  'world',\n",
       "  'security',\n",
       "  'council',\n",
       "  'superior',\n",
       "  'run',\n",
       "  's.h.i.e.l.d.',\n",
       "  'fury',\n",
       "  'grilled',\n",
       "  'plan',\n",
       "  'bring',\n",
       "  'avenger',\n",
       "  'initiative'],\n",
       " ['wsc',\n",
       "  'furious',\n",
       "  'saying',\n",
       "  \"'s\",\n",
       "  'wrong',\n",
       "  'thing',\n",
       "  'people',\n",
       "  'never',\n",
       "  'work',\n",
       "  'together',\n",
       "  'group'],\n",
       " ['fury', 'say', 'option', 'hope', 'defeating', 'loki'],\n",
       " ['superior', 'reluctantly', 'agree'],\n",
       " ['steve', 'rogers', 'chris', 'evans', 'hand', 'relatively', 'easy', 'find'],\n",
       " ['s.h.i.e.l.d'],\n",
       " ['keeping', 'tab', 'si', 'nce', 'found', 'ice', 'still', 'alive'],\n",
       " ['fury', 'go', 'greet', 'rogers', 'gymnasium', 'find', \"n't\", 'sleep'],\n",
       " ['fury',\n",
       "  'tell',\n",
       "  'rogers',\n",
       "  'find',\n",
       "  'briefing',\n",
       "  'packet',\n",
       "  \"'s\",\n",
       "  'going',\n",
       "  'back',\n",
       "  'apartment'],\n",
       " ['tony',\n",
       "  'stark',\n",
       "  'robert',\n",
       "  'downey',\n",
       "  'jr.',\n",
       "  'seen',\n",
       "  'new',\n",
       "  'iron',\n",
       "  'man',\n",
       "  'armor',\n",
       "  'underwater',\n",
       "  'capability'],\n",
       " ['installing',\n",
       "  'new',\n",
       "  'electrical',\n",
       "  'connection',\n",
       "  'take',\n",
       "  'office',\n",
       "  'building',\n",
       "  'completely',\n",
       "  'electrical',\n",
       "  'grid',\n",
       "  'allowing',\n",
       "  'become',\n",
       "  'self',\n",
       "  'sustaining'],\n",
       " [\"'s\",\n",
       "  'greeted',\n",
       "  'office',\n",
       "  'pepper',\n",
       "  'potts',\n",
       "  'gwyneth',\n",
       "  'paltrow',\n",
       "  'tell',\n",
       "  \"'s\",\n",
       "  'date',\n",
       "  'night'],\n",
       " ['tony',\n",
       "  'want',\n",
       "  'pepper',\n",
       "  'know',\n",
       "  'feel',\n",
       "  'genius',\n",
       "  'argument',\n",
       "  'much',\n",
       "  'credit',\n",
       "  'get',\n",
       "  'coming',\n",
       "  'stark',\n",
       "  'tower',\n",
       "  'idea',\n",
       "  'date',\n",
       "  'night'],\n",
       " ['coulson', 'arrives', 'tony', 'quickly', 'repeatedly', 'try', 'cut'],\n",
       " ['coulson', 'hand', 'tony', 'laptop', 'data', 'everything', \"'s\", 'going'],\n",
       " ['pepper',\n",
       "  'decides',\n",
       "  'instead',\n",
       "  'go',\n",
       "  'washington',\n",
       "  'dc',\n",
       "  'get',\n",
       "  'zoning',\n",
       "  'permit',\n",
       "  'next',\n",
       "  'two',\n",
       "  'building',\n",
       "  'stark',\n",
       "  'tower',\n",
       "  'seems',\n",
       "  'tony',\n",
       "  'homework',\n",
       "  'lot'],\n",
       " ['airplane',\n",
       "  'secured',\n",
       "  'location',\n",
       "  'aircraft',\n",
       "  'carrier',\n",
       "  'convert',\n",
       "  'flying',\n",
       "  'aircraft',\n",
       "  'carrier',\n",
       "  'coulson',\n",
       "  'telling',\n",
       "  'rogers',\n",
       "  \"'s\",\n",
       "  'honor',\n",
       "  'found',\n",
       "  'tell',\n",
       "  'captain',\n",
       "  'america',\n",
       "  'trading',\n",
       "  'card',\n",
       "  'collection'],\n",
       " ['head', 'heli', 'carrier', 'rogers', 'introduced', 'dr.', 'bruce', 'banner'],\n",
       " ['two', 'wonder', 'kind', 'ride', \"'re\"],\n",
       " ['rogers',\n",
       "  'think',\n",
       "  \"'s\",\n",
       "  'submarine',\n",
       "  'last',\n",
       "  'thing',\n",
       "  'dr.',\n",
       "  'banner',\n",
       "  'riding',\n",
       "  'submerged',\n",
       "  'pressurized',\n",
       "  'metal',\n",
       "  'container'],\n",
       " ['carrier', 'take'],\n",
       " ['board',\n",
       "  'briefed',\n",
       "  'dr.',\n",
       "  'selvig',\n",
       "  'loki',\n",
       "  'traced',\n",
       "  'stuttgart',\n",
       "  'germany'],\n",
       " ['rogers',\n",
       "  'first',\n",
       "  'assignment',\n",
       "  'go',\n",
       "  'stuttgart',\n",
       "  'arrest',\n",
       "  'loki',\n",
       "  'bring',\n",
       "  'board',\n",
       "  'helicarrier'],\n",
       " ['loki',\n",
       "  'formal',\n",
       "  'black',\n",
       "  'tie',\n",
       "  'gala',\n",
       "  'art',\n",
       "  'museum',\n",
       "  'kidnapping',\n",
       "  'doctor',\n",
       "  'harbor',\n",
       "  'element',\n",
       "  'need',\n",
       "  'make',\n",
       "  'tesseract',\n",
       "  'work'],\n",
       " ['dr.',\n",
       "  'selvig',\n",
       "  'creates',\n",
       "  'distraction',\n",
       "  'hawkeye',\n",
       "  'kill',\n",
       "  'men',\n",
       "  'guarding',\n",
       "  'building',\n",
       "  'loki',\n",
       "  'carry',\n",
       "  'plan'],\n",
       " ['outside',\n",
       "  'instructing',\n",
       "  'civilian',\n",
       "  'present',\n",
       "  'need',\n",
       "  'kneel',\n",
       "  'else',\n",
       "  'freedom',\n",
       "  'life',\n",
       "  \"'s\",\n",
       "  'great',\n",
       "  'lie'],\n",
       " ['however',\n",
       "  'one',\n",
       "  'old',\n",
       "  'man',\n",
       "  'stand',\n",
       "  'defiance',\n",
       "  'loki',\n",
       "  'prepares',\n",
       "  'strike'],\n",
       " ['however',\n",
       "  'killing',\n",
       "  'shot',\n",
       "  'neatl',\n",
       "  'blocked',\n",
       "  'shield',\n",
       "  'rogers',\n",
       "  'captain',\n",
       "  'america',\n",
       "  'moving',\n",
       "  'confront',\n",
       "  'god'],\n",
       " ['rogers',\n",
       "  'battle',\n",
       "  'loki',\n",
       "  'tony',\n",
       "  'make',\n",
       "  'entrance',\n",
       "  'tune',\n",
       "  'ac/dc',\n",
       "  \"'s\",\n",
       "  '``',\n",
       "  'shoot',\n",
       "  'kill',\n",
       "  \"''\",\n",
       "  'full',\n",
       "  'iron',\n",
       "  'man',\n",
       "  'weapon',\n",
       "  'drawn',\n",
       "  'knock',\n",
       "  'god',\n",
       "  'daring',\n",
       "  'loki',\n",
       "  'make',\n",
       "  'move'],\n",
       " ['loki',\n",
       "  'quickly',\n",
       "  'surrender',\n",
       "  'two',\n",
       "  'hero',\n",
       "  'arrive',\n",
       "  'flown',\n",
       "  'high',\n",
       "  'tech',\n",
       "  'prison',\n",
       "  'board',\n",
       "  'helicarrier',\n",
       "  'plane',\n",
       "  'encounter',\n",
       "  'lighting',\n",
       "  'storm'],\n",
       " ['rogers',\n",
       "  'asks',\n",
       "  'loki',\n",
       "  \"'s\",\n",
       "  'afraid',\n",
       "  'lighting',\n",
       "  'loki',\n",
       "  'tell',\n",
       "  \"'s\",\n",
       "  'lightning',\n",
       "  \"'s\",\n",
       "  'afraid'],\n",
       " [\"'s\", 'follows'],\n",
       " ['thor',\n",
       "  'chris',\n",
       "  'hemsworth',\n",
       "  'loki',\n",
       "  \"'s\",\n",
       "  'half-brother',\n",
       "  'norse',\n",
       "  'god',\n",
       "  'thunder',\n",
       "  'arrives',\n",
       "  'attempt',\n",
       "  'capture',\n",
       "  'loki',\n",
       "  'loki',\n",
       "  'c',\n",
       "  'face',\n",
       "  'asguardian',\n",
       "  'justice',\n",
       "  'crime',\n",
       "  'effective',\n",
       "  'earth',\n",
       "  \"'s\",\n",
       "  'thor',\n",
       "  'get',\n",
       "  'fight',\n",
       "  'rogers',\n",
       "  'tony'],\n",
       " ['fight', 'end', 'stalemate'],\n",
       " ['eventually',\n",
       "  'loki',\n",
       "  'taken',\n",
       "  'helicarrier',\n",
       "  'placed',\n",
       "  'glass',\n",
       "  'cell',\n",
       "  'designed',\n",
       "  'hold',\n",
       "  'hulk'],\n",
       " ['fury',\n",
       "  'explains',\n",
       "  'loki',\n",
       "  'attempt',\n",
       "  'escape',\n",
       "  'even',\n",
       "  'merely',\n",
       "  'cracking',\n",
       "  'glass',\n",
       "  'shaft',\n",
       "  'open',\n",
       "  \"'ll\",\n",
       "  'plummet',\n",
       "  'earth',\n",
       "  'possibly',\n",
       "  'killed'],\n",
       " ['board',\n",
       "  'aircraft',\n",
       "  'carrier',\n",
       "  'fully',\n",
       "  'assembled',\n",
       "  'avenger',\n",
       "  'squad',\n",
       "  'briefed',\n",
       "  'b',\n",
       "  'fury',\n",
       "  'think',\n",
       "  'possibly',\n",
       "  'happen',\n",
       "  'next'],\n",
       " ['loki', 'prison', 'interrogated', 'agent', 'romanoff'],\n",
       " ['tony',\n",
       "  'stark',\n",
       "  'arrives',\n",
       "  'seems',\n",
       "  'one',\n",
       "  'group',\n",
       "  'really',\n",
       "  'get',\n",
       "  'along',\n",
       "  'bruce',\n",
       "  'banner'],\n",
       " ['conducting',\n",
       "  'experiment',\n",
       "  'loki',\n",
       "  \"'s\",\n",
       "  'sce',\n",
       "  'pter',\n",
       "  'stark',\n",
       "  'try',\n",
       "  'get',\n",
       "  'rise',\n",
       "  'banner',\n",
       "  'witness',\n",
       "  'banner',\n",
       "  \"'s\",\n",
       "  'famous',\n",
       "  'party',\n",
       "  'trick',\n",
       "  'read',\n",
       "  'turning',\n",
       "  'incredible',\n",
       "  'hulk'],\n",
       " ['banner',\n",
       "  'flinch',\n",
       "  'begin',\n",
       "  'telling',\n",
       "  \"'s\",\n",
       "  'unable',\n",
       "  'fully',\n",
       "  'harness',\n",
       "  'ability',\n",
       "  'suffered',\n",
       "  'dep',\n",
       "  'ression',\n",
       "  'accident'],\n",
       " [\"'s\", 'moved', 'calcutta', 'helping', 'people', 'give', 'life', 'meaning'],\n",
       " ['avenger',\n",
       "  'brought',\n",
       "  'together',\n",
       "  'argue',\n",
       "  'deliberate',\n",
       "  'approach',\n",
       "  'loki',\n",
       "  'revelation',\n",
       "  'shield',\n",
       "  'plan',\n",
       "  'harness',\n",
       "  'tesseract',\n",
       "  \"'s\",\n",
       "  'power',\n",
       "  'develop',\n",
       "  'weapon',\n",
       "  'discovery',\n",
       "  'made',\n",
       "  'rogers'],\n",
       " ['fury',\n",
       "  'admits',\n",
       "  'event',\n",
       "  'new',\n",
       "  'mexico',\n",
       "  'year',\n",
       "  'recounted',\n",
       "  'thor',\n",
       "  '2011',\n",
       "  'made',\n",
       "  'shield',\n",
       "  'aware',\n",
       "  'f',\n",
       "  'race',\n",
       "  'world',\n",
       "  'may',\n",
       "  'see',\n",
       "  'earth',\n",
       "  'easy',\n",
       "  'target'],\n",
       " ['thor', 'seen', 'asking', 'agent', 'coulson', 'happened', 'jane', 'foster'],\n",
       " ['coulson', 'tell', 's.h.i.e.l.d'],\n",
       " ['placed',\n",
       "  'witness',\n",
       "  'protection',\n",
       "  'program',\n",
       "  \"'s\",\n",
       "  'sa',\n",
       "  'fe',\n",
       "  'zone',\n",
       "  'london'],\n",
       " ['decision', 'made', 'produce', 'weapon', 'tesseract', 'mean', 'deterrence'],\n",
       " ['group',\n",
       "  'argues',\n",
       "  'clint',\n",
       "  'barton',\n",
       "  'loki',\n",
       "  \"'s\",\n",
       "  'possessed',\n",
       "  'agent',\n",
       "  'attack',\n",
       "  'helicarrier',\n",
       "  'disabling',\n",
       "  'one',\n",
       "  'engine',\n",
       "  'flight'],\n",
       " ['stark',\n",
       "  'rogers',\n",
       "  'ttempt',\n",
       "  'restart',\n",
       "  'damaged',\n",
       "  'engine',\n",
       "  'romanoff',\n",
       "  'try',\n",
       "  'prevent',\n",
       "  'dr.',\n",
       "  'banner',\n",
       "  'turning',\n",
       "  'hulk',\n",
       "  'destroying',\n",
       "  'ship',\n",
       "  'inside'],\n",
       " ['attempt',\n",
       "  'fails',\n",
       "  \"'s\",\n",
       "  'chased',\n",
       "  'ship',\n",
       "  'thor',\n",
       "  'take',\n",
       "  'battle',\n",
       "  'pacify',\n",
       "  'beast',\n",
       "  'manages',\n",
       "  'fell',\n",
       "  'briefly',\n",
       "  'hit',\n",
       "  'hammer',\n",
       "  'mjolnir'],\n",
       " ['fighting',\n",
       "  'barton',\n",
       "  'romanoff',\n",
       "  'slam',\n",
       "  'guard',\n",
       "  'rail',\n",
       "  'blow',\n",
       "  'head',\n",
       "  'break',\n",
       "  'loki',\n",
       "  \"'s\",\n",
       "  'mind',\n",
       "  'control'],\n",
       " ['hulk',\n",
       "  'fall',\n",
       "  'ship',\n",
       "  'thor',\n",
       "  'tricked',\n",
       "  'loki',\n",
       "  \"'s\",\n",
       "  'holding',\n",
       "  'cell',\n",
       "  'loki',\n",
       "  'hi',\n",
       "  'mself',\n",
       "  'recovered',\n",
       "  'scepter',\n",
       "  'release',\n",
       "  'cell',\n",
       "  'allows',\n",
       "  'thor',\n",
       "  'plummet'],\n",
       " ['loki',\n",
       "  'held',\n",
       "  'bay',\n",
       "  'briefly',\n",
       "  'agent',\n",
       "  'coulson',\n",
       "  'also',\n",
       "  'tricked',\n",
       "  'one',\n",
       "  'loki',\n",
       "  \"'s\",\n",
       "  'holographic',\n",
       "  'projection',\n",
       "  'coulson',\n",
       "  'stabbed',\n",
       "  'back',\n",
       "  'real',\n",
       "  'loki'],\n",
       " ['coulson',\n",
       "  'late',\n",
       "  'r',\n",
       "  'shoot',\n",
       "  'loki',\n",
       "  'blast',\n",
       "  'unidentified',\n",
       "  'weapon',\n",
       "  'one',\n",
       "  'harness',\n",
       "  'power',\n",
       "  'destroyer'],\n",
       " ['coulson', 'dy', 'fury', 'try', 'save', 'life'],\n",
       " ['thor', 'escape', 'cell', 'split', 'second', 'hit', 'ground'],\n",
       " ['banner',\n",
       "  'wake',\n",
       "  'human',\n",
       "  'form',\n",
       "  'af',\n",
       "  'ter',\n",
       "  'crashing',\n",
       "  'abandoned',\n",
       "  'factory'],\n",
       " ['fury',\n",
       "  'us',\n",
       "  'coulson',\n",
       "  \"'s\",\n",
       "  'apparent',\n",
       "  'death',\n",
       "  'motivate',\n",
       "  'avenger',\n",
       "  'work',\n",
       "  'team'],\n",
       " ['stark', 'rogers', 'realize', 'simply', 'defeating', 'enough', 'loki'],\n",
       " ['need', 'overpower', 'public', 'way', 'validate', 'ruler', 'earth'],\n",
       " ['using',\n",
       "  'device',\n",
       "  'built',\n",
       "  'dr.',\n",
       "  'selvig',\n",
       "  'loki',\n",
       "  'open',\n",
       "  'portal',\n",
       "  'chitauri',\n",
       "  'home',\n",
       "  'world',\n",
       "  'manhattan',\n",
       "  'summoning',\n",
       "  'chitauri',\n",
       "  'invasion'],\n",
       " ['group',\n",
       "  \"'s\",\n",
       "  'petty',\n",
       "  'difference',\n",
       "  'overshadow',\n",
       "  'ability',\n",
       "  'communicate',\n",
       "  'te',\n",
       "  'especially',\n",
       "  'banner',\n",
       "  'missing'],\n",
       " ['argument',\n",
       "  'rogers',\n",
       "  'tony',\n",
       "  'finally',\n",
       "  'figure',\n",
       "  'loki',\n",
       "  'full',\n",
       "  'tilt',\n",
       "  'diva',\n",
       "  \"'s\",\n",
       "  'obviously',\n",
       "  'set',\n",
       "  'shop',\n",
       "  'top',\n",
       "  'stark',\n",
       "  \"'s\",\n",
       "  'office'],\n",
       " ['natasha',\n",
       "  'unfortunately',\n",
       "  'arrives',\n",
       "  'late',\n",
       "  'dr.',\n",
       "  'selvig',\n",
       "  'opened',\n",
       "  'portal'],\n",
       " ['unleashes', 'loki', \"'s\", 'army', 'hell', 'break', 'loose'],\n",
       " ['army',\n",
       "  'massive',\n",
       "  'ca',\n",
       "  \"n't\",\n",
       "  'fight',\n",
       "  'much',\n",
       "  'entering',\n",
       "  'earth',\n",
       "  \"'s\",\n",
       "  'atmosphere'],\n",
       " ['tony', 'stark', 'thankfully', 'show', 'bruce', 'banner'],\n",
       " ['fighting',\n",
       "  'ro',\n",
       "  'gers',\n",
       "  'dispatch',\n",
       "  'nypd',\n",
       "  'cop',\n",
       "  'direct',\n",
       "  'citizen',\n",
       "  'underground',\n",
       "  'tunnel',\n",
       "  'sewer'],\n",
       " ['meanwhile',\n",
       "  'hulk',\n",
       "  'smash',\n",
       "  'tony',\n",
       "  'arrives',\n",
       "  'stark',\n",
       "  'tower',\n",
       "  'attempt',\n",
       "  'stall',\n",
       "  'loki',\n",
       "  'drink',\n",
       "  'used',\n",
       "  'threaten',\n",
       "  'intimidate'],\n",
       " [\"'s\",\n",
       "  'going',\n",
       "  'tony',\n",
       "  'jarvis',\n",
       "  'prepare',\n",
       "  'development',\n",
       "  'version',\n",
       "  'iron',\n",
       "  'man',\n",
       "  'called',\n",
       "  'mk18',\n",
       "  'contained',\n",
       "  'giant',\n",
       "  'box',\n",
       "  'coded',\n",
       "  'specifically',\n",
       "  'tony',\n",
       "  'advanced',\n",
       "  'weapon',\n",
       "  'capability'],\n",
       " ['loki',\n",
       "  'refuse',\n",
       "  'cooperate',\n",
       "  'saying',\n",
       "  'destruction',\n",
       "  'continue',\n",
       "  'long',\n",
       "  'citizen',\n",
       "  'earth',\n",
       "  \"n't\",\n",
       "  'get',\n",
       "  'need',\n",
       "  'ruled'],\n",
       " ['loki',\n",
       "  'attempt',\n",
       "  'take',\n",
       "  'control',\n",
       "  'stark',\n",
       "  'using',\n",
       "  'scepter',\n",
       "  'heart',\n",
       "  'control',\n",
       "  'mind',\n",
       "  'fails',\n",
       "  'thanks',\n",
       "  'tony',\n",
       "  \"'s\",\n",
       "  'somewhat',\n",
       "  'trusty',\n",
       "  'arc',\n",
       "  'reactor',\n",
       "  'keep',\n",
       "  'alive'],\n",
       " ['avenger',\n",
       "  'ra',\n",
       "  'lly',\n",
       "  'defense',\n",
       "  'new',\n",
       "  'york',\n",
       "  'quickly',\n",
       "  'come',\n",
       "  'conclusion',\n",
       "  'overwhelmed',\n",
       "  'wave',\n",
       "  'wave',\n",
       "  'chitauri',\n",
       "  'descend',\n",
       "  'upon',\n",
       "  'earth'],\n",
       " ['help',\n",
       "  'reformed',\n",
       "  'barton',\n",
       "  'rogers',\n",
       "  'thor',\n",
       "  'evacuate',\n",
       "  'civilian',\n",
       "  'dr.',\n",
       "  'banner',\n",
       "  'transforms',\n",
       "  'hulk',\n",
       "  'go',\n",
       "  'loki',\n",
       "  'beating',\n",
       "  'submission',\n",
       "  'tony',\n",
       "  'stark',\n",
       "  \"'s\",\n",
       "  'penthouse'],\n",
       " ['romanoff',\n",
       "  'make',\n",
       "  'way',\n",
       "  'little',\n",
       "  'help',\n",
       "  'chitauri',\n",
       "  'device',\n",
       "  'hold',\n",
       "  'portal',\n",
       "  'open',\n",
       "  'conveniently',\n",
       "  'located',\n",
       "  'roof',\n",
       "  'stark',\n",
       "  'building',\n",
       "  'hit',\n",
       "  'dr.',\n",
       "  'selvig',\n",
       "  'head',\n",
       "  'freeing',\n",
       "  'loki',\n",
       "  \"'s\",\n",
       "  'control'],\n",
       " ['dr.',\n",
       "  'selvig',\n",
       "  'reveals',\n",
       "  'loki',\n",
       "  \"'s\",\n",
       "  'staff',\n",
       "  'used',\n",
       "  'close',\n",
       "  'portal'],\n",
       " [\"'s\",\n",
       "  'happening',\n",
       "  'hulk',\n",
       "  'confronts',\n",
       "  'loki',\n",
       "  'refuse',\n",
       "  'intimidated',\n",
       "  'beast'],\n",
       " ['rogers', 'instructed', 'hulk', 'smash', 'loki', 'near', 'oblivion'],\n",
       " ['allows', 'romanoff', 'grab', 'scepter', 'head', 'roof', 'shut', 'portal'],\n",
       " ['romanoff', 'securing', 'portal', 'stark', 'securing', 'perimeter'],\n",
       " ['meanwhile',\n",
       "  'fury',\n",
       "  'conference',\n",
       "  'call',\n",
       "  'council',\n",
       "  'fury',\n",
       "  'berates',\n",
       "  'council',\n",
       "  \"'s\",\n",
       "  'ecision',\n",
       "  'launch',\n",
       "  'nuclear',\n",
       "  'missile',\n",
       "  'manhattan'],\n",
       " ['fury',\n",
       "  'try',\n",
       "  'everything',\n",
       "  'possible',\n",
       "  'stop',\n",
       "  'council',\n",
       "  'launching',\n",
       "  'nuke',\n",
       "  'even',\n",
       "  'destroying',\n",
       "  'two',\n",
       "  'jet',\n",
       "  'taking',\n",
       "  'helicarrier'],\n",
       " ['unfortunately',\n",
       "  \"'s\",\n",
       "  'fire',\n",
       "  'third',\n",
       "  'get',\n",
       "  'away',\n",
       "  'l',\n",
       "  'aunches',\n",
       "  'nuclear',\n",
       "  'weapon'],\n",
       " ['tony', 'intercept', 'missile', 'know', 'exactly', 'put', 'fly', 'portal'],\n",
       " ['portal',\n",
       "  'stark',\n",
       "  'instructs',\n",
       "  'jarvis',\n",
       "  'try',\n",
       "  'pepper',\n",
       "  'one',\n",
       "  'last',\n",
       "  'time'],\n",
       " ['unfortunately',\n",
       "  'call',\n",
       "  'fails',\n",
       "  'pepper',\n",
       "  'plane',\n",
       "  'glu',\n",
       "  'ed',\n",
       "  'tv',\n",
       "  'stark',\n",
       "  'industry',\n",
       "  'executive'],\n",
       " ['tony',\n",
       "  'launch',\n",
       "  'nuke',\n",
       "  'chitauri',\n",
       "  'mothership',\n",
       "  'completely',\n",
       "  'destroying',\n",
       "  'invasion'],\n",
       " ['invading', 'alien', 'collapse', 'rendered', 'useless'],\n",
       " ['stark',\n",
       "  'see',\n",
       "  'nuke',\n",
       "  'go',\n",
       "  'run',\n",
       "  'oxygen',\n",
       "  'fall',\n",
       "  'appears',\n",
       "  'certain',\n",
       "  'doom'],\n",
       " ['thankfully',\n",
       "  'manages',\n",
       "  'escape',\n",
       "  'portal',\n",
       "  'romanoff',\n",
       "  'able',\n",
       "  'successfully',\n",
       "  'close'],\n",
       " ['back',\n",
       "  'atmosphere',\n",
       "  'look',\n",
       "  'like',\n",
       "  'tony',\n",
       "  \"n't\",\n",
       "  'going',\n",
       "  'make',\n",
       "  'saved',\n",
       "  'hulk',\n",
       "  'thanks',\n",
       "  'incredible',\n",
       "  'tim',\n",
       "  'ing'],\n",
       " ['dazed',\n",
       "  'stark',\n",
       "  'awakened',\n",
       "  'hulk',\n",
       "  \"'s\",\n",
       "  'roar',\n",
       "  'offer',\n",
       "  'take',\n",
       "  'team',\n",
       "  'shawarma',\n",
       "  'decide',\n",
       "  'apprehend',\n",
       "  'loki',\n",
       "  'first'],\n",
       " ['avenger', 'go', 'separate', 'way'],\n",
       " ['romanoff',\n",
       "  'rogers',\n",
       "  'hawkeye',\n",
       "  'return',\n",
       "  'working',\n",
       "  's.h.i.e.l.d.',\n",
       "  'tony',\n",
       "  'pepper',\n",
       "  'een',\n",
       "  'rebuilding',\n",
       "  'stark',\n",
       "  'tower',\n",
       "  'working',\n",
       "  'next',\n",
       "  'phase',\n",
       "  'project'],\n",
       " ['thor',\n",
       "  'escort',\n",
       "  'loki',\n",
       "  'tesseract',\n",
       "  'back',\n",
       "  'asgard',\n",
       "  'loki',\n",
       "  'stand',\n",
       "  'multiple',\n",
       "  'trial',\n",
       "  'war',\n",
       "  'crime',\n",
       "  'asgard',\n",
       "  'chitauri'],\n",
       " ['meanwhile',\n",
       "  'multiple',\n",
       "  'tv',\n",
       "  'news',\n",
       "  'report',\n",
       "  'reca',\n",
       "  'p',\n",
       "  'event',\n",
       "  'surrounding',\n",
       "  'avenger',\n",
       "  \"'ve\",\n",
       "  'become',\n",
       "  'worldwide',\n",
       "  'hero',\n",
       "  'effort',\n",
       "  'new',\n",
       "  'york',\n",
       "  'others',\n",
       "  'fearful',\n",
       "  'want',\n",
       "  'know',\n",
       "  'take',\n",
       "  'responsibility',\n",
       "  'devastation'],\n",
       " ['another',\n",
       "  'video',\n",
       "  'conference',\n",
       "  'call',\n",
       "  'wor',\n",
       "  'ld',\n",
       "  'security',\n",
       "  'council',\n",
       "  'fury',\n",
       "  'congratulated',\n",
       "  'also',\n",
       "  'grill',\n",
       "  'secret',\n",
       "  \"'s\",\n",
       "  'group',\n",
       "  'dangerous',\n",
       "  'world',\n",
       "  'handle'],\n",
       " ['fury', 'glad', 'happened', 'new', 'york', 'warning'],\n",
       " ['warning', 'galaxy', 'tr', 'attack', 'earth', 's.h.i.e.l.d'],\n",
       " ['defend'],\n",
       " ['team'],\n",
       " ['fury', 'also', 'tell', 's.h.i.e.l.d'],\n",
       " ['board', 'avenger', 'whereabouts', 'longer', 'tracked'],\n",
       " [\"'ve\", 'earned', 'leave', 'absence', 'called', 'back', 'needed'],\n",
       " ['h',\n",
       "  'e',\n",
       "  'also',\n",
       "  'tell',\n",
       "  'council',\n",
       "  'tesseract',\n",
       "  'one',\n",
       "  'earth',\n",
       "  'ever',\n",
       "  'able',\n",
       "  'find'],\n",
       " ['mid',\n",
       "  '-credits',\n",
       "  'scene',\n",
       "  'chitauri',\n",
       "  'leader',\n",
       "  'tell',\n",
       "  'master',\n",
       "  'futile',\n",
       "  'attack',\n",
       "  'earth',\n",
       "  'fighting',\n",
       "  'avenger',\n",
       "  'like',\n",
       "  'courting',\n",
       "  'death'],\n",
       " ['h',\n",
       "  'master',\n",
       "  'turn',\n",
       "  'revealing',\n",
       "  'thanos',\n",
       "  'worshiper',\n",
       "  'personification',\n",
       "  'death',\n",
       "  'smiling',\n",
       "  'chance',\n",
       "  'court',\n",
       "  'loss',\n",
       "  'life'],\n",
       " ['credit',\n",
       "  'avenger',\n",
       "  'shown',\n",
       "  'eating',\n",
       "  'together',\n",
       "  'shawarma',\n",
       "  'joint',\n",
       "  'team',\n",
       "  'look',\n",
       "  'worn',\n",
       "  'one',\n",
       "  'speaks']]"
      ]
     },
     "execution_count": 127,
     "metadata": {},
     "output_type": "execute_result"
    }
   ],
   "source": [
    "#view the text. You need the sentences as a list within a list. This is the format that works in word2vec\n",
    "text"
   ]
  },
  {
   "cell_type": "code",
   "execution_count": 128,
   "id": "4a8b1a97",
   "metadata": {},
   "outputs": [
    {
     "data": {
      "text/plain": [
       "123"
      ]
     },
     "execution_count": 128,
     "metadata": {},
     "output_type": "execute_result"
    }
   ],
   "source": [
    "# we have 51 sentences in the text\n",
    "len(text)"
   ]
  },
  {
   "cell_type": "markdown",
   "id": "d3738e4d",
   "metadata": {},
   "source": [
    "    "
   ]
  },
  {
   "cell_type": "code",
   "execution_count": 32,
   "id": "46f6ab0e",
   "metadata": {},
   "outputs": [],
   "source": [
    "#intall gensim\n",
    "#!pip install gensim"
   ]
  },
  {
   "cell_type": "code",
   "execution_count": 133,
   "id": "6d007b92",
   "metadata": {},
   "outputs": [],
   "source": [
    "from gensim.models import Word2Vec\n",
    "model = Word2Vec(window=10, min_count=1, vector_size=150)"
   ]
  },
  {
   "cell_type": "markdown",
   "id": "95e934ff",
   "metadata": {},
   "source": [
    "The choice of **`vector_size`** parameter determines the dimensionality of the word vectors produced by the model. If you set `vector_size=3`, the word vectors produced by the model will have a dimensionality of 3. If you set `vector_size=10`, the word vectors produced by the model will have a dimensionality of 10. The choice depends on the specific application and the size of the dataset. A higher vector_size generally means that the model will be able to capture more fine-grained distinctions between words, but it will also require more computational resources and more data to train. A lower vector_size may result in less accurate word vectors, but it may also require less computational resources and less data to train.\n",
    "\n",
    "The **`window`** parameter specifies the maximum distance between the target word and its context words (i.e., words that appear in the same context or window as the target word) within a sentence.\n",
    "\n",
    "For example, if `window=5`, then the Word2Vec model will consider the 5 words before and 5 words after the target word as its context words. In other words, the context window will have a total size of 11 words (5 words before the target word, the target word itself, and 5 words after the target word).\n",
    "\n",
    "The window parameter is important because it affects the way the Word2Vec model learns word embeddings (i.e., vector representations of words). A smaller window size may capture more syntactic relationships between words (e.g., plural/singular forms, verb tenses), while a larger window size may capture more semantic relationships between words (e.g., related concepts, topic associations).\n",
    "\n",
    "In practice, the optimal value for window depends on the specific task and the nature of the text data being analyzed. It may be necessary to experiment with different values of window to find the optimal setting for a given task or dataset."
   ]
  },
  {
   "cell_type": "markdown",
   "id": "7023098c",
   "metadata": {},
   "source": [
    "**`min_count`** specifies the minimum nunmber of words the sentence should have or else it gets ignored with total frequency lower than this number."
   ]
  },
  {
   "cell_type": "code",
   "execution_count": 134,
   "id": "15d3b459",
   "metadata": {},
   "outputs": [],
   "source": [
    "# build vocabulary\n",
    "model.build_vocab(text)"
   ]
  },
  {
   "cell_type": "markdown",
   "id": "96f507e2",
   "metadata": {},
   "source": [
    "**`build_vocab()`** method is used to construct the vocabulary of the model, which is a collection of unique words that the model will use to learn word embeddings. It takes as input a list of sentences (or any iterable of words) and constructs a vocabulary by assigning a unique integer ID to each unique word in the input data. It also counts the frequency of each word in the data, which is used later in the training process to determine the importance of each word in the context of its surrounding words.`\n"
   ]
  },
  {
   "cell_type": "code",
   "execution_count": 135,
   "id": "fe2507e6",
   "metadata": {},
   "outputs": [
    {
     "data": {
      "text/plain": [
       "(747, 150)"
      ]
     },
     "execution_count": 135,
     "metadata": {},
     "output_type": "execute_result"
    }
   ],
   "source": [
    "# to check unique words in the vocabulary \n",
    "model.wv.get_normed_vectors().shape"
   ]
  },
  {
   "cell_type": "markdown",
   "id": "0c4c018d",
   "metadata": {},
   "source": [
    "We have 418 unique words in the vocab and each word is represented by a vector of size 150."
   ]
  },
  {
   "cell_type": "code",
   "execution_count": 136,
   "id": "96940ad7",
   "metadata": {},
   "outputs": [
    {
     "data": {
      "text/plain": [
       "(5825, 6975)"
      ]
     },
     "execution_count": 136,
     "metadata": {},
     "output_type": "execute_result"
    }
   ],
   "source": [
    "#train the model\n",
    "model.train(text, total_examples=len(text), epochs=5)"
   ]
  },
  {
   "cell_type": "markdown",
   "id": "ca86c817",
   "metadata": {},
   "source": [
    "Now, we have a word2vec model ready."
   ]
  },
  {
   "cell_type": "code",
   "execution_count": 143,
   "id": "cd32aad6",
   "metadata": {},
   "outputs": [
    {
     "data": {
      "text/plain": [
       "[('placed', 0.24626438319683075),\n",
       " ('spear', 0.241495281457901),\n",
       " ('know', 0.21610021591186523),\n",
       " ('fury', 0.2143598347902298),\n",
       " ('turning', 0.21424345672130585),\n",
       " ('plan', 0.20982405543327332),\n",
       " ('ro', 0.20566891133785248),\n",
       " ('oppose', 0.20075683295726776),\n",
       " ('third', 0.20014487206935883),\n",
       " ('saying', 0.19851651787757874)]"
      ]
     },
     "execution_count": 143,
     "metadata": {},
     "output_type": "execute_result"
    }
   ],
   "source": [
    "#let's find similar words\n",
    "model.wv.most_similar('avenger')"
   ]
  },
  {
   "cell_type": "markdown",
   "id": "06569a6d",
   "metadata": {},
   "source": [
    "Our dataset is small, so the results may not be accurate, however, when we look at the nearest words connected to the word avenger, we get the list above."
   ]
  },
  {
   "cell_type": "code",
   "execution_count": 144,
   "id": "f2dbc134",
   "metadata": {},
   "outputs": [
    {
     "data": {
      "text/plain": [
       "array([ 6.46621687e-03, -6.77131815e-03, -4.52126516e-03,  1.88308570e-03,\n",
       "        4.34773136e-03, -3.80339567e-03,  1.88142364e-03,  6.71937224e-03,\n",
       "       -4.54686815e-03, -3.86765786e-03, -3.21385590e-03, -2.55719828e-03,\n",
       "        8.60671862e-04,  6.63531851e-03,  3.93053191e-03,  2.44986819e-04,\n",
       "        1.87286851e-03,  5.50903007e-03,  6.14729803e-03,  3.96000873e-03,\n",
       "        3.67340306e-03, -5.07923076e-03, -2.13990291e-03, -3.54535645e-03,\n",
       "        4.31587594e-03, -1.54591631e-03, -6.35393104e-03,  4.84336400e-03,\n",
       "        5.53453062e-03, -2.58656358e-03,  6.01981068e-03, -2.93887395e-04,\n",
       "       -2.52163340e-03, -5.33496612e-04,  1.40032425e-05, -2.14555487e-03,\n",
       "        2.20195088e-03,  3.92756285e-03,  4.69684787e-03, -6.27568876e-03,\n",
       "       -1.54334877e-03, -3.65370675e-03,  4.75600315e-03,  4.03339276e-03,\n",
       "       -2.61034584e-03,  1.57559896e-03, -3.88459931e-03, -7.10575405e-05,\n",
       "        6.37413468e-03, -1.62970822e-03, -3.60586052e-03, -4.88168513e-03,\n",
       "       -2.08787806e-03, -5.04521711e-04,  2.35406379e-03,  6.70637283e-03,\n",
       "       -2.26350245e-03,  1.38753140e-03,  6.44742604e-03,  9.60834674e-04,\n",
       "        5.50625671e-04,  6.19434286e-03,  6.18152367e-03,  4.98598767e-03,\n",
       "       -4.19415720e-03,  6.49769139e-03,  3.71283572e-03,  5.51050389e-03,\n",
       "       -1.82476570e-03,  1.70627306e-03,  4.72960994e-03, -2.31810450e-03,\n",
       "        4.60378779e-03,  1.17613946e-03,  6.17900258e-03, -2.32582376e-03,\n",
       "       -2.26697372e-03,  4.16258536e-03, -6.27383869e-03, -4.62378375e-03,\n",
       "       -4.35852492e-03, -8.12362006e-04, -1.60184992e-03,  5.36819035e-03,\n",
       "        5.98314498e-03, -4.90967592e-04,  8.55269842e-04,  1.41701766e-03,\n",
       "       -1.08131312e-03, -5.69386128e-03,  5.40772500e-03, -3.04439897e-03,\n",
       "        3.23715433e-03,  6.10634265e-03,  2.06816429e-03,  2.14377511e-03,\n",
       "        2.95782019e-03, -1.81029784e-03,  2.59105838e-03,  7.04253791e-04,\n",
       "        3.82315717e-03,  3.69457318e-03,  1.60936511e-03,  3.93986423e-03,\n",
       "       -6.29537879e-03,  3.90258292e-03,  6.51363563e-03, -2.67013651e-03,\n",
       "        4.65633027e-04, -3.58366477e-03,  5.05554373e-04,  1.92499114e-03,\n",
       "        5.74759161e-03,  6.69041183e-05,  1.39909913e-03,  9.39294987e-04,\n",
       "        5.77939441e-03, -3.42961028e-03, -4.22731368e-03, -2.70368066e-03,\n",
       "       -1.60982122e-03,  3.45762493e-03, -5.23914816e-03, -2.11855280e-03,\n",
       "       -5.52959461e-03,  3.64450575e-03, -1.55748485e-03, -6.25795964e-03,\n",
       "        2.50010262e-03,  6.15539169e-03, -1.79763208e-03, -3.57841887e-03,\n",
       "        2.01944588e-03, -3.95636656e-04, -6.46050787e-03,  5.81556046e-03,\n",
       "       -5.46011887e-03, -3.25158983e-03, -2.08161701e-03, -3.70208616e-03,\n",
       "        1.29786192e-03,  6.54212572e-03,  3.10208136e-03,  5.65603655e-03,\n",
       "        5.73814832e-05,  5.97263454e-04, -2.20206939e-03, -6.13644067e-03,\n",
       "        2.56793411e-03,  9.58892342e-04], dtype=float32)"
      ]
     },
     "execution_count": 144,
     "metadata": {},
     "output_type": "execute_result"
    }
   ],
   "source": [
    "#lets check the vector representation of the word 'avenger'\n",
    "model.wv['avenger']"
   ]
  },
  {
   "cell_type": "code",
   "execution_count": 145,
   "id": "7cd694a7",
   "metadata": {},
   "outputs": [
    {
     "data": {
      "text/plain": [
       "(150,)"
      ]
     },
     "execution_count": 145,
     "metadata": {},
     "output_type": "execute_result"
    }
   ],
   "source": [
    "# since we set the vector-siz=150\n",
    "model.wv['avenger'].shape"
   ]
  },
  {
   "cell_type": "markdown",
   "id": "91d88b5b",
   "metadata": {},
   "source": [
    "    "
   ]
  },
  {
   "cell_type": "markdown",
   "id": "37b7a579",
   "metadata": {},
   "source": [
    "## Lets create a plot to visualize the related words"
   ]
  },
  {
   "cell_type": "markdown",
   "id": "c2a85a88",
   "metadata": {},
   "source": [
    "But first, we need to perform **dimentionality reduction** on the text vector. Right now we have the words represented as vectors of size 150. It's is a 150 dimentional space, that we cannot visualize. Therefore, we will reduce it to 3 dimensions using **Principal Component Analysis (PCA)**"
   ]
  },
  {
   "cell_type": "code",
   "execution_count": 146,
   "id": "6a1fc25f",
   "metadata": {},
   "outputs": [],
   "source": [
    "#import PCA\n",
    "from sklearn.decomposition import PCA"
   ]
  },
  {
   "cell_type": "code",
   "execution_count": 147,
   "id": "739defbf",
   "metadata": {},
   "outputs": [],
   "source": [
    "#set to 3 dimension\n",
    "size = PCA(n_components=3)"
   ]
  },
  {
   "cell_type": "code",
   "execution_count": 148,
   "id": "a801696b",
   "metadata": {},
   "outputs": [],
   "source": [
    "# tain and transform\n",
    "new = size.fit_transform(model.wv.get_normed_vectors())"
   ]
  },
  {
   "cell_type": "code",
   "execution_count": 149,
   "id": "cfba2d6d",
   "metadata": {},
   "outputs": [
    {
     "data": {
      "text/plain": [
       "array([[-0.00957275, -0.00236291,  0.06708392,  0.12601295, -0.1281499 ,\n",
       "        -0.10457395,  0.08964259,  0.14604385, -0.06809499, -0.04481853,\n",
       "         0.10817556, -0.02562193, -0.0755891 ,  0.09680159, -0.07995019,\n",
       "        -0.02739835,  0.04630097,  0.01124558, -0.11380569, -0.1259331 ,\n",
       "         0.09596393,  0.07028997,  0.10540289,  0.01858084,  0.09482995,\n",
       "        -0.04774164, -0.02828027,  0.07270938, -0.10970478, -0.06506913,\n",
       "        -0.10696231, -0.0079626 ,  0.1287963 , -0.11016849, -0.03704391,\n",
       "        -0.01935   ,  0.12584853, -0.07965282,  0.00679659, -0.07715843,\n",
       "        -0.13847142,  0.07160766, -0.13037744, -0.07104725,  0.00722145,\n",
       "        -0.00129208, -0.10598   ,  0.12569694,  0.07428049,  0.13197109,\n",
       "        -0.11851989,  0.06538057, -0.06212136,  0.01621149,  0.11672914,\n",
       "        -0.05413518,  0.06501617, -0.09173374, -0.04894328,  0.1294983 ,\n",
       "        -0.0236433 , -0.00800834, -0.05939234, -0.11032293, -0.02393637,\n",
       "         0.02774317, -0.01815248,  0.05856332, -0.05538104,  0.01395479,\n",
       "         0.08151346,  0.12625764, -0.01529921, -0.14676942,  0.06130207,\n",
       "        -0.00024603,  0.09722372, -0.01178251, -0.044266  , -0.11340719,\n",
       "        -0.01072635,  0.02838686,  0.07395816,  0.12518014, -0.08496646,\n",
       "         0.02881802,  0.08254811, -0.06631137, -0.033185  ,  0.08389989,\n",
       "         0.03747564, -0.00125298,  0.05247991,  0.00147799,  0.1368214 ,\n",
       "         0.07316688, -0.11651623, -0.0976366 ,  0.01446086,  0.10387535,\n",
       "        -0.11869116,  0.05143673,  0.08337073,  0.08372171,  0.09526779,\n",
       "        -0.09920087,  0.02431553,  0.08877166, -0.05892229, -0.0895028 ,\n",
       "        -0.01384799, -0.1148358 , -0.06817735,  0.08955222,  0.03566166,\n",
       "         0.10262838,  0.09807377,  0.11921797, -0.05402585, -0.01683751,\n",
       "         0.03165763, -0.05852066,  0.122679  , -0.14417928,  0.09132203,\n",
       "         0.04662769, -0.06491672,  0.05537331, -0.03270594,  0.09965838,\n",
       "         0.14738695, -0.05010068, -0.00648441, -0.08250429,  0.05993119,\n",
       "         0.04549685,  0.07945834,  0.0855121 ,  0.12324073,  0.12620133,\n",
       "         0.11484503, -0.09686764, -0.1266558 ,  0.00251534, -0.03250622,\n",
       "         0.11720851,  0.06838904, -0.02979073,  0.02869075,  0.0101682 ]],\n",
       "      dtype=float32)"
      ]
     },
     "execution_count": 149,
     "metadata": {},
     "output_type": "execute_result"
    }
   ],
   "source": [
    "# we went from this\n",
    "model.wv.get_normed_vectors()[:1]"
   ]
  },
  {
   "cell_type": "code",
   "execution_count": 150,
   "id": "0b57662f",
   "metadata": {},
   "outputs": [
    {
     "data": {
      "text/plain": [
       "array([[-0.01623621, -0.05289235, -0.24216872]], dtype=float32)"
      ]
     },
     "execution_count": 150,
     "metadata": {},
     "output_type": "execute_result"
    }
   ],
   "source": [
    "# to this\n",
    "new[:1]"
   ]
  },
  {
   "cell_type": "markdown",
   "id": "e10cafa2",
   "metadata": {},
   "source": [
    "    "
   ]
  },
  {
   "cell_type": "code",
   "execution_count": 151,
   "id": "42fd05d6",
   "metadata": {},
   "outputs": [],
   "source": [
    "#since we don't know which vector represents which word, lets find out\n",
    "word=model.wv.index_to_key"
   ]
  },
  {
   "cell_type": "code",
   "execution_count": 152,
   "id": "0bb9d43f",
   "metadata": {},
   "outputs": [
    {
     "data": {
      "text/plain": [
       "['loki']"
      ]
     },
     "execution_count": 152,
     "metadata": {},
     "output_type": "execute_result"
    }
   ],
   "source": [
    "# let's find what word the 1st vector represents\n",
    "word[:1]"
   ]
  },
  {
   "cell_type": "markdown",
   "id": "db2ec375",
   "metadata": {},
   "source": [
    "## Use Matplotlib to Plot a 3d Plot of the Vectors"
   ]
  },
  {
   "cell_type": "markdown",
   "id": "2a3f5dee",
   "metadata": {},
   "source": [
    "**`Plotly Express`** is a Python data visualization library based on `Plotly.js`, which allows you to create a wide range of interactive visualizations in a few lines of code. It is built on top of the popular data analysis library Pandas, and provides a high-level interface for creating expressive and interactive plots."
   ]
  },
  {
   "cell_type": "code",
   "execution_count": 153,
   "id": "5180fe1c",
   "metadata": {},
   "outputs": [],
   "source": [
    "#import express\n",
    "import pandas as pd\n",
    "import numpy as np\n",
    "from plotly import express as ex"
   ]
  },
  {
   "cell_type": "code",
   "execution_count": 154,
   "id": "504e129e",
   "metadata": {},
   "outputs": [
    {
     "data": {
      "application/vnd.plotly.v1+json": {
       "config": {
        "plotlyServerURL": "https://plot.ly"
       },
       "data": [
        {
         "hovertemplate": "color=loki<br>0=%{x}<br>1=%{y}<br>2=%{z}<extra></extra>",
         "legendgroup": "loki",
         "marker": {
          "color": "#636efa",
          "symbol": "circle"
         },
         "mode": "markers",
         "name": "loki",
         "scene": "scene",
         "showlegend": true,
         "type": "scatter3d",
         "x": [
          -0.016236210241913795
         ],
         "y": [
          -0.052892353385686874
         ],
         "z": [
          -0.24216872453689575
         ]
        },
        {
         "hovertemplate": "color='s<br>0=%{x}<br>1=%{y}<br>2=%{z}<extra></extra>",
         "legendgroup": "'s",
         "marker": {
          "color": "#EF553B",
          "symbol": "circle"
         },
         "mode": "markers",
         "name": "'s",
         "scene": "scene",
         "showlegend": true,
         "type": "scatter3d",
         "x": [
          0.0679188221693039
         ],
         "y": [
          -0.06781712919473648
         ],
         "z": [
          -0.08178716897964478
         ]
        },
        {
         "hovertemplate": "color=tony<br>0=%{x}<br>1=%{y}<br>2=%{z}<extra></extra>",
         "legendgroup": "tony",
         "marker": {
          "color": "#00cc96",
          "symbol": "circle"
         },
         "mode": "markers",
         "name": "tony",
         "scene": "scene",
         "showlegend": true,
         "type": "scatter3d",
         "x": [
          0.21594487130641937
         ],
         "y": [
          0.06051170453429222
         ],
         "z": [
          -0.027783650904893875
         ]
        },
        {
         "hovertemplate": "color=stark<br>0=%{x}<br>1=%{y}<br>2=%{z}<extra></extra>",
         "legendgroup": "stark",
         "marker": {
          "color": "#ab63fa",
          "symbol": "circle"
         },
         "mode": "markers",
         "name": "stark",
         "scene": "scene",
         "showlegend": true,
         "type": "scatter3d",
         "x": [
          0.09945008158683777
         ],
         "y": [
          0.06167982891201973
         ],
         "z": [
          0.08202467858791351
         ]
        },
        {
         "hovertemplate": "color=fury<br>0=%{x}<br>1=%{y}<br>2=%{z}<extra></extra>",
         "legendgroup": "fury",
         "marker": {
          "color": "#FFA15A",
          "symbol": "circle"
         },
         "mode": "markers",
         "name": "fury",
         "scene": "scene",
         "showlegend": true,
         "type": "scatter3d",
         "x": [
          0.14063967764377594
         ],
         "y": [
          0.11546772718429565
         ],
         "z": [
          -0.044616688042879105
         ]
        },
        {
         "hovertemplate": "color=rogers<br>0=%{x}<br>1=%{y}<br>2=%{z}<extra></extra>",
         "legendgroup": "rogers",
         "marker": {
          "color": "#19d3f3",
          "symbol": "circle"
         },
         "mode": "markers",
         "name": "rogers",
         "scene": "scene",
         "showlegend": true,
         "type": "scatter3d",
         "x": [
          -0.022256838157773018
         ],
         "y": [
          0.08572657406330109
         ],
         "z": [
          0.061715539544820786
         ]
        },
        {
         "hovertemplate": "color=banner<br>0=%{x}<br>1=%{y}<br>2=%{z}<extra></extra>",
         "legendgroup": "banner",
         "marker": {
          "color": "#FF6692",
          "symbol": "circle"
         },
         "mode": "markers",
         "name": "banner",
         "scene": "scene",
         "showlegend": true,
         "type": "scatter3d",
         "x": [
          -0.07060469686985016
         ],
         "y": [
          -0.28666502237319946
         ],
         "z": [
          -0.13418357074260712
         ]
        },
        {
         "hovertemplate": "color=coulson<br>0=%{x}<br>1=%{y}<br>2=%{z}<extra></extra>",
         "legendgroup": "coulson",
         "marker": {
          "color": "#B6E880",
          "symbol": "circle"
         },
         "mode": "markers",
         "name": "coulson",
         "scene": "scene",
         "showlegend": true,
         "type": "scatter3d",
         "x": [
          -0.04707970842719078
         ],
         "y": [
          0.023785684257745743
         ],
         "z": [
          0.031953342258930206
         ]
        },
        {
         "hovertemplate": "color=romanoff<br>0=%{x}<br>1=%{y}<br>2=%{z}<extra></extra>",
         "legendgroup": "romanoff",
         "marker": {
          "color": "#FF97FF",
          "symbol": "circle"
         },
         "mode": "markers",
         "name": "romanoff",
         "scene": "scene",
         "showlegend": true,
         "type": "scatter3d",
         "x": [
          0.16442063450813293
         ],
         "y": [
          0.12669244408607483
         ],
         "z": [
          -0.0008234392735175788
         ]
        },
        {
         "hovertemplate": "color=hulk<br>0=%{x}<br>1=%{y}<br>2=%{z}<extra></extra>",
         "legendgroup": "hulk",
         "marker": {
          "color": "#FECB52",
          "symbol": "circle"
         },
         "mode": "markers",
         "name": "hulk",
         "scene": "scene",
         "showlegend": true,
         "type": "scatter3d",
         "x": [
          0.058035433292388916
         ],
         "y": [
          -0.2771967947483063
         ],
         "z": [
          -0.233416348695755
         ]
        },
        {
         "hovertemplate": "color=dr.<br>0=%{x}<br>1=%{y}<br>2=%{z}<extra></extra>",
         "legendgroup": "dr.",
         "marker": {
          "color": "#636efa",
          "symbol": "circle"
         },
         "mode": "markers",
         "name": "dr.",
         "scene": "scene",
         "showlegend": true,
         "type": "scatter3d",
         "x": [
          0.09248489886522293
         ],
         "y": [
          0.02435726299881935
         ],
         "z": [
          0.19174808263778687
         ]
        },
        {
         "hovertemplate": "color=portal<br>0=%{x}<br>1=%{y}<br>2=%{z}<extra></extra>",
         "legendgroup": "portal",
         "marker": {
          "color": "#EF553B",
          "symbol": "circle"
         },
         "mode": "markers",
         "name": "portal",
         "scene": "scene",
         "showlegend": true,
         "type": "scatter3d",
         "x": [
          -0.013437709771096706
         ],
         "y": [
          -0.05111003667116165
         ],
         "z": [
          0.13226757943630219
         ]
        },
        {
         "hovertemplate": "color=avenger<br>0=%{x}<br>1=%{y}<br>2=%{z}<extra></extra>",
         "legendgroup": "avenger",
         "marker": {
          "color": "#00cc96",
          "symbol": "circle"
         },
         "mode": "markers",
         "name": "avenger",
         "scene": "scene",
         "showlegend": true,
         "type": "scatter3d",
         "x": [
          -0.05597485601902008
         ],
         "y": [
          0.09086226671934128
         ],
         "z": [
          -0.1044420599937439
         ]
        },
        {
         "hovertemplate": "color=earth<br>0=%{x}<br>1=%{y}<br>2=%{z}<extra></extra>",
         "legendgroup": "earth",
         "marker": {
          "color": "#ab63fa",
          "symbol": "circle"
         },
         "mode": "markers",
         "name": "earth",
         "scene": "scene",
         "showlegend": true,
         "type": "scatter3d",
         "x": [
          0.006026645191013813
         ],
         "y": [
          -0.09288597851991653
         ],
         "z": [
          0.0693061426281929
         ]
        },
        {
         "hovertemplate": "color=thor<br>0=%{x}<br>1=%{y}<br>2=%{z}<extra></extra>",
         "legendgroup": "thor",
         "marker": {
          "color": "#FFA15A",
          "symbol": "circle"
         },
         "mode": "markers",
         "name": "thor",
         "scene": "scene",
         "showlegend": true,
         "type": "scatter3d",
         "x": [
          -0.08819896727800369
         ],
         "y": [
          0.05756644159555435
         ],
         "z": [
          -0.05289600417017937
         ]
        },
        {
         "hovertemplate": "color=tell<br>0=%{x}<br>1=%{y}<br>2=%{z}<extra></extra>",
         "legendgroup": "tell",
         "marker": {
          "color": "#19d3f3",
          "symbol": "circle"
         },
         "mode": "markers",
         "name": "tell",
         "scene": "scene",
         "showlegend": true,
         "type": "scatter3d",
         "x": [
          -0.18730325996875763
         ],
         "y": [
          0.0044531431049108505
         ],
         "z": [
          0.11176472157239914
         ]
        },
        {
         "hovertemplate": "color=tesseract<br>0=%{x}<br>1=%{y}<br>2=%{z}<extra></extra>",
         "legendgroup": "tesseract",
         "marker": {
          "color": "#FF6692",
          "symbol": "circle"
         },
         "mode": "markers",
         "name": "tesseract",
         "scene": "scene",
         "showlegend": true,
         "type": "scatter3d",
         "x": [
          -0.05494660511612892
         ],
         "y": [
          -0.028283406049013138
         ],
         "z": [
          -0.13983601331710815
         ]
        },
        {
         "hovertemplate": "color=take<br>0=%{x}<br>1=%{y}<br>2=%{z}<extra></extra>",
         "legendgroup": "take",
         "marker": {
          "color": "#B6E880",
          "symbol": "circle"
         },
         "mode": "markers",
         "name": "take",
         "scene": "scene",
         "showlegend": true,
         "type": "scatter3d",
         "x": [
          -0.18283580243587494
         ],
         "y": [
          -0.12490100413560867
         ],
         "z": [
          -0.07838831096887589
         ]
        },
        {
         "hovertemplate": "color=one<br>0=%{x}<br>1=%{y}<br>2=%{z}<extra></extra>",
         "legendgroup": "one",
         "marker": {
          "color": "#FF97FF",
          "symbol": "circle"
         },
         "mode": "markers",
         "name": "one",
         "scene": "scene",
         "showlegend": true,
         "type": "scatter3d",
         "x": [
          0.13719414174556732
         ],
         "y": [
          -0.12394453585147858
         ],
         "z": [
          0.11911864578723907
         ]
        },
        {
         "hovertemplate": "color=selvig<br>0=%{x}<br>1=%{y}<br>2=%{z}<extra></extra>",
         "legendgroup": "selvig",
         "marker": {
          "color": "#FECB52",
          "symbol": "circle"
         },
         "mode": "markers",
         "name": "selvig",
         "scene": "scene",
         "showlegend": true,
         "type": "scatter3d",
         "x": [
          0.060507386922836304
         ],
         "y": [
          0.043080128729343414
         ],
         "z": [
          0.05301560088992119
         ]
        },
        {
         "hovertemplate": "color=chitauri<br>0=%{x}<br>1=%{y}<br>2=%{z}<extra></extra>",
         "legendgroup": "chitauri",
         "marker": {
          "color": "#636efa",
          "symbol": "circle"
         },
         "mode": "markers",
         "name": "chitauri",
         "scene": "scene",
         "showlegend": true,
         "type": "scatter3d",
         "x": [
          -0.02612442709505558
         ],
         "y": [
          0.15329532325267792
         ],
         "z": [
          -0.21359990537166595
         ]
        },
        {
         "hovertemplate": "color=get<br>0=%{x}<br>1=%{y}<br>2=%{z}<extra></extra>",
         "legendgroup": "get",
         "marker": {
          "color": "#EF553B",
          "symbol": "circle"
         },
         "mode": "markers",
         "name": "get",
         "scene": "scene",
         "showlegend": true,
         "type": "scatter3d",
         "x": [
          0.02613193728029728
         ],
         "y": [
          -0.06464536488056183
         ],
         "z": [
          -0.04647712782025337
         ]
        },
        {
         "hovertemplate": "color=new<br>0=%{x}<br>1=%{y}<br>2=%{z}<extra></extra>",
         "legendgroup": "new",
         "marker": {
          "color": "#00cc96",
          "symbol": "circle"
         },
         "mode": "markers",
         "name": "new",
         "scene": "scene",
         "showlegend": true,
         "type": "scatter3d",
         "x": [
          -0.09888297319412231
         ],
         "y": [
          -0.08318430185317993
         ],
         "z": [
          -0.1065944954752922
         ]
        },
        {
         "hovertemplate": "color=find<br>0=%{x}<br>1=%{y}<br>2=%{z}<extra></extra>",
         "legendgroup": "find",
         "marker": {
          "color": "#ab63fa",
          "symbol": "circle"
         },
         "mode": "markers",
         "name": "find",
         "scene": "scene",
         "showlegend": true,
         "type": "scatter3d",
         "x": [
          0.04570730775594711
         ],
         "y": [
          -0.008158600889146328
         ],
         "z": [
          0.003929297439754009
         ]
        },
        {
         "hovertemplate": "color=pepper<br>0=%{x}<br>1=%{y}<br>2=%{z}<extra></extra>",
         "legendgroup": "pepper",
         "marker": {
          "color": "#FFA15A",
          "symbol": "circle"
         },
         "mode": "markers",
         "name": "pepper",
         "scene": "scene",
         "showlegend": true,
         "type": "scatter3d",
         "x": [
          -0.010147594846785069
         ],
         "y": [
          -0.03465777263045311
         ],
         "z": [
          -0.04333576187491417
         ]
        },
        {
         "hovertemplate": "color=weapon<br>0=%{x}<br>1=%{y}<br>2=%{z}<extra></extra>",
         "legendgroup": "weapon",
         "marker": {
          "color": "#19d3f3",
          "symbol": "circle"
         },
         "mode": "markers",
         "name": "weapon",
         "scene": "scene",
         "showlegend": true,
         "type": "scatter3d",
         "x": [
          0.05931892246007919
         ],
         "y": [
          -0.01180762704461813
         ],
         "z": [
          0.1578580141067505
         ]
        },
        {
         "hovertemplate": "color=s.h.i.e.l.d<br>0=%{x}<br>1=%{y}<br>2=%{z}<extra></extra>",
         "legendgroup": "s.h.i.e.l.d",
         "marker": {
          "color": "#FF6692",
          "symbol": "circle"
         },
         "mode": "markers",
         "name": "s.h.i.e.l.d",
         "scene": "scene",
         "showlegend": true,
         "type": "scatter3d",
         "x": [
          -0.11010567843914032
         ],
         "y": [
          0.10308847576379776
         ],
         "z": [
          0.20636101067066193
         ]
        },
        {
         "hovertemplate": "color=arrives<br>0=%{x}<br>1=%{y}<br>2=%{z}<extra></extra>",
         "legendgroup": "arrives",
         "marker": {
          "color": "#B6E880",
          "symbol": "circle"
         },
         "mode": "markers",
         "name": "arrives",
         "scene": "scene",
         "showlegend": true,
         "type": "scatter3d",
         "x": [
          0.20580171048641205
         ],
         "y": [
          0.04637826606631279
         ],
         "z": [
          0.08498741686344147
         ]
        },
        {
         "hovertemplate": "color=agent<br>0=%{x}<br>1=%{y}<br>2=%{z}<extra></extra>",
         "legendgroup": "agent",
         "marker": {
          "color": "#FF97FF",
          "symbol": "circle"
         },
         "mode": "markers",
         "name": "agent",
         "scene": "scene",
         "showlegend": true,
         "type": "scatter3d",
         "x": [
          -0.05363711342215538
         ],
         "y": [
          -0.09198877215385437
         ],
         "z": [
          -0.0857570692896843
         ]
        },
        {
         "hovertemplate": "color=try<br>0=%{x}<br>1=%{y}<br>2=%{z}<extra></extra>",
         "legendgroup": "try",
         "marker": {
          "color": "#FECB52",
          "symbol": "circle"
         },
         "mode": "markers",
         "name": "try",
         "scene": "scene",
         "showlegend": true,
         "type": "scatter3d",
         "x": [
          0.08742872625589371
         ],
         "y": [
          0.0008234867709688842
         ],
         "z": [
          -0.07882663607597351
         ]
        },
        {
         "hovertemplate": "color=go<br>0=%{x}<br>1=%{y}<br>2=%{z}<extra></extra>",
         "legendgroup": "go",
         "marker": {
          "color": "#636efa",
          "symbol": "circle"
         },
         "mode": "markers",
         "name": "go",
         "scene": "scene",
         "showlegend": true,
         "type": "scatter3d",
         "x": [
          -0.01010278519243002
         ],
         "y": [
          0.07715368270874023
         ],
         "z": [
          0.059951890259981155
         ]
        },
        {
         "hovertemplate": "color=council<br>0=%{x}<br>1=%{y}<br>2=%{z}<extra></extra>",
         "legendgroup": "council",
         "marker": {
          "color": "#EF553B",
          "symbol": "circle"
         },
         "mode": "markers",
         "name": "council",
         "scene": "scene",
         "showlegend": true,
         "type": "scatter3d",
         "x": [
          -0.12992700934410095
         ],
         "y": [
          -0.01522770244628191
         ],
         "z": [
          0.02657957188785076
         ]
        },
        {
         "hovertemplate": "color=need<br>0=%{x}<br>1=%{y}<br>2=%{z}<extra></extra>",
         "legendgroup": "need",
         "marker": {
          "color": "#00cc96",
          "symbol": "circle"
         },
         "mode": "markers",
         "name": "need",
         "scene": "scene",
         "showlegend": true,
         "type": "scatter3d",
         "x": [
          -0.1724015772342682
         ],
         "y": [
          0.2198096662759781
         ],
         "z": [
          -0.01365318987518549
         ]
        },
        {
         "hovertemplate": "color=back<br>0=%{x}<br>1=%{y}<br>2=%{z}<extra></extra>",
         "legendgroup": "back",
         "marker": {
          "color": "#ab63fa",
          "symbol": "circle"
         },
         "mode": "markers",
         "name": "back",
         "scene": "scene",
         "showlegend": true,
         "type": "scatter3d",
         "x": [
          -0.10631873458623886
         ],
         "y": [
          -0.012285415083169937
         ],
         "z": [
          -0.04735134541988373
         ]
        },
        {
         "hovertemplate": "color=helicarrier<br>0=%{x}<br>1=%{y}<br>2=%{z}<extra></extra>",
         "legendgroup": "helicarrier",
         "marker": {
          "color": "#FFA15A",
          "symbol": "circle"
         },
         "mode": "markers",
         "name": "helicarrier",
         "scene": "scene",
         "showlegend": true,
         "type": "scatter3d",
         "x": [
          -0.07367735356092453
         ],
         "y": [
          0.02830394357442856
         ],
         "z": [
          -0.09469584375619888
         ]
        },
        {
         "hovertemplate": "color=shield<br>0=%{x}<br>1=%{y}<br>2=%{z}<extra></extra>",
         "legendgroup": "shield",
         "marker": {
          "color": "#19d3f3",
          "symbol": "circle"
         },
         "mode": "markers",
         "name": "shield",
         "scene": "scene",
         "showlegend": true,
         "type": "scatter3d",
         "x": [
          0.007922268472611904
         ],
         "y": [
          0.10568887740373611
         ],
         "z": [
          -0.03766512870788574
         ]
        },
        {
         "hovertemplate": "color=control<br>0=%{x}<br>1=%{y}<br>2=%{z}<extra></extra>",
         "legendgroup": "control",
         "marker": {
          "color": "#FF6692",
          "symbol": "circle"
         },
         "mode": "markers",
         "name": "control",
         "scene": "scene",
         "showlegend": true,
         "type": "scatter3d",
         "x": [
          -0.004047601483762264
         ],
         "y": [
          -0.08338185399770737
         ],
         "z": [
          -0.1635439246892929
         ]
        },
        {
         "hovertemplate": "color=group<br>0=%{x}<br>1=%{y}<br>2=%{z}<extra></extra>",
         "legendgroup": "group",
         "marker": {
          "color": "#B6E880",
          "symbol": "circle"
         },
         "mode": "markers",
         "name": "group",
         "scene": "scene",
         "showlegend": true,
         "type": "scatter3d",
         "x": [
          -0.08534202724695206
         ],
         "y": [
          0.026723187416791916
         ],
         "z": [
          -0.016000578179955482
         ]
        },
        {
         "hovertemplate": "color=board<br>0=%{x}<br>1=%{y}<br>2=%{z}<extra></extra>",
         "legendgroup": "board",
         "marker": {
          "color": "#FF97FF",
          "symbol": "circle"
         },
         "mode": "markers",
         "name": "board",
         "scene": "scene",
         "showlegend": true,
         "type": "scatter3d",
         "x": [
          0.08534833043813705
         ],
         "y": [
          -0.04191582649946213
         ],
         "z": [
          -0.09038121998310089
         ]
        },
        {
         "hovertemplate": "color=carrier<br>0=%{x}<br>1=%{y}<br>2=%{z}<extra></extra>",
         "legendgroup": "carrier",
         "marker": {
          "color": "#FECB52",
          "symbol": "circle"
         },
         "mode": "markers",
         "name": "carrier",
         "scene": "scene",
         "showlegend": true,
         "type": "scatter3d",
         "x": [
          0.11915053427219391
         ],
         "y": [
          0.03763487562537193
         ],
         "z": [
          -0.0904352217912674
         ]
        },
        {
         "hovertemplate": "color=make<br>0=%{x}<br>1=%{y}<br>2=%{z}<extra></extra>",
         "legendgroup": "make",
         "marker": {
          "color": "#636efa",
          "symbol": "circle"
         },
         "mode": "markers",
         "name": "make",
         "scene": "scene",
         "showlegend": true,
         "type": "scatter3d",
         "x": [
          -0.09562493115663528
         ],
         "y": [
          0.0455661341547966
         ],
         "z": [
          0.09252238273620605
         ]
        },
        {
         "hovertemplate": "color=world<br>0=%{x}<br>1=%{y}<br>2=%{z}<extra></extra>",
         "legendgroup": "world",
         "marker": {
          "color": "#EF553B",
          "symbol": "circle"
         },
         "mode": "markers",
         "name": "world",
         "scene": "scene",
         "showlegend": true,
         "type": "scatter3d",
         "x": [
          0.04892716556787491
         ],
         "y": [
          0.04360612481832504
         ],
         "z": [
          -0.04943019151687622
         ]
        },
        {
         "hovertemplate": "color=attempt<br>0=%{x}<br>1=%{y}<br>2=%{z}<extra></extra>",
         "legendgroup": "attempt",
         "marker": {
          "color": "#00cc96",
          "symbol": "circle"
         },
         "mode": "markers",
         "name": "attempt",
         "scene": "scene",
         "showlegend": true,
         "type": "scatter3d",
         "x": [
          -0.2113846093416214
         ],
         "y": [
          0.057593028992414474
         ],
         "z": [
          -0.21466979384422302
         ]
        },
        {
         "hovertemplate": "color=attack<br>0=%{x}<br>1=%{y}<br>2=%{z}<extra></extra>",
         "legendgroup": "attack",
         "marker": {
          "color": "#ab63fa",
          "symbol": "circle"
         },
         "mode": "markers",
         "name": "attack",
         "scene": "scene",
         "showlegend": true,
         "type": "scatter3d",
         "x": [
          0.21314503252506256
         ],
         "y": [
          0.03848084807395935
         ],
         "z": [
          0.021451132372021675
         ]
        },
        {
         "hovertemplate": "color=tower<br>0=%{x}<br>1=%{y}<br>2=%{z}<extra></extra>",
         "legendgroup": "tower",
         "marker": {
          "color": "#FFA15A",
          "symbol": "circle"
         },
         "mode": "markers",
         "name": "tower",
         "scene": "scene",
         "showlegend": true,
         "type": "scatter3d",
         "x": [
          -0.0023179827257990837
         ],
         "y": [
          0.07306978106498718
         ],
         "z": [
          -0.014265759848058224
         ]
        },
        {
         "hovertemplate": "color=team<br>0=%{x}<br>1=%{y}<br>2=%{z}<extra></extra>",
         "legendgroup": "team",
         "marker": {
          "color": "#19d3f3",
          "symbol": "circle"
         },
         "mode": "markers",
         "name": "team",
         "scene": "scene",
         "showlegend": true,
         "type": "scatter3d",
         "x": [
          -0.0691472738981247
         ],
         "y": [
          0.019968055188655853
         ],
         "z": [
          0.024910569190979004
         ]
        },
        {
         "hovertemplate": "color=found<br>0=%{x}<br>1=%{y}<br>2=%{z}<extra></extra>",
         "legendgroup": "found",
         "marker": {
          "color": "#FF6692",
          "symbol": "circle"
         },
         "mode": "markers",
         "name": "found",
         "scene": "scene",
         "showlegend": true,
         "type": "scatter3d",
         "x": [
          0.027740471065044403
         ],
         "y": [
          0.19351010024547577
         ],
         "z": [
          -0.10419409722089767
         ]
        },
        {
         "hovertemplate": "color=cell<br>0=%{x}<br>1=%{y}<br>2=%{z}<extra></extra>",
         "legendgroup": "cell",
         "marker": {
          "color": "#B6E880",
          "symbol": "circle"
         },
         "mode": "markers",
         "name": "cell",
         "scene": "scene",
         "showlegend": true,
         "type": "scatter3d",
         "x": [
          0.05559329688549042
         ],
         "y": [
          0.16146999597549438
         ],
         "z": [
          -0.33547917008399963
         ]
        },
        {
         "hovertemplate": "color=n't<br>0=%{x}<br>1=%{y}<br>2=%{z}<extra></extra>",
         "legendgroup": "n't",
         "marker": {
          "color": "#FF97FF",
          "symbol": "circle"
         },
         "mode": "markers",
         "name": "n't",
         "scene": "scene",
         "showlegend": true,
         "type": "scatter3d",
         "x": [
          0.15382027626037598
         ],
         "y": [
          0.0005940882256254554
         ],
         "z": [
          -0.3232195973396301
         ]
        },
        {
         "hovertemplate": "color=bruce<br>0=%{x}<br>1=%{y}<br>2=%{z}<extra></extra>",
         "legendgroup": "bruce",
         "marker": {
          "color": "#FECB52",
          "symbol": "circle"
         },
         "mode": "markers",
         "name": "bruce",
         "scene": "scene",
         "showlegend": true,
         "type": "scatter3d",
         "x": [
          0.0846584215760231
         ],
         "y": [
          0.05152328684926033
         ],
         "z": [
          0.12649060785770416
         ]
        },
        {
         "hovertemplate": "color=two<br>0=%{x}<br>1=%{y}<br>2=%{z}<extra></extra>",
         "legendgroup": "two",
         "marker": {
          "color": "#636efa",
          "symbol": "circle"
         },
         "mode": "markers",
         "name": "two",
         "scene": "scene",
         "showlegend": true,
         "type": "scatter3d",
         "x": [
          -0.012587263248860836
         ],
         "y": [
          -0.025254257023334503
         ],
         "z": [
          -0.023620979860424995
         ]
        },
        {
         "hovertemplate": "color=open<br>0=%{x}<br>1=%{y}<br>2=%{z}<extra></extra>",
         "legendgroup": "open",
         "marker": {
          "color": "#EF553B",
          "symbol": "circle"
         },
         "mode": "markers",
         "name": "open",
         "scene": "scene",
         "showlegend": true,
         "type": "scatter3d",
         "x": [
          0.10693478584289551
         ],
         "y": [
          0.03578457236289978
         ],
         "z": [
          -0.25540265440940857
         ]
        },
        {
         "hovertemplate": "color=barton<br>0=%{x}<br>1=%{y}<br>2=%{z}<extra></extra>",
         "legendgroup": "barton",
         "marker": {
          "color": "#00cc96",
          "symbol": "circle"
         },
         "mode": "markers",
         "name": "barton",
         "scene": "scene",
         "showlegend": true,
         "type": "scatter3d",
         "x": [
          0.014249751344323158
         ],
         "y": [
          0.21322984993457794
         ],
         "z": [
          0.10461203753948212
         ]
        },
        {
         "hovertemplate": "color=fails<br>0=%{x}<br>1=%{y}<br>2=%{z}<extra></extra>",
         "legendgroup": "fails",
         "marker": {
          "color": "#ab63fa",
          "symbol": "circle"
         },
         "mode": "markers",
         "name": "fails",
         "scene": "scene",
         "showlegend": true,
         "type": "scatter3d",
         "x": [
          0.08688721060752869
         ],
         "y": [
          0.12432815134525299
         ],
         "z": [
          0.10874951630830765
         ]
        },
        {
         "hovertemplate": "color=life<br>0=%{x}<br>1=%{y}<br>2=%{z}<extra></extra>",
         "legendgroup": "life",
         "marker": {
          "color": "#FFA15A",
          "symbol": "circle"
         },
         "mode": "markers",
         "name": "life",
         "scene": "scene",
         "showlegend": true,
         "type": "scatter3d",
         "x": [
          0.09379851818084717
         ],
         "y": [
          -0.06548473984003067
         ],
         "z": [
          -0.19028139114379883
         ]
        },
        {
         "hovertemplate": "color=destroying<br>0=%{x}<br>1=%{y}<br>2=%{z}<extra></extra>",
         "legendgroup": "destroying",
         "marker": {
          "color": "#19d3f3",
          "symbol": "circle"
         },
         "mode": "markers",
         "name": "destroying",
         "scene": "scene",
         "showlegend": true,
         "type": "scatter3d",
         "x": [
          -0.1986536830663681
         ],
         "y": [
          -0.10981114208698273
         ],
         "z": [
          0.046892281621694565
         ]
        },
        {
         "hovertemplate": "color=''<br>0=%{x}<br>1=%{y}<br>2=%{z}<extra></extra>",
         "legendgroup": "''",
         "marker": {
          "color": "#FF6692",
          "symbol": "circle"
         },
         "mode": "markers",
         "name": "''",
         "scene": "scene",
         "showlegend": true,
         "type": "scatter3d",
         "x": [
          -0.23805645108222961
         ],
         "y": [
          -0.0044837892055511475
         ],
         "z": [
          0.10075104981660843
         ]
        },
        {
         "hovertemplate": "color=going<br>0=%{x}<br>1=%{y}<br>2=%{z}<extra></extra>",
         "legendgroup": "going",
         "marker": {
          "color": "#B6E880",
          "symbol": "circle"
         },
         "mode": "markers",
         "name": "going",
         "scene": "scene",
         "showlegend": true,
         "type": "scatter3d",
         "x": [
          0.10510815680027008
         ],
         "y": [
          -0.3108362555503845
         ],
         "z": [
          -0.01768122985959053
         ]
        },
        {
         "hovertemplate": "color=building<br>0=%{x}<br>1=%{y}<br>2=%{z}<extra></extra>",
         "legendgroup": "building",
         "marker": {
          "color": "#FF97FF",
          "symbol": "circle"
         },
         "mode": "markers",
         "name": "building",
         "scene": "scene",
         "showlegend": true,
         "type": "scatter3d",
         "x": [
          -0.1349489688873291
         ],
         "y": [
          0.1654946208000183
         ],
         "z": [
          -0.2177211493253708
         ]
        },
        {
         "hovertemplate": "color=also<br>0=%{x}<br>1=%{y}<br>2=%{z}<extra></extra>",
         "legendgroup": "also",
         "marker": {
          "color": "#FECB52",
          "symbol": "circle"
         },
         "mode": "markers",
         "name": "also",
         "scene": "scene",
         "showlegend": true,
         "type": "scatter3d",
         "x": [
          0.03064676746726036
         ],
         "y": [
          0.011064091697335243
         ],
         "z": [
          -0.010541831143200397
         ]
        },
        {
         "hovertemplate": "color=head<br>0=%{x}<br>1=%{y}<br>2=%{z}<extra></extra>",
         "legendgroup": "head",
         "marker": {
          "color": "#636efa",
          "symbol": "circle"
         },
         "mode": "markers",
         "name": "head",
         "scene": "scene",
         "showlegend": true,
         "type": "scatter3d",
         "x": [
          0.1777038425207138
         ],
         "y": [
          0.09919136017560959
         ],
         "z": [
          0.07594948261976242
         ]
        },
        {
         "hovertemplate": "color=god<br>0=%{x}<br>1=%{y}<br>2=%{z}<extra></extra>",
         "legendgroup": "god",
         "marker": {
          "color": "#EF553B",
          "symbol": "circle"
         },
         "mode": "markers",
         "name": "god",
         "scene": "scene",
         "showlegend": true,
         "type": "scatter3d",
         "x": [
          0.03510850667953491
         ],
         "y": [
          0.07744869589805603
         ],
         "z": [
          -0.047429319471120834
         ]
        },
        {
         "hovertemplate": "color=man<br>0=%{x}<br>1=%{y}<br>2=%{z}<extra></extra>",
         "legendgroup": "man",
         "marker": {
          "color": "#00cc96",
          "symbol": "circle"
         },
         "mode": "markers",
         "name": "man",
         "scene": "scene",
         "showlegend": true,
         "type": "scatter3d",
         "x": [
          0.278865784406662
         ],
         "y": [
          0.19212011992931366
         ],
         "z": [
          -0.32475611567497253
         ]
        },
        {
         "hovertemplate": "color=office<br>0=%{x}<br>1=%{y}<br>2=%{z}<extra></extra>",
         "legendgroup": "office",
         "marker": {
          "color": "#ab63fa",
          "symbol": "circle"
         },
         "mode": "markers",
         "name": "office",
         "scene": "scene",
         "showlegend": true,
         "type": "scatter3d",
         "x": [
          -0.06855154037475586
         ],
         "y": [
          -0.10338737070560455
         ],
         "z": [
          0.0431213416159153
         ]
        },
        {
         "hovertemplate": "color=call<br>0=%{x}<br>1=%{y}<br>2=%{z}<extra></extra>",
         "legendgroup": "call",
         "marker": {
          "color": "#FFA15A",
          "symbol": "circle"
         },
         "mode": "markers",
         "name": "call",
         "scene": "scene",
         "showlegend": true,
         "type": "scatter3d",
         "x": [
          0.05956875532865524
         ],
         "y": [
          -0.041941363364458084
         ],
         "z": [
          0.07279542088508606
         ]
        },
        {
         "hovertemplate": "color=completely<br>0=%{x}<br>1=%{y}<br>2=%{z}<extra></extra>",
         "legendgroup": "completely",
         "marker": {
          "color": "#19d3f3",
          "symbol": "circle"
         },
         "mode": "markers",
         "name": "completely",
         "scene": "scene",
         "showlegend": true,
         "type": "scatter3d",
         "x": [
          0.07430043816566467
         ],
         "y": [
          -0.003523514373227954
         ],
         "z": [
          0.01996479369699955
         ]
        },
        {
         "hovertemplate": "color=assignment<br>0=%{x}<br>1=%{y}<br>2=%{z}<extra></extra>",
         "legendgroup": "assignment",
         "marker": {
          "color": "#FF6692",
          "symbol": "circle"
         },
         "mode": "markers",
         "name": "assignment",
         "scene": "scene",
         "showlegend": true,
         "type": "scatter3d",
         "x": [
          -0.03487654775381088
         ],
         "y": [
          0.1935482919216156
         ],
         "z": [
          0.04684934392571449
         ]
        },
        {
         "hovertemplate": "color=fighting<br>0=%{x}<br>1=%{y}<br>2=%{z}<extra></extra>",
         "legendgroup": "fighting",
         "marker": {
          "color": "#B6E880",
          "symbol": "circle"
         },
         "mode": "markers",
         "name": "fighting",
         "scene": "scene",
         "showlegend": true,
         "type": "scatter3d",
         "x": [
          0.005666227545589209
         ],
         "y": [
          -0.06564784795045853
         ],
         "z": [
          -0.04483089596033096
         ]
        },
        {
         "hovertemplate": "color=iron<br>0=%{x}<br>1=%{y}<br>2=%{z}<extra></extra>",
         "legendgroup": "iron",
         "marker": {
          "color": "#FF97FF",
          "symbol": "circle"
         },
         "mode": "markers",
         "name": "iron",
         "scene": "scene",
         "showlegend": true,
         "type": "scatter3d",
         "x": [
          -0.08247988671064377
         ],
         "y": [
          -0.045972567051649094
         ],
         "z": [
          -0.026867270469665527
         ]
        },
        {
         "hovertemplate": "color=plan<br>0=%{x}<br>1=%{y}<br>2=%{z}<extra></extra>",
         "legendgroup": "plan",
         "marker": {
          "color": "#FECB52",
          "symbol": "circle"
         },
         "mode": "markers",
         "name": "plan",
         "scene": "scene",
         "showlegend": true,
         "type": "scatter3d",
         "x": [
          -0.24234363436698914
         ],
         "y": [
          0.045716702938079834
         ],
         "z": [
          -0.13551439344882965
         ]
        },
        {
         "hovertemplate": "color=scepter<br>0=%{x}<br>1=%{y}<br>2=%{z}<extra></extra>",
         "legendgroup": "scepter",
         "marker": {
          "color": "#636efa",
          "symbol": "circle"
         },
         "mode": "markers",
         "name": "scepter",
         "scene": "scene",
         "showlegend": true,
         "type": "scatter3d",
         "x": [
          0.03533649444580078
         ],
         "y": [
          0.0316905714571476
         ],
         "z": [
          0.0023764001671224833
         ]
        },
        {
         "hovertemplate": "color=know<br>0=%{x}<br>1=%{y}<br>2=%{z}<extra></extra>",
         "legendgroup": "know",
         "marker": {
          "color": "#EF553B",
          "symbol": "circle"
         },
         "mode": "markers",
         "name": "know",
         "scene": "scene",
         "showlegend": true,
         "type": "scatter3d",
         "x": [
          0.00989245343953371
         ],
         "y": [
          -0.09338590502738953
         ],
         "z": [
          -0.03915408253669739
         ]
        },
        {
         "hovertemplate": "color=nuke<br>0=%{x}<br>1=%{y}<br>2=%{z}<extra></extra>",
         "legendgroup": "nuke",
         "marker": {
          "color": "#00cc96",
          "symbol": "circle"
         },
         "mode": "markers",
         "name": "nuke",
         "scene": "scene",
         "showlegend": true,
         "type": "scatter3d",
         "x": [
          0.15276242792606354
         ],
         "y": [
          -0.056622497737407684
         ],
         "z": [
          -0.11124370992183685
         ]
        },
        {
         "hovertemplate": "color=hero<br>0=%{x}<br>1=%{y}<br>2=%{z}<extra></extra>",
         "legendgroup": "hero",
         "marker": {
          "color": "#ab63fa",
          "symbol": "circle"
         },
         "mode": "markers",
         "name": "hero",
         "scene": "scene",
         "showlegend": true,
         "type": "scatter3d",
         "x": [
          -0.22097088396549225
         ],
         "y": [
          -0.05953270196914673
         ],
         "z": [
          0.09636787325143814
         ]
        },
        {
         "hovertemplate": "color=way<br>0=%{x}<br>1=%{y}<br>2=%{z}<extra></extra>",
         "legendgroup": "way",
         "marker": {
          "color": "#FFA15A",
          "symbol": "circle"
         },
         "mode": "markers",
         "name": "way",
         "scene": "scene",
         "showlegend": true,
         "type": "scatter3d",
         "x": [
          0.014804352074861526
         ],
         "y": [
          0.09602901339530945
         ],
         "z": [
          -0.02929140254855156
         ]
        },
        {
         "hovertemplate": "color=telling<br>0=%{x}<br>1=%{y}<br>2=%{z}<extra></extra>",
         "legendgroup": "telling",
         "marker": {
          "color": "#19d3f3",
          "symbol": "circle"
         },
         "mode": "markers",
         "name": "telling",
         "scene": "scene",
         "showlegend": true,
         "type": "scatter3d",
         "x": [
          -0.12282796949148178
         ],
         "y": [
          0.12760622799396515
         ],
         "z": [
          -0.09216450899839401
         ]
        },
        {
         "hovertemplate": "color=meanwhile<br>0=%{x}<br>1=%{y}<br>2=%{z}<extra></extra>",
         "legendgroup": "meanwhile",
         "marker": {
          "color": "#FF6692",
          "symbol": "circle"
         },
         "mode": "markers",
         "name": "meanwhile",
         "scene": "scene",
         "showlegend": true,
         "type": "scatter3d",
         "x": [
          -0.06534040719270706
         ],
         "y": [
          -0.13301873207092285
         ],
         "z": [
          -0.029607171192765236
         ]
        },
        {
         "hovertemplate": "color=hit<br>0=%{x}<br>1=%{y}<br>2=%{z}<extra></extra>",
         "legendgroup": "hit",
         "marker": {
          "color": "#B6E880",
          "symbol": "circle"
         },
         "mode": "markers",
         "name": "hit",
         "scene": "scene",
         "showlegend": true,
         "type": "scatter3d",
         "x": [
          0.014227459207177162
         ],
         "y": [
          -0.021683882921934128
         ],
         "z": [
          0.006501834373921156
         ]
        },
        {
         "hovertemplate": "color=death<br>0=%{x}<br>1=%{y}<br>2=%{z}<extra></extra>",
         "legendgroup": "death",
         "marker": {
          "color": "#FF97FF",
          "symbol": "circle"
         },
         "mode": "markers",
         "name": "death",
         "scene": "scene",
         "showlegend": true,
         "type": "scatter3d",
         "x": [
          0.3004221022129059
         ],
         "y": [
          0.030318552628159523
         ],
         "z": [
          0.03142677992582321
         ]
        },
        {
         "hovertemplate": "color=pull<br>0=%{x}<br>1=%{y}<br>2=%{z}<extra></extra>",
         "legendgroup": "pull",
         "marker": {
          "color": "#FECB52",
          "symbol": "circle"
         },
         "mode": "markers",
         "name": "pull",
         "scene": "scene",
         "showlegend": true,
         "type": "scatter3d",
         "x": [
          -0.05014295130968094
         ],
         "y": [
          0.1220293715596199
         ],
         "z": [
          0.0402238555252552
         ]
        },
        {
         "hovertemplate": "color=capability<br>0=%{x}<br>1=%{y}<br>2=%{z}<extra></extra>",
         "legendgroup": "capability",
         "marker": {
          "color": "#636efa",
          "symbol": "circle"
         },
         "mode": "markers",
         "name": "capability",
         "scene": "scene",
         "showlegend": true,
         "type": "scatter3d",
         "x": [
          -0.027652136981487274
         ],
         "y": [
          -0.16120001673698425
         ],
         "z": [
          -0.04447982832789421
         ]
        },
        {
         "hovertemplate": "color=work<br>0=%{x}<br>1=%{y}<br>2=%{z}<extra></extra>",
         "legendgroup": "work",
         "marker": {
          "color": "#EF553B",
          "symbol": "circle"
         },
         "mode": "markers",
         "name": "work",
         "scene": "scene",
         "showlegend": true,
         "type": "scatter3d",
         "x": [
          -0.018145347014069557
         ],
         "y": [
          -0.09469863027334213
         ],
         "z": [
          -0.028690796345472336
         ]
        },
        {
         "hovertemplate": "color=together<br>0=%{x}<br>1=%{y}<br>2=%{z}<extra></extra>",
         "legendgroup": "together",
         "marker": {
          "color": "#00cc96",
          "symbol": "circle"
         },
         "mode": "markers",
         "name": "together",
         "scene": "scene",
         "showlegend": true,
         "type": "scatter3d",
         "x": [
          -0.0015446366742253304
         ],
         "y": [
          0.01924704574048519
         ],
         "z": [
          -0.20694231986999512
         ]
        },
        {
         "hovertemplate": "color=working<br>0=%{x}<br>1=%{y}<br>2=%{z}<extra></extra>",
         "legendgroup": "working",
         "marker": {
          "color": "#ab63fa",
          "symbol": "circle"
         },
         "mode": "markers",
         "name": "working",
         "scene": "scene",
         "showlegend": true,
         "type": "scatter3d",
         "x": [
          0.07413186877965927
         ],
         "y": [
          0.15376120805740356
         ],
         "z": [
          -0.09661984443664551
         ]
        },
        {
         "hovertemplate": "color=harness<br>0=%{x}<br>1=%{y}<br>2=%{z}<extra></extra>",
         "legendgroup": "harness",
         "marker": {
          "color": "#FFA15A",
          "symbol": "circle"
         },
         "mode": "markers",
         "name": "harness",
         "scene": "scene",
         "showlegend": true,
         "type": "scatter3d",
         "x": [
          0.10068146139383316
         ],
         "y": [
          -0.15904387831687927
         ],
         "z": [
          0.10683533549308777
         ]
        },
        {
         "hovertemplate": "color=york<br>0=%{x}<br>1=%{y}<br>2=%{z}<extra></extra>",
         "legendgroup": "york",
         "marker": {
          "color": "#19d3f3",
          "symbol": "circle"
         },
         "mode": "markers",
         "name": "york",
         "scene": "scene",
         "showlegend": true,
         "type": "scatter3d",
         "x": [
          0.009717976674437523
         ],
         "y": [
          -0.12689208984375
         ],
         "z": [
          0.09584955126047134
         ]
        },
        {
         "hovertemplate": "color=people<br>0=%{x}<br>1=%{y}<br>2=%{z}<extra></extra>",
         "legendgroup": "people",
         "marker": {
          "color": "#FF6692",
          "symbol": "circle"
         },
         "mode": "markers",
         "name": "people",
         "scene": "scene",
         "showlegend": true,
         "type": "scatter3d",
         "x": [
          0.035587385296821594
         ],
         "y": [
          -0.15447628498077393
         ],
         "z": [
          -0.034709446132183075
         ]
        },
        {
         "hovertemplate": "color=mind<br>0=%{x}<br>1=%{y}<br>2=%{z}<extra></extra>",
         "legendgroup": "mind",
         "marker": {
          "color": "#B6E880",
          "symbol": "circle"
         },
         "mode": "markers",
         "name": "mind",
         "scene": "scene",
         "showlegend": true,
         "type": "scatter3d",
         "x": [
          0.004632302559912205
         ],
         "y": [
          -0.06480269134044647
         ],
         "z": [
          -0.06789495795965195
         ]
        },
        {
         "hovertemplate": "color=made<br>0=%{x}<br>1=%{y}<br>2=%{z}<extra></extra>",
         "legendgroup": "made",
         "marker": {
          "color": "#FF97FF",
          "symbol": "circle"
         },
         "mode": "markers",
         "name": "made",
         "scene": "scene",
         "showlegend": true,
         "type": "scatter3d",
         "x": [
          0.014069740660488605
         ],
         "y": [
          0.00927684735506773
         ],
         "z": [
          0.2769932746887207
         ]
        },
        {
         "hovertemplate": "color=unfortunately<br>0=%{x}<br>1=%{y}<br>2=%{z}<extra></extra>",
         "legendgroup": "unfortunately",
         "marker": {
          "color": "#FECB52",
          "symbol": "circle"
         },
         "mode": "markers",
         "name": "unfortunately",
         "scene": "scene",
         "showlegend": true,
         "type": "scatter3d",
         "x": [
          -0.18207098543643951
         ],
         "y": [
          -0.013401235453784466
         ],
         "z": [
          -0.04856039956212044
         ]
        },
        {
         "hovertemplate": "color=escape<br>0=%{x}<br>1=%{y}<br>2=%{z}<extra></extra>",
         "legendgroup": "escape",
         "marker": {
          "color": "#636efa",
          "symbol": "circle"
         },
         "mode": "markers",
         "name": "escape",
         "scene": "scene",
         "showlegend": true,
         "type": "scatter3d",
         "x": [
          -0.15040287375450134
         ],
         "y": [
          0.019093776121735573
         ],
         "z": [
          -0.14576344192028046
         ]
        },
        {
         "hovertemplate": "color=aircraft<br>0=%{x}<br>1=%{y}<br>2=%{z}<extra></extra>",
         "legendgroup": "aircraft",
         "marker": {
          "color": "#EF553B",
          "symbol": "circle"
         },
         "mode": "markers",
         "name": "aircraft",
         "scene": "scene",
         "showlegend": true,
         "type": "scatter3d",
         "x": [
          -0.17090009152889252
         ],
         "y": [
          0.014479173347353935
         ],
         "z": [
          0.10992833971977234
         ]
        },
        {
         "hovertemplate": "color=incredible<br>0=%{x}<br>1=%{y}<br>2=%{z}<extra></extra>",
         "legendgroup": "incredible",
         "marker": {
          "color": "#00cc96",
          "symbol": "circle"
         },
         "mode": "markers",
         "name": "incredible",
         "scene": "scene",
         "showlegend": true,
         "type": "scatter3d",
         "x": [
          0.19935162365436554
         ],
         "y": [
          -0.24427631497383118
         ],
         "z": [
          -0.16891559958457947
         ]
        },
        {
         "hovertemplate": "color=hawkeye<br>0=%{x}<br>1=%{y}<br>2=%{z}<extra></extra>",
         "legendgroup": "hawkeye",
         "marker": {
          "color": "#ab63fa",
          "symbol": "circle"
         },
         "mode": "markers",
         "name": "hawkeye",
         "scene": "scene",
         "showlegend": true,
         "type": "scatter3d",
         "x": [
          0.14303608238697052
         ],
         "y": [
          0.07593279331922531
         ],
         "z": [
          0.005208053160458803
         ]
        },
        {
         "hovertemplate": "color=next<br>0=%{x}<br>1=%{y}<br>2=%{z}<extra></extra>",
         "legendgroup": "next",
         "marker": {
          "color": "#FFA15A",
          "symbol": "circle"
         },
         "mode": "markers",
         "name": "next",
         "scene": "scene",
         "showlegend": true,
         "type": "scatter3d",
         "x": [
          0.19586476683616638
         ],
         "y": [
          -0.18867473304271698
         ],
         "z": [
          0.06764501333236694
         ]
        },
        {
         "hovertemplate": "color=fight<br>0=%{x}<br>1=%{y}<br>2=%{z}<extra></extra>",
         "legendgroup": "fight",
         "marker": {
          "color": "#19d3f3",
          "symbol": "circle"
         },
         "mode": "markers",
         "name": "fight",
         "scene": "scene",
         "showlegend": true,
         "type": "scatter3d",
         "x": [
          0.10375351458787918
         ],
         "y": [
          -0.09827569872140884
         ],
         "z": [
          0.06122242286801338
         ]
        },
        {
         "hovertemplate": "color=ship<br>0=%{x}<br>1=%{y}<br>2=%{z}<extra></extra>",
         "legendgroup": "ship",
         "marker": {
          "color": "#FF6692",
          "symbol": "circle"
         },
         "mode": "markers",
         "name": "ship",
         "scene": "scene",
         "showlegend": true,
         "type": "scatter3d",
         "x": [
          -0.07191277295351028
         ],
         "y": [
          0.023040203377604485
         ],
         "z": [
          -0.05316907539963722
         ]
        },
        {
         "hovertemplate": "color=quickly<br>0=%{x}<br>1=%{y}<br>2=%{z}<extra></extra>",
         "legendgroup": "quickly",
         "marker": {
          "color": "#B6E880",
          "symbol": "circle"
         },
         "mode": "markers",
         "name": "quickly",
         "scene": "scene",
         "showlegend": true,
         "type": "scatter3d",
         "x": [
          -0.18156620860099792
         ],
         "y": [
          0.1513962596654892
         ],
         "z": [
          0.05410252884030342
         ]
        },
        {
         "hovertemplate": "color=device<br>0=%{x}<br>1=%{y}<br>2=%{z}<extra></extra>",
         "legendgroup": "device",
         "marker": {
          "color": "#FF97FF",
          "symbol": "circle"
         },
         "mode": "markers",
         "name": "device",
         "scene": "scene",
         "showlegend": true,
         "type": "scatter3d",
         "x": [
          -0.2351762056350708
         ],
         "y": [
          0.2301311492919922
         ],
         "z": [
          -0.022958524525165558
         ]
        },
        {
         "hovertemplate": "color=used<br>0=%{x}<br>1=%{y}<br>2=%{z}<extra></extra>",
         "legendgroup": "used",
         "marker": {
          "color": "#FECB52",
          "symbol": "circle"
         },
         "mode": "markers",
         "name": "used",
         "scene": "scene",
         "showlegend": true,
         "type": "scatter3d",
         "x": [
          0.02475787326693535
         ],
         "y": [
          -0.27755284309387207
         ],
         "z": [
          0.1340903341770172
         ]
        }
       ],
       "layout": {
        "legend": {
         "title": {
          "text": "color"
         },
         "tracegroupgap": 0
        },
        "margin": {
         "t": 60
        },
        "scene": {
         "domain": {
          "x": [
           0,
           1
          ],
          "y": [
           0,
           1
          ]
         },
         "xaxis": {
          "title": {
           "text": "0"
          }
         },
         "yaxis": {
          "title": {
           "text": "1"
          }
         },
         "zaxis": {
          "title": {
           "text": "2"
          }
         }
        },
        "template": {
         "data": {
          "bar": [
           {
            "error_x": {
             "color": "#2a3f5f"
            },
            "error_y": {
             "color": "#2a3f5f"
            },
            "marker": {
             "line": {
              "color": "#E5ECF6",
              "width": 0.5
             },
             "pattern": {
              "fillmode": "overlay",
              "size": 10,
              "solidity": 0.2
             }
            },
            "type": "bar"
           }
          ],
          "barpolar": [
           {
            "marker": {
             "line": {
              "color": "#E5ECF6",
              "width": 0.5
             },
             "pattern": {
              "fillmode": "overlay",
              "size": 10,
              "solidity": 0.2
             }
            },
            "type": "barpolar"
           }
          ],
          "carpet": [
           {
            "aaxis": {
             "endlinecolor": "#2a3f5f",
             "gridcolor": "white",
             "linecolor": "white",
             "minorgridcolor": "white",
             "startlinecolor": "#2a3f5f"
            },
            "baxis": {
             "endlinecolor": "#2a3f5f",
             "gridcolor": "white",
             "linecolor": "white",
             "minorgridcolor": "white",
             "startlinecolor": "#2a3f5f"
            },
            "type": "carpet"
           }
          ],
          "choropleth": [
           {
            "colorbar": {
             "outlinewidth": 0,
             "ticks": ""
            },
            "type": "choropleth"
           }
          ],
          "contour": [
           {
            "colorbar": {
             "outlinewidth": 0,
             "ticks": ""
            },
            "colorscale": [
             [
              0,
              "#0d0887"
             ],
             [
              0.1111111111111111,
              "#46039f"
             ],
             [
              0.2222222222222222,
              "#7201a8"
             ],
             [
              0.3333333333333333,
              "#9c179e"
             ],
             [
              0.4444444444444444,
              "#bd3786"
             ],
             [
              0.5555555555555556,
              "#d8576b"
             ],
             [
              0.6666666666666666,
              "#ed7953"
             ],
             [
              0.7777777777777778,
              "#fb9f3a"
             ],
             [
              0.8888888888888888,
              "#fdca26"
             ],
             [
              1,
              "#f0f921"
             ]
            ],
            "type": "contour"
           }
          ],
          "contourcarpet": [
           {
            "colorbar": {
             "outlinewidth": 0,
             "ticks": ""
            },
            "type": "contourcarpet"
           }
          ],
          "heatmap": [
           {
            "colorbar": {
             "outlinewidth": 0,
             "ticks": ""
            },
            "colorscale": [
             [
              0,
              "#0d0887"
             ],
             [
              0.1111111111111111,
              "#46039f"
             ],
             [
              0.2222222222222222,
              "#7201a8"
             ],
             [
              0.3333333333333333,
              "#9c179e"
             ],
             [
              0.4444444444444444,
              "#bd3786"
             ],
             [
              0.5555555555555556,
              "#d8576b"
             ],
             [
              0.6666666666666666,
              "#ed7953"
             ],
             [
              0.7777777777777778,
              "#fb9f3a"
             ],
             [
              0.8888888888888888,
              "#fdca26"
             ],
             [
              1,
              "#f0f921"
             ]
            ],
            "type": "heatmap"
           }
          ],
          "heatmapgl": [
           {
            "colorbar": {
             "outlinewidth": 0,
             "ticks": ""
            },
            "colorscale": [
             [
              0,
              "#0d0887"
             ],
             [
              0.1111111111111111,
              "#46039f"
             ],
             [
              0.2222222222222222,
              "#7201a8"
             ],
             [
              0.3333333333333333,
              "#9c179e"
             ],
             [
              0.4444444444444444,
              "#bd3786"
             ],
             [
              0.5555555555555556,
              "#d8576b"
             ],
             [
              0.6666666666666666,
              "#ed7953"
             ],
             [
              0.7777777777777778,
              "#fb9f3a"
             ],
             [
              0.8888888888888888,
              "#fdca26"
             ],
             [
              1,
              "#f0f921"
             ]
            ],
            "type": "heatmapgl"
           }
          ],
          "histogram": [
           {
            "marker": {
             "pattern": {
              "fillmode": "overlay",
              "size": 10,
              "solidity": 0.2
             }
            },
            "type": "histogram"
           }
          ],
          "histogram2d": [
           {
            "colorbar": {
             "outlinewidth": 0,
             "ticks": ""
            },
            "colorscale": [
             [
              0,
              "#0d0887"
             ],
             [
              0.1111111111111111,
              "#46039f"
             ],
             [
              0.2222222222222222,
              "#7201a8"
             ],
             [
              0.3333333333333333,
              "#9c179e"
             ],
             [
              0.4444444444444444,
              "#bd3786"
             ],
             [
              0.5555555555555556,
              "#d8576b"
             ],
             [
              0.6666666666666666,
              "#ed7953"
             ],
             [
              0.7777777777777778,
              "#fb9f3a"
             ],
             [
              0.8888888888888888,
              "#fdca26"
             ],
             [
              1,
              "#f0f921"
             ]
            ],
            "type": "histogram2d"
           }
          ],
          "histogram2dcontour": [
           {
            "colorbar": {
             "outlinewidth": 0,
             "ticks": ""
            },
            "colorscale": [
             [
              0,
              "#0d0887"
             ],
             [
              0.1111111111111111,
              "#46039f"
             ],
             [
              0.2222222222222222,
              "#7201a8"
             ],
             [
              0.3333333333333333,
              "#9c179e"
             ],
             [
              0.4444444444444444,
              "#bd3786"
             ],
             [
              0.5555555555555556,
              "#d8576b"
             ],
             [
              0.6666666666666666,
              "#ed7953"
             ],
             [
              0.7777777777777778,
              "#fb9f3a"
             ],
             [
              0.8888888888888888,
              "#fdca26"
             ],
             [
              1,
              "#f0f921"
             ]
            ],
            "type": "histogram2dcontour"
           }
          ],
          "mesh3d": [
           {
            "colorbar": {
             "outlinewidth": 0,
             "ticks": ""
            },
            "type": "mesh3d"
           }
          ],
          "parcoords": [
           {
            "line": {
             "colorbar": {
              "outlinewidth": 0,
              "ticks": ""
             }
            },
            "type": "parcoords"
           }
          ],
          "pie": [
           {
            "automargin": true,
            "type": "pie"
           }
          ],
          "scatter": [
           {
            "fillpattern": {
             "fillmode": "overlay",
             "size": 10,
             "solidity": 0.2
            },
            "type": "scatter"
           }
          ],
          "scatter3d": [
           {
            "line": {
             "colorbar": {
              "outlinewidth": 0,
              "ticks": ""
             }
            },
            "marker": {
             "colorbar": {
              "outlinewidth": 0,
              "ticks": ""
             }
            },
            "type": "scatter3d"
           }
          ],
          "scattercarpet": [
           {
            "marker": {
             "colorbar": {
              "outlinewidth": 0,
              "ticks": ""
             }
            },
            "type": "scattercarpet"
           }
          ],
          "scattergeo": [
           {
            "marker": {
             "colorbar": {
              "outlinewidth": 0,
              "ticks": ""
             }
            },
            "type": "scattergeo"
           }
          ],
          "scattergl": [
           {
            "marker": {
             "colorbar": {
              "outlinewidth": 0,
              "ticks": ""
             }
            },
            "type": "scattergl"
           }
          ],
          "scattermapbox": [
           {
            "marker": {
             "colorbar": {
              "outlinewidth": 0,
              "ticks": ""
             }
            },
            "type": "scattermapbox"
           }
          ],
          "scatterpolar": [
           {
            "marker": {
             "colorbar": {
              "outlinewidth": 0,
              "ticks": ""
             }
            },
            "type": "scatterpolar"
           }
          ],
          "scatterpolargl": [
           {
            "marker": {
             "colorbar": {
              "outlinewidth": 0,
              "ticks": ""
             }
            },
            "type": "scatterpolargl"
           }
          ],
          "scatterternary": [
           {
            "marker": {
             "colorbar": {
              "outlinewidth": 0,
              "ticks": ""
             }
            },
            "type": "scatterternary"
           }
          ],
          "surface": [
           {
            "colorbar": {
             "outlinewidth": 0,
             "ticks": ""
            },
            "colorscale": [
             [
              0,
              "#0d0887"
             ],
             [
              0.1111111111111111,
              "#46039f"
             ],
             [
              0.2222222222222222,
              "#7201a8"
             ],
             [
              0.3333333333333333,
              "#9c179e"
             ],
             [
              0.4444444444444444,
              "#bd3786"
             ],
             [
              0.5555555555555556,
              "#d8576b"
             ],
             [
              0.6666666666666666,
              "#ed7953"
             ],
             [
              0.7777777777777778,
              "#fb9f3a"
             ],
             [
              0.8888888888888888,
              "#fdca26"
             ],
             [
              1,
              "#f0f921"
             ]
            ],
            "type": "surface"
           }
          ],
          "table": [
           {
            "cells": {
             "fill": {
              "color": "#EBF0F8"
             },
             "line": {
              "color": "white"
             }
            },
            "header": {
             "fill": {
              "color": "#C8D4E3"
             },
             "line": {
              "color": "white"
             }
            },
            "type": "table"
           }
          ]
         },
         "layout": {
          "annotationdefaults": {
           "arrowcolor": "#2a3f5f",
           "arrowhead": 0,
           "arrowwidth": 1
          },
          "autotypenumbers": "strict",
          "coloraxis": {
           "colorbar": {
            "outlinewidth": 0,
            "ticks": ""
           }
          },
          "colorscale": {
           "diverging": [
            [
             0,
             "#8e0152"
            ],
            [
             0.1,
             "#c51b7d"
            ],
            [
             0.2,
             "#de77ae"
            ],
            [
             0.3,
             "#f1b6da"
            ],
            [
             0.4,
             "#fde0ef"
            ],
            [
             0.5,
             "#f7f7f7"
            ],
            [
             0.6,
             "#e6f5d0"
            ],
            [
             0.7,
             "#b8e186"
            ],
            [
             0.8,
             "#7fbc41"
            ],
            [
             0.9,
             "#4d9221"
            ],
            [
             1,
             "#276419"
            ]
           ],
           "sequential": [
            [
             0,
             "#0d0887"
            ],
            [
             0.1111111111111111,
             "#46039f"
            ],
            [
             0.2222222222222222,
             "#7201a8"
            ],
            [
             0.3333333333333333,
             "#9c179e"
            ],
            [
             0.4444444444444444,
             "#bd3786"
            ],
            [
             0.5555555555555556,
             "#d8576b"
            ],
            [
             0.6666666666666666,
             "#ed7953"
            ],
            [
             0.7777777777777778,
             "#fb9f3a"
            ],
            [
             0.8888888888888888,
             "#fdca26"
            ],
            [
             1,
             "#f0f921"
            ]
           ],
           "sequentialminus": [
            [
             0,
             "#0d0887"
            ],
            [
             0.1111111111111111,
             "#46039f"
            ],
            [
             0.2222222222222222,
             "#7201a8"
            ],
            [
             0.3333333333333333,
             "#9c179e"
            ],
            [
             0.4444444444444444,
             "#bd3786"
            ],
            [
             0.5555555555555556,
             "#d8576b"
            ],
            [
             0.6666666666666666,
             "#ed7953"
            ],
            [
             0.7777777777777778,
             "#fb9f3a"
            ],
            [
             0.8888888888888888,
             "#fdca26"
            ],
            [
             1,
             "#f0f921"
            ]
           ]
          },
          "colorway": [
           "#636efa",
           "#EF553B",
           "#00cc96",
           "#ab63fa",
           "#FFA15A",
           "#19d3f3",
           "#FF6692",
           "#B6E880",
           "#FF97FF",
           "#FECB52"
          ],
          "font": {
           "color": "#2a3f5f"
          },
          "geo": {
           "bgcolor": "white",
           "lakecolor": "white",
           "landcolor": "#E5ECF6",
           "showlakes": true,
           "showland": true,
           "subunitcolor": "white"
          },
          "hoverlabel": {
           "align": "left"
          },
          "hovermode": "closest",
          "mapbox": {
           "style": "light"
          },
          "paper_bgcolor": "white",
          "plot_bgcolor": "#E5ECF6",
          "polar": {
           "angularaxis": {
            "gridcolor": "white",
            "linecolor": "white",
            "ticks": ""
           },
           "bgcolor": "#E5ECF6",
           "radialaxis": {
            "gridcolor": "white",
            "linecolor": "white",
            "ticks": ""
           }
          },
          "scene": {
           "xaxis": {
            "backgroundcolor": "#E5ECF6",
            "gridcolor": "white",
            "gridwidth": 2,
            "linecolor": "white",
            "showbackground": true,
            "ticks": "",
            "zerolinecolor": "white"
           },
           "yaxis": {
            "backgroundcolor": "#E5ECF6",
            "gridcolor": "white",
            "gridwidth": 2,
            "linecolor": "white",
            "showbackground": true,
            "ticks": "",
            "zerolinecolor": "white"
           },
           "zaxis": {
            "backgroundcolor": "#E5ECF6",
            "gridcolor": "white",
            "gridwidth": 2,
            "linecolor": "white",
            "showbackground": true,
            "ticks": "",
            "zerolinecolor": "white"
           }
          },
          "shapedefaults": {
           "line": {
            "color": "#2a3f5f"
           }
          },
          "ternary": {
           "aaxis": {
            "gridcolor": "white",
            "linecolor": "white",
            "ticks": ""
           },
           "baxis": {
            "gridcolor": "white",
            "linecolor": "white",
            "ticks": ""
           },
           "bgcolor": "#E5ECF6",
           "caxis": {
            "gridcolor": "white",
            "linecolor": "white",
            "ticks": ""
           }
          },
          "title": {
           "x": 0.05
          },
          "xaxis": {
           "automargin": true,
           "gridcolor": "white",
           "linecolor": "white",
           "ticks": "",
           "title": {
            "standoff": 15
           },
           "zerolinecolor": "white",
           "zerolinewidth": 2
          },
          "yaxis": {
           "automargin": true,
           "gridcolor": "white",
           "linecolor": "white",
           "ticks": "",
           "title": {
            "standoff": 15
           },
           "zerolinecolor": "white",
           "zerolinewidth": 2
          }
         }
        }
       }
      },
      "text/html": [
       "<div>                            <div id=\"636acb01-12ae-481e-bad2-bd622f4f1c74\" class=\"plotly-graph-div\" style=\"height:525px; width:100%;\"></div>            <script type=\"text/javascript\">                require([\"plotly\"], function(Plotly) {                    window.PLOTLYENV=window.PLOTLYENV || {};                                    if (document.getElementById(\"636acb01-12ae-481e-bad2-bd622f4f1c74\")) {                    Plotly.newPlot(                        \"636acb01-12ae-481e-bad2-bd622f4f1c74\",                        [{\"hovertemplate\":\"color=loki<br>0=%{x}<br>1=%{y}<br>2=%{z}<extra></extra>\",\"legendgroup\":\"loki\",\"marker\":{\"color\":\"#636efa\",\"symbol\":\"circle\"},\"mode\":\"markers\",\"name\":\"loki\",\"scene\":\"scene\",\"showlegend\":true,\"x\":[-0.016236210241913795],\"y\":[-0.052892353385686874],\"z\":[-0.24216872453689575],\"type\":\"scatter3d\"},{\"hovertemplate\":\"color='s<br>0=%{x}<br>1=%{y}<br>2=%{z}<extra></extra>\",\"legendgroup\":\"'s\",\"marker\":{\"color\":\"#EF553B\",\"symbol\":\"circle\"},\"mode\":\"markers\",\"name\":\"'s\",\"scene\":\"scene\",\"showlegend\":true,\"x\":[0.0679188221693039],\"y\":[-0.06781712919473648],\"z\":[-0.08178716897964478],\"type\":\"scatter3d\"},{\"hovertemplate\":\"color=tony<br>0=%{x}<br>1=%{y}<br>2=%{z}<extra></extra>\",\"legendgroup\":\"tony\",\"marker\":{\"color\":\"#00cc96\",\"symbol\":\"circle\"},\"mode\":\"markers\",\"name\":\"tony\",\"scene\":\"scene\",\"showlegend\":true,\"x\":[0.21594487130641937],\"y\":[0.06051170453429222],\"z\":[-0.027783650904893875],\"type\":\"scatter3d\"},{\"hovertemplate\":\"color=stark<br>0=%{x}<br>1=%{y}<br>2=%{z}<extra></extra>\",\"legendgroup\":\"stark\",\"marker\":{\"color\":\"#ab63fa\",\"symbol\":\"circle\"},\"mode\":\"markers\",\"name\":\"stark\",\"scene\":\"scene\",\"showlegend\":true,\"x\":[0.09945008158683777],\"y\":[0.06167982891201973],\"z\":[0.08202467858791351],\"type\":\"scatter3d\"},{\"hovertemplate\":\"color=fury<br>0=%{x}<br>1=%{y}<br>2=%{z}<extra></extra>\",\"legendgroup\":\"fury\",\"marker\":{\"color\":\"#FFA15A\",\"symbol\":\"circle\"},\"mode\":\"markers\",\"name\":\"fury\",\"scene\":\"scene\",\"showlegend\":true,\"x\":[0.14063967764377594],\"y\":[0.11546772718429565],\"z\":[-0.044616688042879105],\"type\":\"scatter3d\"},{\"hovertemplate\":\"color=rogers<br>0=%{x}<br>1=%{y}<br>2=%{z}<extra></extra>\",\"legendgroup\":\"rogers\",\"marker\":{\"color\":\"#19d3f3\",\"symbol\":\"circle\"},\"mode\":\"markers\",\"name\":\"rogers\",\"scene\":\"scene\",\"showlegend\":true,\"x\":[-0.022256838157773018],\"y\":[0.08572657406330109],\"z\":[0.061715539544820786],\"type\":\"scatter3d\"},{\"hovertemplate\":\"color=banner<br>0=%{x}<br>1=%{y}<br>2=%{z}<extra></extra>\",\"legendgroup\":\"banner\",\"marker\":{\"color\":\"#FF6692\",\"symbol\":\"circle\"},\"mode\":\"markers\",\"name\":\"banner\",\"scene\":\"scene\",\"showlegend\":true,\"x\":[-0.07060469686985016],\"y\":[-0.28666502237319946],\"z\":[-0.13418357074260712],\"type\":\"scatter3d\"},{\"hovertemplate\":\"color=coulson<br>0=%{x}<br>1=%{y}<br>2=%{z}<extra></extra>\",\"legendgroup\":\"coulson\",\"marker\":{\"color\":\"#B6E880\",\"symbol\":\"circle\"},\"mode\":\"markers\",\"name\":\"coulson\",\"scene\":\"scene\",\"showlegend\":true,\"x\":[-0.04707970842719078],\"y\":[0.023785684257745743],\"z\":[0.031953342258930206],\"type\":\"scatter3d\"},{\"hovertemplate\":\"color=romanoff<br>0=%{x}<br>1=%{y}<br>2=%{z}<extra></extra>\",\"legendgroup\":\"romanoff\",\"marker\":{\"color\":\"#FF97FF\",\"symbol\":\"circle\"},\"mode\":\"markers\",\"name\":\"romanoff\",\"scene\":\"scene\",\"showlegend\":true,\"x\":[0.16442063450813293],\"y\":[0.12669244408607483],\"z\":[-0.0008234392735175788],\"type\":\"scatter3d\"},{\"hovertemplate\":\"color=hulk<br>0=%{x}<br>1=%{y}<br>2=%{z}<extra></extra>\",\"legendgroup\":\"hulk\",\"marker\":{\"color\":\"#FECB52\",\"symbol\":\"circle\"},\"mode\":\"markers\",\"name\":\"hulk\",\"scene\":\"scene\",\"showlegend\":true,\"x\":[0.058035433292388916],\"y\":[-0.2771967947483063],\"z\":[-0.233416348695755],\"type\":\"scatter3d\"},{\"hovertemplate\":\"color=dr.<br>0=%{x}<br>1=%{y}<br>2=%{z}<extra></extra>\",\"legendgroup\":\"dr.\",\"marker\":{\"color\":\"#636efa\",\"symbol\":\"circle\"},\"mode\":\"markers\",\"name\":\"dr.\",\"scene\":\"scene\",\"showlegend\":true,\"x\":[0.09248489886522293],\"y\":[0.02435726299881935],\"z\":[0.19174808263778687],\"type\":\"scatter3d\"},{\"hovertemplate\":\"color=portal<br>0=%{x}<br>1=%{y}<br>2=%{z}<extra></extra>\",\"legendgroup\":\"portal\",\"marker\":{\"color\":\"#EF553B\",\"symbol\":\"circle\"},\"mode\":\"markers\",\"name\":\"portal\",\"scene\":\"scene\",\"showlegend\":true,\"x\":[-0.013437709771096706],\"y\":[-0.05111003667116165],\"z\":[0.13226757943630219],\"type\":\"scatter3d\"},{\"hovertemplate\":\"color=avenger<br>0=%{x}<br>1=%{y}<br>2=%{z}<extra></extra>\",\"legendgroup\":\"avenger\",\"marker\":{\"color\":\"#00cc96\",\"symbol\":\"circle\"},\"mode\":\"markers\",\"name\":\"avenger\",\"scene\":\"scene\",\"showlegend\":true,\"x\":[-0.05597485601902008],\"y\":[0.09086226671934128],\"z\":[-0.1044420599937439],\"type\":\"scatter3d\"},{\"hovertemplate\":\"color=earth<br>0=%{x}<br>1=%{y}<br>2=%{z}<extra></extra>\",\"legendgroup\":\"earth\",\"marker\":{\"color\":\"#ab63fa\",\"symbol\":\"circle\"},\"mode\":\"markers\",\"name\":\"earth\",\"scene\":\"scene\",\"showlegend\":true,\"x\":[0.006026645191013813],\"y\":[-0.09288597851991653],\"z\":[0.0693061426281929],\"type\":\"scatter3d\"},{\"hovertemplate\":\"color=thor<br>0=%{x}<br>1=%{y}<br>2=%{z}<extra></extra>\",\"legendgroup\":\"thor\",\"marker\":{\"color\":\"#FFA15A\",\"symbol\":\"circle\"},\"mode\":\"markers\",\"name\":\"thor\",\"scene\":\"scene\",\"showlegend\":true,\"x\":[-0.08819896727800369],\"y\":[0.05756644159555435],\"z\":[-0.05289600417017937],\"type\":\"scatter3d\"},{\"hovertemplate\":\"color=tell<br>0=%{x}<br>1=%{y}<br>2=%{z}<extra></extra>\",\"legendgroup\":\"tell\",\"marker\":{\"color\":\"#19d3f3\",\"symbol\":\"circle\"},\"mode\":\"markers\",\"name\":\"tell\",\"scene\":\"scene\",\"showlegend\":true,\"x\":[-0.18730325996875763],\"y\":[0.0044531431049108505],\"z\":[0.11176472157239914],\"type\":\"scatter3d\"},{\"hovertemplate\":\"color=tesseract<br>0=%{x}<br>1=%{y}<br>2=%{z}<extra></extra>\",\"legendgroup\":\"tesseract\",\"marker\":{\"color\":\"#FF6692\",\"symbol\":\"circle\"},\"mode\":\"markers\",\"name\":\"tesseract\",\"scene\":\"scene\",\"showlegend\":true,\"x\":[-0.05494660511612892],\"y\":[-0.028283406049013138],\"z\":[-0.13983601331710815],\"type\":\"scatter3d\"},{\"hovertemplate\":\"color=take<br>0=%{x}<br>1=%{y}<br>2=%{z}<extra></extra>\",\"legendgroup\":\"take\",\"marker\":{\"color\":\"#B6E880\",\"symbol\":\"circle\"},\"mode\":\"markers\",\"name\":\"take\",\"scene\":\"scene\",\"showlegend\":true,\"x\":[-0.18283580243587494],\"y\":[-0.12490100413560867],\"z\":[-0.07838831096887589],\"type\":\"scatter3d\"},{\"hovertemplate\":\"color=one<br>0=%{x}<br>1=%{y}<br>2=%{z}<extra></extra>\",\"legendgroup\":\"one\",\"marker\":{\"color\":\"#FF97FF\",\"symbol\":\"circle\"},\"mode\":\"markers\",\"name\":\"one\",\"scene\":\"scene\",\"showlegend\":true,\"x\":[0.13719414174556732],\"y\":[-0.12394453585147858],\"z\":[0.11911864578723907],\"type\":\"scatter3d\"},{\"hovertemplate\":\"color=selvig<br>0=%{x}<br>1=%{y}<br>2=%{z}<extra></extra>\",\"legendgroup\":\"selvig\",\"marker\":{\"color\":\"#FECB52\",\"symbol\":\"circle\"},\"mode\":\"markers\",\"name\":\"selvig\",\"scene\":\"scene\",\"showlegend\":true,\"x\":[0.060507386922836304],\"y\":[0.043080128729343414],\"z\":[0.05301560088992119],\"type\":\"scatter3d\"},{\"hovertemplate\":\"color=chitauri<br>0=%{x}<br>1=%{y}<br>2=%{z}<extra></extra>\",\"legendgroup\":\"chitauri\",\"marker\":{\"color\":\"#636efa\",\"symbol\":\"circle\"},\"mode\":\"markers\",\"name\":\"chitauri\",\"scene\":\"scene\",\"showlegend\":true,\"x\":[-0.02612442709505558],\"y\":[0.15329532325267792],\"z\":[-0.21359990537166595],\"type\":\"scatter3d\"},{\"hovertemplate\":\"color=get<br>0=%{x}<br>1=%{y}<br>2=%{z}<extra></extra>\",\"legendgroup\":\"get\",\"marker\":{\"color\":\"#EF553B\",\"symbol\":\"circle\"},\"mode\":\"markers\",\"name\":\"get\",\"scene\":\"scene\",\"showlegend\":true,\"x\":[0.02613193728029728],\"y\":[-0.06464536488056183],\"z\":[-0.04647712782025337],\"type\":\"scatter3d\"},{\"hovertemplate\":\"color=new<br>0=%{x}<br>1=%{y}<br>2=%{z}<extra></extra>\",\"legendgroup\":\"new\",\"marker\":{\"color\":\"#00cc96\",\"symbol\":\"circle\"},\"mode\":\"markers\",\"name\":\"new\",\"scene\":\"scene\",\"showlegend\":true,\"x\":[-0.09888297319412231],\"y\":[-0.08318430185317993],\"z\":[-0.1065944954752922],\"type\":\"scatter3d\"},{\"hovertemplate\":\"color=find<br>0=%{x}<br>1=%{y}<br>2=%{z}<extra></extra>\",\"legendgroup\":\"find\",\"marker\":{\"color\":\"#ab63fa\",\"symbol\":\"circle\"},\"mode\":\"markers\",\"name\":\"find\",\"scene\":\"scene\",\"showlegend\":true,\"x\":[0.04570730775594711],\"y\":[-0.008158600889146328],\"z\":[0.003929297439754009],\"type\":\"scatter3d\"},{\"hovertemplate\":\"color=pepper<br>0=%{x}<br>1=%{y}<br>2=%{z}<extra></extra>\",\"legendgroup\":\"pepper\",\"marker\":{\"color\":\"#FFA15A\",\"symbol\":\"circle\"},\"mode\":\"markers\",\"name\":\"pepper\",\"scene\":\"scene\",\"showlegend\":true,\"x\":[-0.010147594846785069],\"y\":[-0.03465777263045311],\"z\":[-0.04333576187491417],\"type\":\"scatter3d\"},{\"hovertemplate\":\"color=weapon<br>0=%{x}<br>1=%{y}<br>2=%{z}<extra></extra>\",\"legendgroup\":\"weapon\",\"marker\":{\"color\":\"#19d3f3\",\"symbol\":\"circle\"},\"mode\":\"markers\",\"name\":\"weapon\",\"scene\":\"scene\",\"showlegend\":true,\"x\":[0.05931892246007919],\"y\":[-0.01180762704461813],\"z\":[0.1578580141067505],\"type\":\"scatter3d\"},{\"hovertemplate\":\"color=s.h.i.e.l.d<br>0=%{x}<br>1=%{y}<br>2=%{z}<extra></extra>\",\"legendgroup\":\"s.h.i.e.l.d\",\"marker\":{\"color\":\"#FF6692\",\"symbol\":\"circle\"},\"mode\":\"markers\",\"name\":\"s.h.i.e.l.d\",\"scene\":\"scene\",\"showlegend\":true,\"x\":[-0.11010567843914032],\"y\":[0.10308847576379776],\"z\":[0.20636101067066193],\"type\":\"scatter3d\"},{\"hovertemplate\":\"color=arrives<br>0=%{x}<br>1=%{y}<br>2=%{z}<extra></extra>\",\"legendgroup\":\"arrives\",\"marker\":{\"color\":\"#B6E880\",\"symbol\":\"circle\"},\"mode\":\"markers\",\"name\":\"arrives\",\"scene\":\"scene\",\"showlegend\":true,\"x\":[0.20580171048641205],\"y\":[0.04637826606631279],\"z\":[0.08498741686344147],\"type\":\"scatter3d\"},{\"hovertemplate\":\"color=agent<br>0=%{x}<br>1=%{y}<br>2=%{z}<extra></extra>\",\"legendgroup\":\"agent\",\"marker\":{\"color\":\"#FF97FF\",\"symbol\":\"circle\"},\"mode\":\"markers\",\"name\":\"agent\",\"scene\":\"scene\",\"showlegend\":true,\"x\":[-0.05363711342215538],\"y\":[-0.09198877215385437],\"z\":[-0.0857570692896843],\"type\":\"scatter3d\"},{\"hovertemplate\":\"color=try<br>0=%{x}<br>1=%{y}<br>2=%{z}<extra></extra>\",\"legendgroup\":\"try\",\"marker\":{\"color\":\"#FECB52\",\"symbol\":\"circle\"},\"mode\":\"markers\",\"name\":\"try\",\"scene\":\"scene\",\"showlegend\":true,\"x\":[0.08742872625589371],\"y\":[0.0008234867709688842],\"z\":[-0.07882663607597351],\"type\":\"scatter3d\"},{\"hovertemplate\":\"color=go<br>0=%{x}<br>1=%{y}<br>2=%{z}<extra></extra>\",\"legendgroup\":\"go\",\"marker\":{\"color\":\"#636efa\",\"symbol\":\"circle\"},\"mode\":\"markers\",\"name\":\"go\",\"scene\":\"scene\",\"showlegend\":true,\"x\":[-0.01010278519243002],\"y\":[0.07715368270874023],\"z\":[0.059951890259981155],\"type\":\"scatter3d\"},{\"hovertemplate\":\"color=council<br>0=%{x}<br>1=%{y}<br>2=%{z}<extra></extra>\",\"legendgroup\":\"council\",\"marker\":{\"color\":\"#EF553B\",\"symbol\":\"circle\"},\"mode\":\"markers\",\"name\":\"council\",\"scene\":\"scene\",\"showlegend\":true,\"x\":[-0.12992700934410095],\"y\":[-0.01522770244628191],\"z\":[0.02657957188785076],\"type\":\"scatter3d\"},{\"hovertemplate\":\"color=need<br>0=%{x}<br>1=%{y}<br>2=%{z}<extra></extra>\",\"legendgroup\":\"need\",\"marker\":{\"color\":\"#00cc96\",\"symbol\":\"circle\"},\"mode\":\"markers\",\"name\":\"need\",\"scene\":\"scene\",\"showlegend\":true,\"x\":[-0.1724015772342682],\"y\":[0.2198096662759781],\"z\":[-0.01365318987518549],\"type\":\"scatter3d\"},{\"hovertemplate\":\"color=back<br>0=%{x}<br>1=%{y}<br>2=%{z}<extra></extra>\",\"legendgroup\":\"back\",\"marker\":{\"color\":\"#ab63fa\",\"symbol\":\"circle\"},\"mode\":\"markers\",\"name\":\"back\",\"scene\":\"scene\",\"showlegend\":true,\"x\":[-0.10631873458623886],\"y\":[-0.012285415083169937],\"z\":[-0.04735134541988373],\"type\":\"scatter3d\"},{\"hovertemplate\":\"color=helicarrier<br>0=%{x}<br>1=%{y}<br>2=%{z}<extra></extra>\",\"legendgroup\":\"helicarrier\",\"marker\":{\"color\":\"#FFA15A\",\"symbol\":\"circle\"},\"mode\":\"markers\",\"name\":\"helicarrier\",\"scene\":\"scene\",\"showlegend\":true,\"x\":[-0.07367735356092453],\"y\":[0.02830394357442856],\"z\":[-0.09469584375619888],\"type\":\"scatter3d\"},{\"hovertemplate\":\"color=shield<br>0=%{x}<br>1=%{y}<br>2=%{z}<extra></extra>\",\"legendgroup\":\"shield\",\"marker\":{\"color\":\"#19d3f3\",\"symbol\":\"circle\"},\"mode\":\"markers\",\"name\":\"shield\",\"scene\":\"scene\",\"showlegend\":true,\"x\":[0.007922268472611904],\"y\":[0.10568887740373611],\"z\":[-0.03766512870788574],\"type\":\"scatter3d\"},{\"hovertemplate\":\"color=control<br>0=%{x}<br>1=%{y}<br>2=%{z}<extra></extra>\",\"legendgroup\":\"control\",\"marker\":{\"color\":\"#FF6692\",\"symbol\":\"circle\"},\"mode\":\"markers\",\"name\":\"control\",\"scene\":\"scene\",\"showlegend\":true,\"x\":[-0.004047601483762264],\"y\":[-0.08338185399770737],\"z\":[-0.1635439246892929],\"type\":\"scatter3d\"},{\"hovertemplate\":\"color=group<br>0=%{x}<br>1=%{y}<br>2=%{z}<extra></extra>\",\"legendgroup\":\"group\",\"marker\":{\"color\":\"#B6E880\",\"symbol\":\"circle\"},\"mode\":\"markers\",\"name\":\"group\",\"scene\":\"scene\",\"showlegend\":true,\"x\":[-0.08534202724695206],\"y\":[0.026723187416791916],\"z\":[-0.016000578179955482],\"type\":\"scatter3d\"},{\"hovertemplate\":\"color=board<br>0=%{x}<br>1=%{y}<br>2=%{z}<extra></extra>\",\"legendgroup\":\"board\",\"marker\":{\"color\":\"#FF97FF\",\"symbol\":\"circle\"},\"mode\":\"markers\",\"name\":\"board\",\"scene\":\"scene\",\"showlegend\":true,\"x\":[0.08534833043813705],\"y\":[-0.04191582649946213],\"z\":[-0.09038121998310089],\"type\":\"scatter3d\"},{\"hovertemplate\":\"color=carrier<br>0=%{x}<br>1=%{y}<br>2=%{z}<extra></extra>\",\"legendgroup\":\"carrier\",\"marker\":{\"color\":\"#FECB52\",\"symbol\":\"circle\"},\"mode\":\"markers\",\"name\":\"carrier\",\"scene\":\"scene\",\"showlegend\":true,\"x\":[0.11915053427219391],\"y\":[0.03763487562537193],\"z\":[-0.0904352217912674],\"type\":\"scatter3d\"},{\"hovertemplate\":\"color=make<br>0=%{x}<br>1=%{y}<br>2=%{z}<extra></extra>\",\"legendgroup\":\"make\",\"marker\":{\"color\":\"#636efa\",\"symbol\":\"circle\"},\"mode\":\"markers\",\"name\":\"make\",\"scene\":\"scene\",\"showlegend\":true,\"x\":[-0.09562493115663528],\"y\":[0.0455661341547966],\"z\":[0.09252238273620605],\"type\":\"scatter3d\"},{\"hovertemplate\":\"color=world<br>0=%{x}<br>1=%{y}<br>2=%{z}<extra></extra>\",\"legendgroup\":\"world\",\"marker\":{\"color\":\"#EF553B\",\"symbol\":\"circle\"},\"mode\":\"markers\",\"name\":\"world\",\"scene\":\"scene\",\"showlegend\":true,\"x\":[0.04892716556787491],\"y\":[0.04360612481832504],\"z\":[-0.04943019151687622],\"type\":\"scatter3d\"},{\"hovertemplate\":\"color=attempt<br>0=%{x}<br>1=%{y}<br>2=%{z}<extra></extra>\",\"legendgroup\":\"attempt\",\"marker\":{\"color\":\"#00cc96\",\"symbol\":\"circle\"},\"mode\":\"markers\",\"name\":\"attempt\",\"scene\":\"scene\",\"showlegend\":true,\"x\":[-0.2113846093416214],\"y\":[0.057593028992414474],\"z\":[-0.21466979384422302],\"type\":\"scatter3d\"},{\"hovertemplate\":\"color=attack<br>0=%{x}<br>1=%{y}<br>2=%{z}<extra></extra>\",\"legendgroup\":\"attack\",\"marker\":{\"color\":\"#ab63fa\",\"symbol\":\"circle\"},\"mode\":\"markers\",\"name\":\"attack\",\"scene\":\"scene\",\"showlegend\":true,\"x\":[0.21314503252506256],\"y\":[0.03848084807395935],\"z\":[0.021451132372021675],\"type\":\"scatter3d\"},{\"hovertemplate\":\"color=tower<br>0=%{x}<br>1=%{y}<br>2=%{z}<extra></extra>\",\"legendgroup\":\"tower\",\"marker\":{\"color\":\"#FFA15A\",\"symbol\":\"circle\"},\"mode\":\"markers\",\"name\":\"tower\",\"scene\":\"scene\",\"showlegend\":true,\"x\":[-0.0023179827257990837],\"y\":[0.07306978106498718],\"z\":[-0.014265759848058224],\"type\":\"scatter3d\"},{\"hovertemplate\":\"color=team<br>0=%{x}<br>1=%{y}<br>2=%{z}<extra></extra>\",\"legendgroup\":\"team\",\"marker\":{\"color\":\"#19d3f3\",\"symbol\":\"circle\"},\"mode\":\"markers\",\"name\":\"team\",\"scene\":\"scene\",\"showlegend\":true,\"x\":[-0.0691472738981247],\"y\":[0.019968055188655853],\"z\":[0.024910569190979004],\"type\":\"scatter3d\"},{\"hovertemplate\":\"color=found<br>0=%{x}<br>1=%{y}<br>2=%{z}<extra></extra>\",\"legendgroup\":\"found\",\"marker\":{\"color\":\"#FF6692\",\"symbol\":\"circle\"},\"mode\":\"markers\",\"name\":\"found\",\"scene\":\"scene\",\"showlegend\":true,\"x\":[0.027740471065044403],\"y\":[0.19351010024547577],\"z\":[-0.10419409722089767],\"type\":\"scatter3d\"},{\"hovertemplate\":\"color=cell<br>0=%{x}<br>1=%{y}<br>2=%{z}<extra></extra>\",\"legendgroup\":\"cell\",\"marker\":{\"color\":\"#B6E880\",\"symbol\":\"circle\"},\"mode\":\"markers\",\"name\":\"cell\",\"scene\":\"scene\",\"showlegend\":true,\"x\":[0.05559329688549042],\"y\":[0.16146999597549438],\"z\":[-0.33547917008399963],\"type\":\"scatter3d\"},{\"hovertemplate\":\"color=n't<br>0=%{x}<br>1=%{y}<br>2=%{z}<extra></extra>\",\"legendgroup\":\"n't\",\"marker\":{\"color\":\"#FF97FF\",\"symbol\":\"circle\"},\"mode\":\"markers\",\"name\":\"n't\",\"scene\":\"scene\",\"showlegend\":true,\"x\":[0.15382027626037598],\"y\":[0.0005940882256254554],\"z\":[-0.3232195973396301],\"type\":\"scatter3d\"},{\"hovertemplate\":\"color=bruce<br>0=%{x}<br>1=%{y}<br>2=%{z}<extra></extra>\",\"legendgroup\":\"bruce\",\"marker\":{\"color\":\"#FECB52\",\"symbol\":\"circle\"},\"mode\":\"markers\",\"name\":\"bruce\",\"scene\":\"scene\",\"showlegend\":true,\"x\":[0.0846584215760231],\"y\":[0.05152328684926033],\"z\":[0.12649060785770416],\"type\":\"scatter3d\"},{\"hovertemplate\":\"color=two<br>0=%{x}<br>1=%{y}<br>2=%{z}<extra></extra>\",\"legendgroup\":\"two\",\"marker\":{\"color\":\"#636efa\",\"symbol\":\"circle\"},\"mode\":\"markers\",\"name\":\"two\",\"scene\":\"scene\",\"showlegend\":true,\"x\":[-0.012587263248860836],\"y\":[-0.025254257023334503],\"z\":[-0.023620979860424995],\"type\":\"scatter3d\"},{\"hovertemplate\":\"color=open<br>0=%{x}<br>1=%{y}<br>2=%{z}<extra></extra>\",\"legendgroup\":\"open\",\"marker\":{\"color\":\"#EF553B\",\"symbol\":\"circle\"},\"mode\":\"markers\",\"name\":\"open\",\"scene\":\"scene\",\"showlegend\":true,\"x\":[0.10693478584289551],\"y\":[0.03578457236289978],\"z\":[-0.25540265440940857],\"type\":\"scatter3d\"},{\"hovertemplate\":\"color=barton<br>0=%{x}<br>1=%{y}<br>2=%{z}<extra></extra>\",\"legendgroup\":\"barton\",\"marker\":{\"color\":\"#00cc96\",\"symbol\":\"circle\"},\"mode\":\"markers\",\"name\":\"barton\",\"scene\":\"scene\",\"showlegend\":true,\"x\":[0.014249751344323158],\"y\":[0.21322984993457794],\"z\":[0.10461203753948212],\"type\":\"scatter3d\"},{\"hovertemplate\":\"color=fails<br>0=%{x}<br>1=%{y}<br>2=%{z}<extra></extra>\",\"legendgroup\":\"fails\",\"marker\":{\"color\":\"#ab63fa\",\"symbol\":\"circle\"},\"mode\":\"markers\",\"name\":\"fails\",\"scene\":\"scene\",\"showlegend\":true,\"x\":[0.08688721060752869],\"y\":[0.12432815134525299],\"z\":[0.10874951630830765],\"type\":\"scatter3d\"},{\"hovertemplate\":\"color=life<br>0=%{x}<br>1=%{y}<br>2=%{z}<extra></extra>\",\"legendgroup\":\"life\",\"marker\":{\"color\":\"#FFA15A\",\"symbol\":\"circle\"},\"mode\":\"markers\",\"name\":\"life\",\"scene\":\"scene\",\"showlegend\":true,\"x\":[0.09379851818084717],\"y\":[-0.06548473984003067],\"z\":[-0.19028139114379883],\"type\":\"scatter3d\"},{\"hovertemplate\":\"color=destroying<br>0=%{x}<br>1=%{y}<br>2=%{z}<extra></extra>\",\"legendgroup\":\"destroying\",\"marker\":{\"color\":\"#19d3f3\",\"symbol\":\"circle\"},\"mode\":\"markers\",\"name\":\"destroying\",\"scene\":\"scene\",\"showlegend\":true,\"x\":[-0.1986536830663681],\"y\":[-0.10981114208698273],\"z\":[0.046892281621694565],\"type\":\"scatter3d\"},{\"hovertemplate\":\"color=''<br>0=%{x}<br>1=%{y}<br>2=%{z}<extra></extra>\",\"legendgroup\":\"''\",\"marker\":{\"color\":\"#FF6692\",\"symbol\":\"circle\"},\"mode\":\"markers\",\"name\":\"''\",\"scene\":\"scene\",\"showlegend\":true,\"x\":[-0.23805645108222961],\"y\":[-0.0044837892055511475],\"z\":[0.10075104981660843],\"type\":\"scatter3d\"},{\"hovertemplate\":\"color=going<br>0=%{x}<br>1=%{y}<br>2=%{z}<extra></extra>\",\"legendgroup\":\"going\",\"marker\":{\"color\":\"#B6E880\",\"symbol\":\"circle\"},\"mode\":\"markers\",\"name\":\"going\",\"scene\":\"scene\",\"showlegend\":true,\"x\":[0.10510815680027008],\"y\":[-0.3108362555503845],\"z\":[-0.01768122985959053],\"type\":\"scatter3d\"},{\"hovertemplate\":\"color=building<br>0=%{x}<br>1=%{y}<br>2=%{z}<extra></extra>\",\"legendgroup\":\"building\",\"marker\":{\"color\":\"#FF97FF\",\"symbol\":\"circle\"},\"mode\":\"markers\",\"name\":\"building\",\"scene\":\"scene\",\"showlegend\":true,\"x\":[-0.1349489688873291],\"y\":[0.1654946208000183],\"z\":[-0.2177211493253708],\"type\":\"scatter3d\"},{\"hovertemplate\":\"color=also<br>0=%{x}<br>1=%{y}<br>2=%{z}<extra></extra>\",\"legendgroup\":\"also\",\"marker\":{\"color\":\"#FECB52\",\"symbol\":\"circle\"},\"mode\":\"markers\",\"name\":\"also\",\"scene\":\"scene\",\"showlegend\":true,\"x\":[0.03064676746726036],\"y\":[0.011064091697335243],\"z\":[-0.010541831143200397],\"type\":\"scatter3d\"},{\"hovertemplate\":\"color=head<br>0=%{x}<br>1=%{y}<br>2=%{z}<extra></extra>\",\"legendgroup\":\"head\",\"marker\":{\"color\":\"#636efa\",\"symbol\":\"circle\"},\"mode\":\"markers\",\"name\":\"head\",\"scene\":\"scene\",\"showlegend\":true,\"x\":[0.1777038425207138],\"y\":[0.09919136017560959],\"z\":[0.07594948261976242],\"type\":\"scatter3d\"},{\"hovertemplate\":\"color=god<br>0=%{x}<br>1=%{y}<br>2=%{z}<extra></extra>\",\"legendgroup\":\"god\",\"marker\":{\"color\":\"#EF553B\",\"symbol\":\"circle\"},\"mode\":\"markers\",\"name\":\"god\",\"scene\":\"scene\",\"showlegend\":true,\"x\":[0.03510850667953491],\"y\":[0.07744869589805603],\"z\":[-0.047429319471120834],\"type\":\"scatter3d\"},{\"hovertemplate\":\"color=man<br>0=%{x}<br>1=%{y}<br>2=%{z}<extra></extra>\",\"legendgroup\":\"man\",\"marker\":{\"color\":\"#00cc96\",\"symbol\":\"circle\"},\"mode\":\"markers\",\"name\":\"man\",\"scene\":\"scene\",\"showlegend\":true,\"x\":[0.278865784406662],\"y\":[0.19212011992931366],\"z\":[-0.32475611567497253],\"type\":\"scatter3d\"},{\"hovertemplate\":\"color=office<br>0=%{x}<br>1=%{y}<br>2=%{z}<extra></extra>\",\"legendgroup\":\"office\",\"marker\":{\"color\":\"#ab63fa\",\"symbol\":\"circle\"},\"mode\":\"markers\",\"name\":\"office\",\"scene\":\"scene\",\"showlegend\":true,\"x\":[-0.06855154037475586],\"y\":[-0.10338737070560455],\"z\":[0.0431213416159153],\"type\":\"scatter3d\"},{\"hovertemplate\":\"color=call<br>0=%{x}<br>1=%{y}<br>2=%{z}<extra></extra>\",\"legendgroup\":\"call\",\"marker\":{\"color\":\"#FFA15A\",\"symbol\":\"circle\"},\"mode\":\"markers\",\"name\":\"call\",\"scene\":\"scene\",\"showlegend\":true,\"x\":[0.05956875532865524],\"y\":[-0.041941363364458084],\"z\":[0.07279542088508606],\"type\":\"scatter3d\"},{\"hovertemplate\":\"color=completely<br>0=%{x}<br>1=%{y}<br>2=%{z}<extra></extra>\",\"legendgroup\":\"completely\",\"marker\":{\"color\":\"#19d3f3\",\"symbol\":\"circle\"},\"mode\":\"markers\",\"name\":\"completely\",\"scene\":\"scene\",\"showlegend\":true,\"x\":[0.07430043816566467],\"y\":[-0.003523514373227954],\"z\":[0.01996479369699955],\"type\":\"scatter3d\"},{\"hovertemplate\":\"color=assignment<br>0=%{x}<br>1=%{y}<br>2=%{z}<extra></extra>\",\"legendgroup\":\"assignment\",\"marker\":{\"color\":\"#FF6692\",\"symbol\":\"circle\"},\"mode\":\"markers\",\"name\":\"assignment\",\"scene\":\"scene\",\"showlegend\":true,\"x\":[-0.03487654775381088],\"y\":[0.1935482919216156],\"z\":[0.04684934392571449],\"type\":\"scatter3d\"},{\"hovertemplate\":\"color=fighting<br>0=%{x}<br>1=%{y}<br>2=%{z}<extra></extra>\",\"legendgroup\":\"fighting\",\"marker\":{\"color\":\"#B6E880\",\"symbol\":\"circle\"},\"mode\":\"markers\",\"name\":\"fighting\",\"scene\":\"scene\",\"showlegend\":true,\"x\":[0.005666227545589209],\"y\":[-0.06564784795045853],\"z\":[-0.04483089596033096],\"type\":\"scatter3d\"},{\"hovertemplate\":\"color=iron<br>0=%{x}<br>1=%{y}<br>2=%{z}<extra></extra>\",\"legendgroup\":\"iron\",\"marker\":{\"color\":\"#FF97FF\",\"symbol\":\"circle\"},\"mode\":\"markers\",\"name\":\"iron\",\"scene\":\"scene\",\"showlegend\":true,\"x\":[-0.08247988671064377],\"y\":[-0.045972567051649094],\"z\":[-0.026867270469665527],\"type\":\"scatter3d\"},{\"hovertemplate\":\"color=plan<br>0=%{x}<br>1=%{y}<br>2=%{z}<extra></extra>\",\"legendgroup\":\"plan\",\"marker\":{\"color\":\"#FECB52\",\"symbol\":\"circle\"},\"mode\":\"markers\",\"name\":\"plan\",\"scene\":\"scene\",\"showlegend\":true,\"x\":[-0.24234363436698914],\"y\":[0.045716702938079834],\"z\":[-0.13551439344882965],\"type\":\"scatter3d\"},{\"hovertemplate\":\"color=scepter<br>0=%{x}<br>1=%{y}<br>2=%{z}<extra></extra>\",\"legendgroup\":\"scepter\",\"marker\":{\"color\":\"#636efa\",\"symbol\":\"circle\"},\"mode\":\"markers\",\"name\":\"scepter\",\"scene\":\"scene\",\"showlegend\":true,\"x\":[0.03533649444580078],\"y\":[0.0316905714571476],\"z\":[0.0023764001671224833],\"type\":\"scatter3d\"},{\"hovertemplate\":\"color=know<br>0=%{x}<br>1=%{y}<br>2=%{z}<extra></extra>\",\"legendgroup\":\"know\",\"marker\":{\"color\":\"#EF553B\",\"symbol\":\"circle\"},\"mode\":\"markers\",\"name\":\"know\",\"scene\":\"scene\",\"showlegend\":true,\"x\":[0.00989245343953371],\"y\":[-0.09338590502738953],\"z\":[-0.03915408253669739],\"type\":\"scatter3d\"},{\"hovertemplate\":\"color=nuke<br>0=%{x}<br>1=%{y}<br>2=%{z}<extra></extra>\",\"legendgroup\":\"nuke\",\"marker\":{\"color\":\"#00cc96\",\"symbol\":\"circle\"},\"mode\":\"markers\",\"name\":\"nuke\",\"scene\":\"scene\",\"showlegend\":true,\"x\":[0.15276242792606354],\"y\":[-0.056622497737407684],\"z\":[-0.11124370992183685],\"type\":\"scatter3d\"},{\"hovertemplate\":\"color=hero<br>0=%{x}<br>1=%{y}<br>2=%{z}<extra></extra>\",\"legendgroup\":\"hero\",\"marker\":{\"color\":\"#ab63fa\",\"symbol\":\"circle\"},\"mode\":\"markers\",\"name\":\"hero\",\"scene\":\"scene\",\"showlegend\":true,\"x\":[-0.22097088396549225],\"y\":[-0.05953270196914673],\"z\":[0.09636787325143814],\"type\":\"scatter3d\"},{\"hovertemplate\":\"color=way<br>0=%{x}<br>1=%{y}<br>2=%{z}<extra></extra>\",\"legendgroup\":\"way\",\"marker\":{\"color\":\"#FFA15A\",\"symbol\":\"circle\"},\"mode\":\"markers\",\"name\":\"way\",\"scene\":\"scene\",\"showlegend\":true,\"x\":[0.014804352074861526],\"y\":[0.09602901339530945],\"z\":[-0.02929140254855156],\"type\":\"scatter3d\"},{\"hovertemplate\":\"color=telling<br>0=%{x}<br>1=%{y}<br>2=%{z}<extra></extra>\",\"legendgroup\":\"telling\",\"marker\":{\"color\":\"#19d3f3\",\"symbol\":\"circle\"},\"mode\":\"markers\",\"name\":\"telling\",\"scene\":\"scene\",\"showlegend\":true,\"x\":[-0.12282796949148178],\"y\":[0.12760622799396515],\"z\":[-0.09216450899839401],\"type\":\"scatter3d\"},{\"hovertemplate\":\"color=meanwhile<br>0=%{x}<br>1=%{y}<br>2=%{z}<extra></extra>\",\"legendgroup\":\"meanwhile\",\"marker\":{\"color\":\"#FF6692\",\"symbol\":\"circle\"},\"mode\":\"markers\",\"name\":\"meanwhile\",\"scene\":\"scene\",\"showlegend\":true,\"x\":[-0.06534040719270706],\"y\":[-0.13301873207092285],\"z\":[-0.029607171192765236],\"type\":\"scatter3d\"},{\"hovertemplate\":\"color=hit<br>0=%{x}<br>1=%{y}<br>2=%{z}<extra></extra>\",\"legendgroup\":\"hit\",\"marker\":{\"color\":\"#B6E880\",\"symbol\":\"circle\"},\"mode\":\"markers\",\"name\":\"hit\",\"scene\":\"scene\",\"showlegend\":true,\"x\":[0.014227459207177162],\"y\":[-0.021683882921934128],\"z\":[0.006501834373921156],\"type\":\"scatter3d\"},{\"hovertemplate\":\"color=death<br>0=%{x}<br>1=%{y}<br>2=%{z}<extra></extra>\",\"legendgroup\":\"death\",\"marker\":{\"color\":\"#FF97FF\",\"symbol\":\"circle\"},\"mode\":\"markers\",\"name\":\"death\",\"scene\":\"scene\",\"showlegend\":true,\"x\":[0.3004221022129059],\"y\":[0.030318552628159523],\"z\":[0.03142677992582321],\"type\":\"scatter3d\"},{\"hovertemplate\":\"color=pull<br>0=%{x}<br>1=%{y}<br>2=%{z}<extra></extra>\",\"legendgroup\":\"pull\",\"marker\":{\"color\":\"#FECB52\",\"symbol\":\"circle\"},\"mode\":\"markers\",\"name\":\"pull\",\"scene\":\"scene\",\"showlegend\":true,\"x\":[-0.05014295130968094],\"y\":[0.1220293715596199],\"z\":[0.0402238555252552],\"type\":\"scatter3d\"},{\"hovertemplate\":\"color=capability<br>0=%{x}<br>1=%{y}<br>2=%{z}<extra></extra>\",\"legendgroup\":\"capability\",\"marker\":{\"color\":\"#636efa\",\"symbol\":\"circle\"},\"mode\":\"markers\",\"name\":\"capability\",\"scene\":\"scene\",\"showlegend\":true,\"x\":[-0.027652136981487274],\"y\":[-0.16120001673698425],\"z\":[-0.04447982832789421],\"type\":\"scatter3d\"},{\"hovertemplate\":\"color=work<br>0=%{x}<br>1=%{y}<br>2=%{z}<extra></extra>\",\"legendgroup\":\"work\",\"marker\":{\"color\":\"#EF553B\",\"symbol\":\"circle\"},\"mode\":\"markers\",\"name\":\"work\",\"scene\":\"scene\",\"showlegend\":true,\"x\":[-0.018145347014069557],\"y\":[-0.09469863027334213],\"z\":[-0.028690796345472336],\"type\":\"scatter3d\"},{\"hovertemplate\":\"color=together<br>0=%{x}<br>1=%{y}<br>2=%{z}<extra></extra>\",\"legendgroup\":\"together\",\"marker\":{\"color\":\"#00cc96\",\"symbol\":\"circle\"},\"mode\":\"markers\",\"name\":\"together\",\"scene\":\"scene\",\"showlegend\":true,\"x\":[-0.0015446366742253304],\"y\":[0.01924704574048519],\"z\":[-0.20694231986999512],\"type\":\"scatter3d\"},{\"hovertemplate\":\"color=working<br>0=%{x}<br>1=%{y}<br>2=%{z}<extra></extra>\",\"legendgroup\":\"working\",\"marker\":{\"color\":\"#ab63fa\",\"symbol\":\"circle\"},\"mode\":\"markers\",\"name\":\"working\",\"scene\":\"scene\",\"showlegend\":true,\"x\":[0.07413186877965927],\"y\":[0.15376120805740356],\"z\":[-0.09661984443664551],\"type\":\"scatter3d\"},{\"hovertemplate\":\"color=harness<br>0=%{x}<br>1=%{y}<br>2=%{z}<extra></extra>\",\"legendgroup\":\"harness\",\"marker\":{\"color\":\"#FFA15A\",\"symbol\":\"circle\"},\"mode\":\"markers\",\"name\":\"harness\",\"scene\":\"scene\",\"showlegend\":true,\"x\":[0.10068146139383316],\"y\":[-0.15904387831687927],\"z\":[0.10683533549308777],\"type\":\"scatter3d\"},{\"hovertemplate\":\"color=york<br>0=%{x}<br>1=%{y}<br>2=%{z}<extra></extra>\",\"legendgroup\":\"york\",\"marker\":{\"color\":\"#19d3f3\",\"symbol\":\"circle\"},\"mode\":\"markers\",\"name\":\"york\",\"scene\":\"scene\",\"showlegend\":true,\"x\":[0.009717976674437523],\"y\":[-0.12689208984375],\"z\":[0.09584955126047134],\"type\":\"scatter3d\"},{\"hovertemplate\":\"color=people<br>0=%{x}<br>1=%{y}<br>2=%{z}<extra></extra>\",\"legendgroup\":\"people\",\"marker\":{\"color\":\"#FF6692\",\"symbol\":\"circle\"},\"mode\":\"markers\",\"name\":\"people\",\"scene\":\"scene\",\"showlegend\":true,\"x\":[0.035587385296821594],\"y\":[-0.15447628498077393],\"z\":[-0.034709446132183075],\"type\":\"scatter3d\"},{\"hovertemplate\":\"color=mind<br>0=%{x}<br>1=%{y}<br>2=%{z}<extra></extra>\",\"legendgroup\":\"mind\",\"marker\":{\"color\":\"#B6E880\",\"symbol\":\"circle\"},\"mode\":\"markers\",\"name\":\"mind\",\"scene\":\"scene\",\"showlegend\":true,\"x\":[0.004632302559912205],\"y\":[-0.06480269134044647],\"z\":[-0.06789495795965195],\"type\":\"scatter3d\"},{\"hovertemplate\":\"color=made<br>0=%{x}<br>1=%{y}<br>2=%{z}<extra></extra>\",\"legendgroup\":\"made\",\"marker\":{\"color\":\"#FF97FF\",\"symbol\":\"circle\"},\"mode\":\"markers\",\"name\":\"made\",\"scene\":\"scene\",\"showlegend\":true,\"x\":[0.014069740660488605],\"y\":[0.00927684735506773],\"z\":[0.2769932746887207],\"type\":\"scatter3d\"},{\"hovertemplate\":\"color=unfortunately<br>0=%{x}<br>1=%{y}<br>2=%{z}<extra></extra>\",\"legendgroup\":\"unfortunately\",\"marker\":{\"color\":\"#FECB52\",\"symbol\":\"circle\"},\"mode\":\"markers\",\"name\":\"unfortunately\",\"scene\":\"scene\",\"showlegend\":true,\"x\":[-0.18207098543643951],\"y\":[-0.013401235453784466],\"z\":[-0.04856039956212044],\"type\":\"scatter3d\"},{\"hovertemplate\":\"color=escape<br>0=%{x}<br>1=%{y}<br>2=%{z}<extra></extra>\",\"legendgroup\":\"escape\",\"marker\":{\"color\":\"#636efa\",\"symbol\":\"circle\"},\"mode\":\"markers\",\"name\":\"escape\",\"scene\":\"scene\",\"showlegend\":true,\"x\":[-0.15040287375450134],\"y\":[0.019093776121735573],\"z\":[-0.14576344192028046],\"type\":\"scatter3d\"},{\"hovertemplate\":\"color=aircraft<br>0=%{x}<br>1=%{y}<br>2=%{z}<extra></extra>\",\"legendgroup\":\"aircraft\",\"marker\":{\"color\":\"#EF553B\",\"symbol\":\"circle\"},\"mode\":\"markers\",\"name\":\"aircraft\",\"scene\":\"scene\",\"showlegend\":true,\"x\":[-0.17090009152889252],\"y\":[0.014479173347353935],\"z\":[0.10992833971977234],\"type\":\"scatter3d\"},{\"hovertemplate\":\"color=incredible<br>0=%{x}<br>1=%{y}<br>2=%{z}<extra></extra>\",\"legendgroup\":\"incredible\",\"marker\":{\"color\":\"#00cc96\",\"symbol\":\"circle\"},\"mode\":\"markers\",\"name\":\"incredible\",\"scene\":\"scene\",\"showlegend\":true,\"x\":[0.19935162365436554],\"y\":[-0.24427631497383118],\"z\":[-0.16891559958457947],\"type\":\"scatter3d\"},{\"hovertemplate\":\"color=hawkeye<br>0=%{x}<br>1=%{y}<br>2=%{z}<extra></extra>\",\"legendgroup\":\"hawkeye\",\"marker\":{\"color\":\"#ab63fa\",\"symbol\":\"circle\"},\"mode\":\"markers\",\"name\":\"hawkeye\",\"scene\":\"scene\",\"showlegend\":true,\"x\":[0.14303608238697052],\"y\":[0.07593279331922531],\"z\":[0.005208053160458803],\"type\":\"scatter3d\"},{\"hovertemplate\":\"color=next<br>0=%{x}<br>1=%{y}<br>2=%{z}<extra></extra>\",\"legendgroup\":\"next\",\"marker\":{\"color\":\"#FFA15A\",\"symbol\":\"circle\"},\"mode\":\"markers\",\"name\":\"next\",\"scene\":\"scene\",\"showlegend\":true,\"x\":[0.19586476683616638],\"y\":[-0.18867473304271698],\"z\":[0.06764501333236694],\"type\":\"scatter3d\"},{\"hovertemplate\":\"color=fight<br>0=%{x}<br>1=%{y}<br>2=%{z}<extra></extra>\",\"legendgroup\":\"fight\",\"marker\":{\"color\":\"#19d3f3\",\"symbol\":\"circle\"},\"mode\":\"markers\",\"name\":\"fight\",\"scene\":\"scene\",\"showlegend\":true,\"x\":[0.10375351458787918],\"y\":[-0.09827569872140884],\"z\":[0.06122242286801338],\"type\":\"scatter3d\"},{\"hovertemplate\":\"color=ship<br>0=%{x}<br>1=%{y}<br>2=%{z}<extra></extra>\",\"legendgroup\":\"ship\",\"marker\":{\"color\":\"#FF6692\",\"symbol\":\"circle\"},\"mode\":\"markers\",\"name\":\"ship\",\"scene\":\"scene\",\"showlegend\":true,\"x\":[-0.07191277295351028],\"y\":[0.023040203377604485],\"z\":[-0.05316907539963722],\"type\":\"scatter3d\"},{\"hovertemplate\":\"color=quickly<br>0=%{x}<br>1=%{y}<br>2=%{z}<extra></extra>\",\"legendgroup\":\"quickly\",\"marker\":{\"color\":\"#B6E880\",\"symbol\":\"circle\"},\"mode\":\"markers\",\"name\":\"quickly\",\"scene\":\"scene\",\"showlegend\":true,\"x\":[-0.18156620860099792],\"y\":[0.1513962596654892],\"z\":[0.05410252884030342],\"type\":\"scatter3d\"},{\"hovertemplate\":\"color=device<br>0=%{x}<br>1=%{y}<br>2=%{z}<extra></extra>\",\"legendgroup\":\"device\",\"marker\":{\"color\":\"#FF97FF\",\"symbol\":\"circle\"},\"mode\":\"markers\",\"name\":\"device\",\"scene\":\"scene\",\"showlegend\":true,\"x\":[-0.2351762056350708],\"y\":[0.2301311492919922],\"z\":[-0.022958524525165558],\"type\":\"scatter3d\"},{\"hovertemplate\":\"color=used<br>0=%{x}<br>1=%{y}<br>2=%{z}<extra></extra>\",\"legendgroup\":\"used\",\"marker\":{\"color\":\"#FECB52\",\"symbol\":\"circle\"},\"mode\":\"markers\",\"name\":\"used\",\"scene\":\"scene\",\"showlegend\":true,\"x\":[0.02475787326693535],\"y\":[-0.27755284309387207],\"z\":[0.1340903341770172],\"type\":\"scatter3d\"}],                        {\"template\":{\"data\":{\"histogram2dcontour\":[{\"type\":\"histogram2dcontour\",\"colorbar\":{\"outlinewidth\":0,\"ticks\":\"\"},\"colorscale\":[[0.0,\"#0d0887\"],[0.1111111111111111,\"#46039f\"],[0.2222222222222222,\"#7201a8\"],[0.3333333333333333,\"#9c179e\"],[0.4444444444444444,\"#bd3786\"],[0.5555555555555556,\"#d8576b\"],[0.6666666666666666,\"#ed7953\"],[0.7777777777777778,\"#fb9f3a\"],[0.8888888888888888,\"#fdca26\"],[1.0,\"#f0f921\"]]}],\"choropleth\":[{\"type\":\"choropleth\",\"colorbar\":{\"outlinewidth\":0,\"ticks\":\"\"}}],\"histogram2d\":[{\"type\":\"histogram2d\",\"colorbar\":{\"outlinewidth\":0,\"ticks\":\"\"},\"colorscale\":[[0.0,\"#0d0887\"],[0.1111111111111111,\"#46039f\"],[0.2222222222222222,\"#7201a8\"],[0.3333333333333333,\"#9c179e\"],[0.4444444444444444,\"#bd3786\"],[0.5555555555555556,\"#d8576b\"],[0.6666666666666666,\"#ed7953\"],[0.7777777777777778,\"#fb9f3a\"],[0.8888888888888888,\"#fdca26\"],[1.0,\"#f0f921\"]]}],\"heatmap\":[{\"type\":\"heatmap\",\"colorbar\":{\"outlinewidth\":0,\"ticks\":\"\"},\"colorscale\":[[0.0,\"#0d0887\"],[0.1111111111111111,\"#46039f\"],[0.2222222222222222,\"#7201a8\"],[0.3333333333333333,\"#9c179e\"],[0.4444444444444444,\"#bd3786\"],[0.5555555555555556,\"#d8576b\"],[0.6666666666666666,\"#ed7953\"],[0.7777777777777778,\"#fb9f3a\"],[0.8888888888888888,\"#fdca26\"],[1.0,\"#f0f921\"]]}],\"heatmapgl\":[{\"type\":\"heatmapgl\",\"colorbar\":{\"outlinewidth\":0,\"ticks\":\"\"},\"colorscale\":[[0.0,\"#0d0887\"],[0.1111111111111111,\"#46039f\"],[0.2222222222222222,\"#7201a8\"],[0.3333333333333333,\"#9c179e\"],[0.4444444444444444,\"#bd3786\"],[0.5555555555555556,\"#d8576b\"],[0.6666666666666666,\"#ed7953\"],[0.7777777777777778,\"#fb9f3a\"],[0.8888888888888888,\"#fdca26\"],[1.0,\"#f0f921\"]]}],\"contourcarpet\":[{\"type\":\"contourcarpet\",\"colorbar\":{\"outlinewidth\":0,\"ticks\":\"\"}}],\"contour\":[{\"type\":\"contour\",\"colorbar\":{\"outlinewidth\":0,\"ticks\":\"\"},\"colorscale\":[[0.0,\"#0d0887\"],[0.1111111111111111,\"#46039f\"],[0.2222222222222222,\"#7201a8\"],[0.3333333333333333,\"#9c179e\"],[0.4444444444444444,\"#bd3786\"],[0.5555555555555556,\"#d8576b\"],[0.6666666666666666,\"#ed7953\"],[0.7777777777777778,\"#fb9f3a\"],[0.8888888888888888,\"#fdca26\"],[1.0,\"#f0f921\"]]}],\"surface\":[{\"type\":\"surface\",\"colorbar\":{\"outlinewidth\":0,\"ticks\":\"\"},\"colorscale\":[[0.0,\"#0d0887\"],[0.1111111111111111,\"#46039f\"],[0.2222222222222222,\"#7201a8\"],[0.3333333333333333,\"#9c179e\"],[0.4444444444444444,\"#bd3786\"],[0.5555555555555556,\"#d8576b\"],[0.6666666666666666,\"#ed7953\"],[0.7777777777777778,\"#fb9f3a\"],[0.8888888888888888,\"#fdca26\"],[1.0,\"#f0f921\"]]}],\"mesh3d\":[{\"type\":\"mesh3d\",\"colorbar\":{\"outlinewidth\":0,\"ticks\":\"\"}}],\"scatter\":[{\"fillpattern\":{\"fillmode\":\"overlay\",\"size\":10,\"solidity\":0.2},\"type\":\"scatter\"}],\"parcoords\":[{\"type\":\"parcoords\",\"line\":{\"colorbar\":{\"outlinewidth\":0,\"ticks\":\"\"}}}],\"scatterpolargl\":[{\"type\":\"scatterpolargl\",\"marker\":{\"colorbar\":{\"outlinewidth\":0,\"ticks\":\"\"}}}],\"bar\":[{\"error_x\":{\"color\":\"#2a3f5f\"},\"error_y\":{\"color\":\"#2a3f5f\"},\"marker\":{\"line\":{\"color\":\"#E5ECF6\",\"width\":0.5},\"pattern\":{\"fillmode\":\"overlay\",\"size\":10,\"solidity\":0.2}},\"type\":\"bar\"}],\"scattergeo\":[{\"type\":\"scattergeo\",\"marker\":{\"colorbar\":{\"outlinewidth\":0,\"ticks\":\"\"}}}],\"scatterpolar\":[{\"type\":\"scatterpolar\",\"marker\":{\"colorbar\":{\"outlinewidth\":0,\"ticks\":\"\"}}}],\"histogram\":[{\"marker\":{\"pattern\":{\"fillmode\":\"overlay\",\"size\":10,\"solidity\":0.2}},\"type\":\"histogram\"}],\"scattergl\":[{\"type\":\"scattergl\",\"marker\":{\"colorbar\":{\"outlinewidth\":0,\"ticks\":\"\"}}}],\"scatter3d\":[{\"type\":\"scatter3d\",\"line\":{\"colorbar\":{\"outlinewidth\":0,\"ticks\":\"\"}},\"marker\":{\"colorbar\":{\"outlinewidth\":0,\"ticks\":\"\"}}}],\"scattermapbox\":[{\"type\":\"scattermapbox\",\"marker\":{\"colorbar\":{\"outlinewidth\":0,\"ticks\":\"\"}}}],\"scatterternary\":[{\"type\":\"scatterternary\",\"marker\":{\"colorbar\":{\"outlinewidth\":0,\"ticks\":\"\"}}}],\"scattercarpet\":[{\"type\":\"scattercarpet\",\"marker\":{\"colorbar\":{\"outlinewidth\":0,\"ticks\":\"\"}}}],\"carpet\":[{\"aaxis\":{\"endlinecolor\":\"#2a3f5f\",\"gridcolor\":\"white\",\"linecolor\":\"white\",\"minorgridcolor\":\"white\",\"startlinecolor\":\"#2a3f5f\"},\"baxis\":{\"endlinecolor\":\"#2a3f5f\",\"gridcolor\":\"white\",\"linecolor\":\"white\",\"minorgridcolor\":\"white\",\"startlinecolor\":\"#2a3f5f\"},\"type\":\"carpet\"}],\"table\":[{\"cells\":{\"fill\":{\"color\":\"#EBF0F8\"},\"line\":{\"color\":\"white\"}},\"header\":{\"fill\":{\"color\":\"#C8D4E3\"},\"line\":{\"color\":\"white\"}},\"type\":\"table\"}],\"barpolar\":[{\"marker\":{\"line\":{\"color\":\"#E5ECF6\",\"width\":0.5},\"pattern\":{\"fillmode\":\"overlay\",\"size\":10,\"solidity\":0.2}},\"type\":\"barpolar\"}],\"pie\":[{\"automargin\":true,\"type\":\"pie\"}]},\"layout\":{\"autotypenumbers\":\"strict\",\"colorway\":[\"#636efa\",\"#EF553B\",\"#00cc96\",\"#ab63fa\",\"#FFA15A\",\"#19d3f3\",\"#FF6692\",\"#B6E880\",\"#FF97FF\",\"#FECB52\"],\"font\":{\"color\":\"#2a3f5f\"},\"hovermode\":\"closest\",\"hoverlabel\":{\"align\":\"left\"},\"paper_bgcolor\":\"white\",\"plot_bgcolor\":\"#E5ECF6\",\"polar\":{\"bgcolor\":\"#E5ECF6\",\"angularaxis\":{\"gridcolor\":\"white\",\"linecolor\":\"white\",\"ticks\":\"\"},\"radialaxis\":{\"gridcolor\":\"white\",\"linecolor\":\"white\",\"ticks\":\"\"}},\"ternary\":{\"bgcolor\":\"#E5ECF6\",\"aaxis\":{\"gridcolor\":\"white\",\"linecolor\":\"white\",\"ticks\":\"\"},\"baxis\":{\"gridcolor\":\"white\",\"linecolor\":\"white\",\"ticks\":\"\"},\"caxis\":{\"gridcolor\":\"white\",\"linecolor\":\"white\",\"ticks\":\"\"}},\"coloraxis\":{\"colorbar\":{\"outlinewidth\":0,\"ticks\":\"\"}},\"colorscale\":{\"sequential\":[[0.0,\"#0d0887\"],[0.1111111111111111,\"#46039f\"],[0.2222222222222222,\"#7201a8\"],[0.3333333333333333,\"#9c179e\"],[0.4444444444444444,\"#bd3786\"],[0.5555555555555556,\"#d8576b\"],[0.6666666666666666,\"#ed7953\"],[0.7777777777777778,\"#fb9f3a\"],[0.8888888888888888,\"#fdca26\"],[1.0,\"#f0f921\"]],\"sequentialminus\":[[0.0,\"#0d0887\"],[0.1111111111111111,\"#46039f\"],[0.2222222222222222,\"#7201a8\"],[0.3333333333333333,\"#9c179e\"],[0.4444444444444444,\"#bd3786\"],[0.5555555555555556,\"#d8576b\"],[0.6666666666666666,\"#ed7953\"],[0.7777777777777778,\"#fb9f3a\"],[0.8888888888888888,\"#fdca26\"],[1.0,\"#f0f921\"]],\"diverging\":[[0,\"#8e0152\"],[0.1,\"#c51b7d\"],[0.2,\"#de77ae\"],[0.3,\"#f1b6da\"],[0.4,\"#fde0ef\"],[0.5,\"#f7f7f7\"],[0.6,\"#e6f5d0\"],[0.7,\"#b8e186\"],[0.8,\"#7fbc41\"],[0.9,\"#4d9221\"],[1,\"#276419\"]]},\"xaxis\":{\"gridcolor\":\"white\",\"linecolor\":\"white\",\"ticks\":\"\",\"title\":{\"standoff\":15},\"zerolinecolor\":\"white\",\"automargin\":true,\"zerolinewidth\":2},\"yaxis\":{\"gridcolor\":\"white\",\"linecolor\":\"white\",\"ticks\":\"\",\"title\":{\"standoff\":15},\"zerolinecolor\":\"white\",\"automargin\":true,\"zerolinewidth\":2},\"scene\":{\"xaxis\":{\"backgroundcolor\":\"#E5ECF6\",\"gridcolor\":\"white\",\"linecolor\":\"white\",\"showbackground\":true,\"ticks\":\"\",\"zerolinecolor\":\"white\",\"gridwidth\":2},\"yaxis\":{\"backgroundcolor\":\"#E5ECF6\",\"gridcolor\":\"white\",\"linecolor\":\"white\",\"showbackground\":true,\"ticks\":\"\",\"zerolinecolor\":\"white\",\"gridwidth\":2},\"zaxis\":{\"backgroundcolor\":\"#E5ECF6\",\"gridcolor\":\"white\",\"linecolor\":\"white\",\"showbackground\":true,\"ticks\":\"\",\"zerolinecolor\":\"white\",\"gridwidth\":2}},\"shapedefaults\":{\"line\":{\"color\":\"#2a3f5f\"}},\"annotationdefaults\":{\"arrowcolor\":\"#2a3f5f\",\"arrowhead\":0,\"arrowwidth\":1},\"geo\":{\"bgcolor\":\"white\",\"landcolor\":\"#E5ECF6\",\"subunitcolor\":\"white\",\"showland\":true,\"showlakes\":true,\"lakecolor\":\"white\"},\"title\":{\"x\":0.05},\"mapbox\":{\"style\":\"light\"}}},\"scene\":{\"domain\":{\"x\":[0.0,1.0],\"y\":[0.0,1.0]},\"xaxis\":{\"title\":{\"text\":\"0\"}},\"yaxis\":{\"title\":{\"text\":\"1\"}},\"zaxis\":{\"title\":{\"text\":\"2\"}}},\"legend\":{\"title\":{\"text\":\"color\"},\"tracegroupgap\":0},\"margin\":{\"t\":60}},                        {\"responsive\": true}                    ).then(function(){\n",
       "                            \n",
       "var gd = document.getElementById('636acb01-12ae-481e-bad2-bd622f4f1c74');\n",
       "var x = new MutationObserver(function (mutations, observer) {{\n",
       "        var display = window.getComputedStyle(gd).display;\n",
       "        if (!display || display === 'none') {{\n",
       "            console.log([gd, 'removed!']);\n",
       "            Plotly.purge(gd);\n",
       "            observer.disconnect();\n",
       "        }}\n",
       "}});\n",
       "\n",
       "// Listen for the removal of the full notebook cells\n",
       "var notebookContainer = gd.closest('#notebook-container');\n",
       "if (notebookContainer) {{\n",
       "    x.observe(notebookContainer, {childList: true});\n",
       "}}\n",
       "\n",
       "// Listen for the clearing of the current output cell\n",
       "var outputEl = gd.closest('.output');\n",
       "if (outputEl) {{\n",
       "    x.observe(outputEl, {childList: true});\n",
       "}}\n",
       "\n",
       "                        })                };                });            </script>        </div>"
      ]
     },
     "metadata": {},
     "output_type": "display_data"
    }
   ],
   "source": [
    "plt=ex.scatter_3d(new[:100], x=0, y=1,z=2, color=word[:100])\n",
    "plt.show()"
   ]
  },
  {
   "cell_type": "markdown",
   "id": "c409ff32",
   "metadata": {},
   "source": [
    "    "
   ]
  },
  {
   "cell_type": "markdown",
   "id": "9700eea3",
   "metadata": {},
   "source": [
    "# 2. Use Google's Pretrained Word2Vec Model"
   ]
  },
  {
   "cell_type": "markdown",
   "id": "83a620c4",
   "metadata": {},
   "source": [
    "**`word2vec-google-news-300`** is a pre-trained Word2Vec model that was trained on a massive dataset of Google News articles. The model contains 300-dimensional word vectors for over 3 million words and phrases.\n",
    "\n",
    "The training data for this model consists of about 100 billion words from news articles published between 2006 and 2013. The Word2Vec algorithm was used to learn word embeddings, which are dense vector representations of words that capture their semantic meaning."
   ]
  },
  {
   "cell_type": "code",
   "execution_count": null,
   "id": "7bc2c756",
   "metadata": {},
   "outputs": [],
   "source": [
    "import gensim.downloader as api\n",
    "\n",
    "# Load the Google News pre-trained Word2Vec model\n",
    "model = api.load('word2vec-google-news-300')\n",
    "\n",
    "# Get the word vector for a given word\n",
    "vector = model['apple']\n",
    "print(vector)\n"
   ]
  },
  {
   "cell_type": "markdown",
   "id": "d9b0130d",
   "metadata": {},
   "source": [
    "In this case, each word is a 300 dimentional vector."
   ]
  },
  {
   "cell_type": "markdown",
   "id": "46979996",
   "metadata": {},
   "source": [
    "### Note: This is a 1.5Gb Model. "
   ]
  }
 ],
 "metadata": {
  "kernelspec": {
   "display_name": "Python 3 (ipykernel)",
   "language": "python",
   "name": "python3"
  },
  "language_info": {
   "codemirror_mode": {
    "name": "ipython",
    "version": 3
   },
   "file_extension": ".py",
   "mimetype": "text/x-python",
   "name": "python",
   "nbconvert_exporter": "python",
   "pygments_lexer": "ipython3",
   "version": "3.9.13"
  }
 },
 "nbformat": 4,
 "nbformat_minor": 5
}
